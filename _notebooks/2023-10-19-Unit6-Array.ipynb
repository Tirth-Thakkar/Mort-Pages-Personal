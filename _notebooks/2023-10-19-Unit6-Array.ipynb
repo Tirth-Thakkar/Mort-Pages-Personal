{
 "cells": [
  {
   "cell_type": "markdown",
   "metadata": {},
   "source": [
    "---\n",
    "toc: true\n",
    "comments: true\n",
    "layout: post\n",
    "title: Unit 6 Arrays - Teacher notebook\n",
    "description:  Lesson on the College Board Unit 6 Arrays. This is the teacher notebook.\n",
    "courses: { compsci: {week: 1} }\n",
    "type: hacks\n",
    "---"
   ]
  },
  {
   "cell_type": "markdown",
   "metadata": {},
   "source": [
    "## Intro into Arrays\n",
    "\n",
    "- An **array** is a data structure used to implement a collection (list) of primitive or object reference data.\n",
    "\n",
    "- An **element** is a single value in the **array**\n",
    "\n",
    "- The __**index**__ of an **element** is the position of the element in the **array**\n",
    "\n",
    "    - In java, the **first element** of an array is at **index 0**.\n",
    "\n",
    "- The **length** of an **array** is the number of elements in the array.\n",
    "\n",
    "    - **`length`** is a `public final` data member of an array\n",
    "\n",
    "        - Since `length` is `public`, we can access it in **any class**!\n",
    "\n",
    "        - Since `length` is `final` we cannot change an array's `length` after it has been created\n",
    "    - In Java, the **last element** of an array named `list` is at **index** `list.length -1`"
   ]
  },
  {
   "cell_type": "markdown",
   "metadata": {},
   "source": [
    "## A look into list Memory\n",
    "`int [] listOne = new int[5];`\n",
    "\n",
    "This will allocate a space in memory for 5 integers.\n",
    "\n",
    "```\n",
    "ARRAY: [0, 0, 0, 0, 0]\n",
    "INDEX:  0  1  2  3  4\n",
    "```\n",
    "\n",
    "Using the keyword new uses the default values for the data type. The default values are as follows:\n",
    "\n",
    "| Data Type | Default Value |\n",
    "| --------- | ------------- |\n",
    "| byte      | (byte) 0      |\n",
    "| short     | (short) 0     |\n",
    "| int       | 0             |\n",
    "| double    | 0.0           |\n",
    "| boolean   | false         |\n",
    "| char      | '\\u0000'      |\n",
    "\n",
    "What do we do if we want to insert a value into the array?\n",
    "\n",
    "`listOne[0] = 5;`\n",
    "\n",
    "Gives us the following array:\n",
    "\n",
    "```\n",
    "ARRAY: [0, 0, 0, 0, 0]\n",
    "INDEX:  0  1  2  3  4\n",
    "```\n",
    "\n",
    "What if we want to initialize our own values? We can use an initializer list!\n",
    "\n",
    "`int [] listTwo = {1, 2, 3, 4, 5};`\n",
    "\n",
    "Gives us the following array:\n",
    "\n",
    "```\n",
    "ARRAY: [1, 2, 3, 4, 5]\n",
    "INDEX:  0  1  2  3  4\n",
    "```\n",
    "\n",
    "If we try to access an index outside of the range of existing indexes, we will get an error. But why? Remember the basis of all programming languages is memory. Because we are trying to access a location in memory that does not exist, java will throw an error (`ArrayIndexOutOfBoundsException`).\n",
    "\n",
    "How do we print the array? Directly printing the array will not work, it just prints the value of the array in memory. We need to iterate through the array and print each value individually!"
   ]
  },
  {
   "cell_type": "code",
   "execution_count": 1,
   "metadata": {
    "vscode": {
     "languageId": "java"
    }
   },
   "outputs": [
    {
     "name": "stdout",
     "output_type": "stream",
     "text": [
      "Error at listOne[5] = 13\n",
      "ArrayIndexOutOfBoundsException: We can't access a memory index that doesn't exist!\n",
      "[I@314b8461\n",
      "0\n"
     ]
    }
   ],
   "source": [
    "/* lets take a look at the above */\n",
    "\n",
    "int [] listOne = new int[5]; // Our list looks like [0, 0, 0, 0, 0]\n",
    "\n",
    "listOne[2] = 33; // Our list looks like [0, 0, 33, 0, 0]\n",
    "listOne[3] = listOne[2] * 3; // Our list looks like [0, 0, 33, 99, 0]\n",
    "\n",
    "try {\n",
    "    listOne[5] = 13; // This will return an error\n",
    "} catch (Exception e) {\n",
    "    System.out.println(\"Error at listOne[5] = 13\");\n",
    "    System.out.println(\"ArrayIndexOutOfBoundsException: We can't access a memory index that doesn't exist!\");\n",
    "}\n",
    "\n",
    "\n",
    "System.out.println(listOne); // THIS DOES NOT PRINT THE LIST!! It prints the value in memory\n",
    "System.out.println(listOne[4]); // This will actually print the vaules in the array"
   ]
  },
  {
   "cell_type": "markdown",
   "metadata": {},
   "source": [
    "## Popcorn Hacks!\n",
    "\n",
    "Write code to print out every element of listOne the following"
   ]
  },
  {
   "cell_type": "code",
   "execution_count": 2,
   "metadata": {
    "vscode": {
     "languageId": "java"
    }
   },
   "outputs": [
    {
     "name": "stdout",
     "output_type": "stream",
     "text": [
      "0\n",
      "0\n",
      "33\n",
      "99\n",
      "0\n"
     ]
    }
   ],
   "source": [
    "/* popcorn hacks go here */\n",
    "\n",
    "for (int i = 0; i < listOne.length; i++) {\n",
    "    System.out.println(listOne[i]);\n",
    "}"
   ]
  },
  {
   "cell_type": "markdown",
   "metadata": {},
   "source": [
    "## Reference elements\n",
    "\n",
    "Lists can be made up of elements other than the default data types! We can make lists of objects, or even lists of lists! Lets say I have a class `Student` and I want to make a list of all students in the class. I can do this by creating a list of `Student` objects.\n",
    "\n",
    "```\n",
    "Student [] classList;\n",
    "classList new Student [3];\n",
    "```\n",
    "\n",
    "Keep in mind, however, that the list won't be generated with any students in it. They are initialized to `null` by default, and We need to create the students and then add them to the list ourselves.\n",
    "\n",
    "```\n",
    "classList[0] = new Student(\"Bob\", 12, 3.5);\n",
    "classList[1] = new Student(\"John\", 11, 4.0);\n",
    "classList[2] = new Student(\"Steve\", 10, 3.75);\n",
    "```"
   ]
  },
  {
   "cell_type": "markdown",
   "metadata": {},
   "source": [
    "## Popcorn hacks!\n",
    "\n",
    "Use a class that you have already created and create a list of objects of that class. Then, iterate through the list and print out each object using:\n",
    " 1) a for loop\n",
    " 2) a while loop"
   ]
  },
  {
   "cell_type": "code",
   "execution_count": 6,
   "metadata": {
    "vscode": {
     "languageId": "java"
    }
   },
   "outputs": [
    {
     "name": "stdout",
     "output_type": "stream",
     "text": [
      "Name: Bob, Age: 15, Grade: 10\n",
      "Name: Sally, Age: 16, Grade: 11\n",
      "Name: Joe, Age: 17, Grade: 12\n"
     ]
    }
   ],
   "source": [
    "/* Popcorn hacks go here */\n",
    "class Student {\n",
    "    private String age;\n",
    "    private String name;\n",
    "    private int grade;\n",
    "\n",
    "    public Student(String age, String name, int grade) {\n",
    "        this.age = age;\n",
    "        this.name = name;\n",
    "        this.grade = grade;\n",
    "    }\n",
    "\n",
    "    @Override\n",
    "    public String toString() {\n",
    "        return \"Name: \" + name + \", Age: \" + age + \", Grade: \" + grade;\n",
    "    }\n",
    "\n",
    "    public static void main(String[] args) {\n",
    "        Student[] listOne = {\n",
    "            new Student(\"15\", \"Bob\", 10),\n",
    "            new Student(\"16\", \"Sally\", 11),\n",
    "            new Student(\"17\", \"Joe\", 12)\n",
    "        };\n",
    "\n",
    "        for (int i = 0; i < listOne.length; i++) {\n",
    "            System.out.println(listOne[i]);\n",
    "        }\n",
    "    }\n",
    "}\n",
    "\n",
    "\n",
    "Student.main(null);"
   ]
  },
  {
   "cell_type": "markdown",
   "metadata": {},
   "source": [
    "## Enhanced for loops\n",
    "\n",
    "The enhanced `for` loop is also called a for-each loop. Unlike a \"traditional\" indexed `for` loop with three parts separated by semicolons, there are only two parts to the enhanced `for` loop header and they are separated by a colon.\n",
    "\n",
    "The first half of an enhanced `for` loop signature is the type of name for the variable that is a copy of the value stored in the structure. Next a colon separates the variable section from the data structure being traversed with the loop.\n",
    "\n",
    "Inside the body of the loop you are able to access the value stored in the variable. A key point to remember is that you are unable to assign into the variable defined in the header (the signature)\n",
    "\n",
    "You also do not have access to the indices of the array or subscript notation when using the enhanced `for` loop.\n",
    "\n",
    "These loops have a structure similar to the one shown below:\n",
    "\n",
    "```js\n",
    "for (type declaration : structure )\n",
    "{\n",
    "    // statement one;\n",
    "    // statement two;\n",
    "    // ...\n",
    "}\n",
    "```\n",
    "\n",
    "## Popcorn Hacks!\n",
    "\n",
    "Create an array, then use a enhanced for loop to print out each element of the array."
   ]
  },
  {
   "cell_type": "code",
   "execution_count": 8,
   "metadata": {
    "vscode": {
     "languageId": "java"
    }
   },
   "outputs": [
    {
     "name": "stdout",
     "output_type": "stream",
     "text": [
      "1\n",
      "2\n",
      "3\n",
      "4\n",
      "5\n",
      "6\n",
      "7\n",
      "8\n",
      "9\n",
      "10\n"
     ]
    }
   ],
   "source": [
    "/* Popcorn hacks go here */\n",
    "\n",
    "int[] array = {1, 2, 3, 4, 5, 6, 7, 8, 9, 10};\n",
    "\n",
    "// Enhanced for loop\n",
    "\n",
    "for (int i : array) {\n",
    "    System.out.println(i);\n",
    "}"
   ]
  },
  {
   "cell_type": "markdown",
   "metadata": {},
   "source": [
    "## Min maxing\n",
    "\n",
    "It is a common task to determine what the largest or smallest value stored is inside an array. in order to do this, we need a method that can ake a parameter of an array of primitive values (`int` or `double`) and return the item that is at the appropriate extreme.\n",
    "\n",
    "Inside the method of a local variable is needed to store the current max of min value that will be compared against all the values in the array. you can assign the current value to be either the opposite extreme or the first item you would be looking at.\n",
    "\n",
    "You can use either a standard `for` loop or an enhanced `for` loop to determine the max or min. Assign the temporary variable a starting value based on what extreme you are searching for.\n",
    "\n",
    "Inside the `for` loop, compare the current value against the local variable, if the current value is better, assign it to the temporary variable. When the loop is over, the local variable will contain the approximate value and is still available and within scope and can be returned from the method.\n",
    "\n",
    "## Popcorn Hacks!\n",
    "Create two lists: one of ints and one of doubles. Use both a standard for loop and an enhanced for loop to find the max and min of each list."
   ]
  },
  {
   "cell_type": "code",
   "execution_count": 1,
   "metadata": {
    "vscode": {
     "languageId": "java"
    }
   },
   "outputs": [
    {
     "name": "stdout",
     "output_type": "stream",
     "text": [
      "Int List Min: 1\n",
      "Int List Max: 10\n",
      "Int List Min (enhanced for loop): 1\n",
      "Int List Max (enhanced for loop): 10\n",
      "Double List Min: 1.1\n",
      "Double List Max: 10.0\n",
      "Double List Min (enhanced for loop): 1.1\n",
      "Double List Max (enhanced for loop): 10.0\n"
     ]
    }
   ],
   "source": [
    "/* Popcorn hacks go here! */\n",
    "\n",
    "/* Popcorn hacks go here! */\n",
    "\n",
    "int[] intList = {1, 2, 3, 4, 5, 6, 7, 8, 9, 10};\n",
    "double[] doubleList = {1.1, 2.2, 3.3, 4.4, 5.5, 6.6, 7.7, 8.8, 9.9, 10.0};\n",
    "\n",
    "// Standard for loop for finding min and max values of intList\n",
    "int intMin = intList[0];\n",
    "int intMax = intList[0];\n",
    "for (int i = 1; i < intList.length; i++) {\n",
    "    if (intList[i] < intMin) {\n",
    "        intMin = intList[i];\n",
    "    }\n",
    "    if (intList[i] > intMax) {\n",
    "        intMax = intList[i];\n",
    "    }\n",
    "}\n",
    "System.out.println(\"Int List Min: \" + intMin);\n",
    "System.out.println(\"Int List Max: \" + intMax);\n",
    "\n",
    "// Enhanced for loop for finding min and max values of intList\n",
    "int intMin2 = intList[0];\n",
    "int intMax2 = intList[0];\n",
    "for (int i : intList) {\n",
    "    if (i < intMin2) {\n",
    "        intMin2 = i;\n",
    "    }\n",
    "    if (i > intMax2) {\n",
    "        intMax2 = i;\n",
    "    }\n",
    "}\n",
    "System.out.println(\"Int List Min (enhanced for loop): \" + intMin2);\n",
    "System.out.println(\"Int List Max (enhanced for loop): \" + intMax2);\n",
    "\n",
    "// Enhanced for loop for finding min and max values of doubleList\n",
    "double doubleMin = doubleList[0];\n",
    "double doubleMax = doubleList[0];\n",
    "for (double d : doubleList) {\n",
    "    if (d < doubleMin) {\n",
    "        doubleMin = d;\n",
    "    }\n",
    "    if (d > doubleMax) {\n",
    "        doubleMax = d;\n",
    "    }\n",
    "}\n",
    "System.out.println(\"Double List Min: \" + doubleMin);\n",
    "System.out.println(\"Double List Max: \" + doubleMax);\n",
    "\n",
    "// Standard for loop for finding min and max values of doubleList\n",
    "double doubleMin2 = doubleList[0];\n",
    "double doubleMax2 = doubleList[0];\n",
    "for (int i = 1; i < doubleList.length; i++) {\n",
    "    if (doubleList[i] < doubleMin2) {\n",
    "        doubleMin2 = doubleList[i];\n",
    "    }\n",
    "    if (doubleList[i] > doubleMax2) {\n",
    "        doubleMax2 = doubleList[i];\n",
    "    }\n",
    "}\n",
    "\n",
    "System.out.println(\"Double List Min (enhanced for loop): \" + doubleMin2);\n",
    "System.out.println(\"Double List Max (enhanced for loop): \" + doubleMax2);"
   ]
  },
  {
   "cell_type": "markdown",
   "metadata": {},
   "source": [
    "## Hacks \n",
    "\n",
    "Given an input of N integers, find A, the maximum, B, the minimum, and C the median.\n",
    "\n",
    "Print the following in this order: A + B + C A - B - C (A + B) * C\n",
    "\n",
    "Sample data:\n",
    "\n",
    "INPUT: 5 1 2 3 4 5\n",
    "\n",
    "OUTPUT: 9 1 18\n",
    "\n",
    "INPUT: 9 2 4 6 8 10 10 12 14 16\n",
    "\n",
    "OUTPUT: 28 6 180<br> For extra, create your own fun program using an array"
   ]
  },
  {
   "cell_type": "code",
   "execution_count": 8,
   "metadata": {
    "vscode": {
     "languageId": "java"
    }
   },
   "outputs": [
    {
     "name": "stdout",
     "output_type": "stream",
     "text": [
      "Enter the elements of the array (type 'stop' to end input):\n"
     ]
    },
    {
     "name": "stdout",
     "output_type": "stream",
     "text": [
      "Min: 1\n",
      "Max: 6\n",
      "Median: 3\n",
      "Output: 10 2 21\n"
     ]
    }
   ],
   "source": [
    "import java.util.Arrays;\n",
    "import java.util.Scanner;\n",
    "\n",
    "public class Main {\n",
    "    public static void main(String[] args) {\n",
    "        Scanner scanner = new Scanner(System.in);\n",
    "\n",
    "        // Read the input values from the user\n",
    "        System.out.println(\"Enter the elements of the array (type 'stop' to end input):\");\n",
    "        int[] arr = new int[0];\n",
    "        while (true) {\n",
    "            String input = scanner.next();\n",
    "            if (input.equals(\"stop\")) {\n",
    "                break;\n",
    "            }\n",
    "            int[] newArr = new int[arr.length + 1];\n",
    "            for (int i = 0; i < arr.length; i++) {\n",
    "                newArr[i] = arr[i];\n",
    "            }\n",
    "            newArr[arr.length] = Integer.parseInt(input);\n",
    "            arr = newArr;\n",
    "        }\n",
    "\n",
    "        // Sort the input values in ascending order\n",
    "        Arrays.sort(arr);\n",
    "\n",
    "        // Calculate the maximum, minimum, and median values\n",
    "        int max = arr[arr.length - 1];\n",
    "        int min = arr[0];\n",
    "        int median;\n",
    "        if (arr.length % 2 == 0) {\n",
    "            median = (arr[arr.length / 2] + arr[arr.length / 2 - 1]) / 2;\n",
    "        } else {\n",
    "            median = arr[arr.length / 2];\n",
    "        }\n",
    "\n",
    "        // Print the required output\n",
    "        System.out.println(\"Min: \" + min);\n",
    "        System.out.println(\"Max: \" + max);\n",
    "        System.out.println(\"Median: \" + median);\n",
    "        System.out.println(\"Output: \" + (max + min + median) + \" \" + (max - min - median) + \" \" + (max + min) * median);\n",
    "    }\n",
    "}\n",
    "\n",
    "Main.main(null)"
   ]
  },
  {
   "cell_type": "code",
   "execution_count": 10,
   "metadata": {
    "vscode": {
     "languageId": "java"
    }
   },
   "outputs": [
    {
     "name": "stdout",
     "output_type": "stream",
     "text": [
      "Welcome to Rock-Paper-Scissors!\n",
      "Enter your move (rock, paper, or scissors):\n"
     ]
    },
    {
     "name": "stdout",
     "output_type": "stream",
     "text": [
      "Computer played rock\n",
      "You win!\n"
     ]
    }
   ],
   "source": [
    "import java.util.Random;\n",
    "import java.util.Scanner;\n",
    "\n",
    "public class RockPaperScissors {\n",
    "    public static void main(String[] args) {\n",
    "        Scanner scanner = new Scanner(System.in);\n",
    "        Random random = new Random();\n",
    "\n",
    "        String[] moves = {\"rock\", \"paper\", \"scissors\"}; // Array wow!\n",
    "\n",
    "        System.out.println(\"Welcome to Rock-Paper-Scissors!\");\n",
    "        System.out.println(\"Enter your move (rock, paper, or scissors):\");\n",
    "        String playerMove = scanner.nextLine().toLowerCase();\n",
    "\n",
    "        int computerIndex = random.nextInt(3);\n",
    "        String computerMove = moves[computerIndex];\n",
    "\n",
    "        System.out.println(\"Computer played \" + computerMove);\n",
    "\n",
    "        if (playerMove.equals(computerMove)) {\n",
    "            System.out.println(\"It's a tie!\");\n",
    "        } else if ((playerMove.equals(\"rock\") && computerMove.equals(\"scissors\")) ||\n",
    "                   (playerMove.equals(\"paper\") && computerMove.equals(\"rock\")) ||\n",
    "                   (playerMove.equals(\"scissors\") && computerMove.equals(\"paper\"))) {\n",
    "            System.out.println(\"You win!\");\n",
    "        } else {\n",
    "            System.out.println(\"Computer wins!\");\n",
    "        }\n",
    "    }\n",
    "}\n",
    "\n",
    "RockPaperScissors.main(null)"
   ]
  }
 ],
 "metadata": {
  "kernelspec": {
   "display_name": "Java",
   "language": "java",
   "name": "java"
  },
  "language_info": {
   "codemirror_mode": "java",
   "file_extension": ".jshell",
   "mimetype": "text/x-java-source",
   "name": "Java",
   "pygments_lexer": "java",
   "version": "21+35-LTS-2513"
  },
  "orig_nbformat": 4
 },
 "nbformat": 4,
 "nbformat_minor": 2
}
