{
 "cells": [
  {
   "cell_type": "markdown",
   "metadata": {},
   "source": [
    "---\n",
    "toc: false\n",
    "comments: true\n",
    "layout: post\n",
    "title: Stats Project Data\n",
    "description: Stats Data Analysis\n",
    "---"
   ]
  },
  {
   "cell_type": "code",
   "execution_count": 14,
   "metadata": {},
   "outputs": [
    {
     "ename": "KeyError",
     "evalue": "'Do you currently use an iPhone?'",
     "output_type": "error",
     "traceback": [
      "\u001b[0;31m---------------------------------------------------------------------------\u001b[0m",
      "\u001b[0;31mKeyError\u001b[0m                                  Traceback (most recent call last)",
      "File \u001b[0;32m~/anaconda3/lib/python3.9/site-packages/pandas/core/indexes/base.py:3621\u001b[0m, in \u001b[0;36mIndex.get_loc\u001b[0;34m(self, key, method, tolerance)\u001b[0m\n\u001b[1;32m   3620\u001b[0m \u001b[39mtry\u001b[39;00m:\n\u001b[0;32m-> 3621\u001b[0m     \u001b[39mreturn\u001b[39;00m \u001b[39mself\u001b[39;49m\u001b[39m.\u001b[39;49m_engine\u001b[39m.\u001b[39;49mget_loc(casted_key)\n\u001b[1;32m   3622\u001b[0m \u001b[39mexcept\u001b[39;00m \u001b[39mKeyError\u001b[39;00m \u001b[39mas\u001b[39;00m err:\n",
      "File \u001b[0;32m~/anaconda3/lib/python3.9/site-packages/pandas/_libs/index.pyx:136\u001b[0m, in \u001b[0;36mpandas._libs.index.IndexEngine.get_loc\u001b[0;34m()\u001b[0m\n",
      "File \u001b[0;32m~/anaconda3/lib/python3.9/site-packages/pandas/_libs/index.pyx:163\u001b[0m, in \u001b[0;36mpandas._libs.index.IndexEngine.get_loc\u001b[0;34m()\u001b[0m\n",
      "File \u001b[0;32mpandas/_libs/hashtable_class_helper.pxi:5198\u001b[0m, in \u001b[0;36mpandas._libs.hashtable.PyObjectHashTable.get_item\u001b[0;34m()\u001b[0m\n",
      "File \u001b[0;32mpandas/_libs/hashtable_class_helper.pxi:5206\u001b[0m, in \u001b[0;36mpandas._libs.hashtable.PyObjectHashTable.get_item\u001b[0;34m()\u001b[0m\n",
      "\u001b[0;31mKeyError\u001b[0m: 'Do you currently use an iPhone?'",
      "\nThe above exception was the direct cause of the following exception:\n",
      "\u001b[0;31mKeyError\u001b[0m                                  Traceback (most recent call last)",
      "\u001b[1;32m/home/tirth/vscode/Mort-Pages-Personal/_notebooks/2023-10-21-SatsDataAnalysis.ipynb Cell 2\u001b[0m line \u001b[0;36m<cell line: 23>\u001b[0;34m()\u001b[0m\n\u001b[1;32m     <a href='vscode-notebook-cell://wsl%2Bubuntu/home/tirth/vscode/Mort-Pages-Personal/_notebooks/2023-10-21-SatsDataAnalysis.ipynb#W2sdnNjb2RlLXJlbW90ZQ%3D%3D?line=18'>19</a>\u001b[0m     non_iphone_users_no_buy_percentage \u001b[39m=\u001b[39m \u001b[39m1\u001b[39m \u001b[39m-\u001b[39m non_iphone_users_buy_percentage\n\u001b[1;32m     <a href='vscode-notebook-cell://wsl%2Bubuntu/home/tirth/vscode/Mort-Pages-Personal/_notebooks/2023-10-21-SatsDataAnalysis.ipynb#W2sdnNjb2RlLXJlbW90ZQ%3D%3D?line=20'>21</a>\u001b[0m     \u001b[39mprint\u001b[39m(iphone_users_buy_percentage, iphone_users_no_buy_percentage, non_iphone_users_buy_percentage, non_iphone_users_no_buy_percentage)\n\u001b[0;32m---> <a href='vscode-notebook-cell://wsl%2Bubuntu/home/tirth/vscode/Mort-Pages-Personal/_notebooks/2023-10-21-SatsDataAnalysis.ipynb#W2sdnNjb2RlLXJlbW90ZQ%3D%3D?line=22'>23</a>\u001b[0m performAnalysis(\u001b[39m\"\u001b[39;49m\u001b[39m/home/tirth/vscode/Mort-Pages-Personal/_data/CSV_Stats_Data/UnbiasSurvey.csv\u001b[39;49m\u001b[39m\"\u001b[39;49m)\n",
      "\u001b[1;32m/home/tirth/vscode/Mort-Pages-Personal/_notebooks/2023-10-21-SatsDataAnalysis.ipynb Cell 2\u001b[0m line \u001b[0;36mperformAnalysis\u001b[0;34m(csv)\u001b[0m\n\u001b[1;32m      <a href='vscode-notebook-cell://wsl%2Bubuntu/home/tirth/vscode/Mort-Pages-Personal/_notebooks/2023-10-21-SatsDataAnalysis.ipynb#W2sdnNjb2RlLXJlbW90ZQ%3D%3D?line=4'>5</a>\u001b[0m df \u001b[39m=\u001b[39m pd\u001b[39m.\u001b[39mread_csv(csv)\n\u001b[1;32m      <a href='vscode-notebook-cell://wsl%2Bubuntu/home/tirth/vscode/Mort-Pages-Personal/_notebooks/2023-10-21-SatsDataAnalysis.ipynb#W2sdnNjb2RlLXJlbW90ZQ%3D%3D?line=6'>7</a>\u001b[0m \u001b[39m# Correct column names\u001b[39;00m\n\u001b[0;32m----> <a href='vscode-notebook-cell://wsl%2Bubuntu/home/tirth/vscode/Mort-Pages-Personal/_notebooks/2023-10-21-SatsDataAnalysis.ipynb#W2sdnNjb2RlLXJlbW90ZQ%3D%3D?line=7'>8</a>\u001b[0m iphone_users \u001b[39m=\u001b[39m df[df[\u001b[39m'\u001b[39;49m\u001b[39mDo you currently use an iPhone?\u001b[39;49m\u001b[39m'\u001b[39;49m]]\n\u001b[1;32m      <a href='vscode-notebook-cell://wsl%2Bubuntu/home/tirth/vscode/Mort-Pages-Personal/_notebooks/2023-10-21-SatsDataAnalysis.ipynb#W2sdnNjb2RlLXJlbW90ZQ%3D%3D?line=8'>9</a>\u001b[0m non_iphone_users \u001b[39m=\u001b[39m df[df[\u001b[39m'\u001b[39m\u001b[39mDo you currently use an iPhone?\u001b[39m\u001b[39m'\u001b[39m]]\n\u001b[1;32m     <a href='vscode-notebook-cell://wsl%2Bubuntu/home/tirth/vscode/Mort-Pages-Personal/_notebooks/2023-10-21-SatsDataAnalysis.ipynb#W2sdnNjb2RlLXJlbW90ZQ%3D%3D?line=10'>11</a>\u001b[0m \u001b[39m# Quantity of users who would buy a new iPhone\u001b[39;00m\n",
      "File \u001b[0;32m~/anaconda3/lib/python3.9/site-packages/pandas/core/frame.py:3505\u001b[0m, in \u001b[0;36mDataFrame.__getitem__\u001b[0;34m(self, key)\u001b[0m\n\u001b[1;32m   3503\u001b[0m \u001b[39mif\u001b[39;00m \u001b[39mself\u001b[39m\u001b[39m.\u001b[39mcolumns\u001b[39m.\u001b[39mnlevels \u001b[39m>\u001b[39m \u001b[39m1\u001b[39m:\n\u001b[1;32m   3504\u001b[0m     \u001b[39mreturn\u001b[39;00m \u001b[39mself\u001b[39m\u001b[39m.\u001b[39m_getitem_multilevel(key)\n\u001b[0;32m-> 3505\u001b[0m indexer \u001b[39m=\u001b[39m \u001b[39mself\u001b[39;49m\u001b[39m.\u001b[39;49mcolumns\u001b[39m.\u001b[39;49mget_loc(key)\n\u001b[1;32m   3506\u001b[0m \u001b[39mif\u001b[39;00m is_integer(indexer):\n\u001b[1;32m   3507\u001b[0m     indexer \u001b[39m=\u001b[39m [indexer]\n",
      "File \u001b[0;32m~/anaconda3/lib/python3.9/site-packages/pandas/core/indexes/base.py:3623\u001b[0m, in \u001b[0;36mIndex.get_loc\u001b[0;34m(self, key, method, tolerance)\u001b[0m\n\u001b[1;32m   3621\u001b[0m     \u001b[39mreturn\u001b[39;00m \u001b[39mself\u001b[39m\u001b[39m.\u001b[39m_engine\u001b[39m.\u001b[39mget_loc(casted_key)\n\u001b[1;32m   3622\u001b[0m \u001b[39mexcept\u001b[39;00m \u001b[39mKeyError\u001b[39;00m \u001b[39mas\u001b[39;00m err:\n\u001b[0;32m-> 3623\u001b[0m     \u001b[39mraise\u001b[39;00m \u001b[39mKeyError\u001b[39;00m(key) \u001b[39mfrom\u001b[39;00m \u001b[39merr\u001b[39;00m\n\u001b[1;32m   3624\u001b[0m \u001b[39mexcept\u001b[39;00m \u001b[39mTypeError\u001b[39;00m:\n\u001b[1;32m   3625\u001b[0m     \u001b[39m# If we have a listlike key, _check_indexing_error will raise\u001b[39;00m\n\u001b[1;32m   3626\u001b[0m     \u001b[39m#  InvalidIndexError. Otherwise we fall through and re-raise\u001b[39;00m\n\u001b[1;32m   3627\u001b[0m     \u001b[39m#  the TypeError.\u001b[39;00m\n\u001b[1;32m   3628\u001b[0m     \u001b[39mself\u001b[39m\u001b[39m.\u001b[39m_check_indexing_error(key)\n",
      "\u001b[0;31mKeyError\u001b[0m: 'Do you currently use an iPhone?'"
     ]
    }
   ],
   "source": [
    "import pandas as pd\n",
    "import matplotlib.pyplot as plt\n",
    "\n",
    "def performAnalysis(csv):\n",
    "    df = pd.read_csv(csv)\n",
    "    \n",
    "    # Correct column names\n",
    "    iphone_users = df[df['Do you currently use an iPhone?']]\n",
    "    non_iphone_users = df[df['Do you currently use an iPhone?']]\n",
    "\n",
    "    # Quantity of users who would buy a new iPhone\n",
    "    iphone_users_buy = iphone_users[iphone_users['Would you buy a new iPhone?']]\n",
    "    non_iphone_users_buy = non_iphone_users[non_iphone_users['Would you buy a new iPhone?']]\n",
    "\n",
    "    # Percentage Calculations\n",
    "    iphone_users_buy_percentage = len(iphone_users_buy)/len(iphone_users)\n",
    "    iphone_users_no_buy_percentage = 1 - iphone_users_buy_percentage\n",
    "    non_iphone_users_buy_percentage = len(non_iphone_users_buy)/len(non_iphone_users)\n",
    "    non_iphone_users_no_buy_percentage = 1 - non_iphone_users_buy_percentage\n",
    "\n",
    "    print(iphone_users_buy_percentage, iphone_users_no_buy_percentage, non_iphone_users_buy_percentage, non_iphone_users_no_buy_percentage)\n",
    "\n",
    "performAnalysis(\"/home/tirth/vscode/Mort-Pages-Personal/_data/CSV_Stats_Data/UnbiasSurvey.csv\")\n"
   ]
  },
  {
   "cell_type": "code",
   "execution_count": 2,
   "metadata": {},
   "outputs": [
    {
     "ename": "KeyError",
     "evalue": "'Do you currently use an iPhone?'",
     "output_type": "error",
     "traceback": [
      "\u001b[0;31m---------------------------------------------------------------------------\u001b[0m",
      "\u001b[0;31mKeyError\u001b[0m                                  Traceback (most recent call last)",
      "File \u001b[0;32m~/anaconda3/lib/python3.9/site-packages/pandas/core/indexes/base.py:3621\u001b[0m, in \u001b[0;36mIndex.get_loc\u001b[0;34m(self, key, method, tolerance)\u001b[0m\n\u001b[1;32m   3620\u001b[0m \u001b[39mtry\u001b[39;00m:\n\u001b[0;32m-> 3621\u001b[0m     \u001b[39mreturn\u001b[39;00m \u001b[39mself\u001b[39;49m\u001b[39m.\u001b[39;49m_engine\u001b[39m.\u001b[39;49mget_loc(casted_key)\n\u001b[1;32m   3622\u001b[0m \u001b[39mexcept\u001b[39;00m \u001b[39mKeyError\u001b[39;00m \u001b[39mas\u001b[39;00m err:\n",
      "File \u001b[0;32m~/anaconda3/lib/python3.9/site-packages/pandas/_libs/index.pyx:136\u001b[0m, in \u001b[0;36mpandas._libs.index.IndexEngine.get_loc\u001b[0;34m()\u001b[0m\n",
      "File \u001b[0;32m~/anaconda3/lib/python3.9/site-packages/pandas/_libs/index.pyx:163\u001b[0m, in \u001b[0;36mpandas._libs.index.IndexEngine.get_loc\u001b[0;34m()\u001b[0m\n",
      "File \u001b[0;32mpandas/_libs/hashtable_class_helper.pxi:5198\u001b[0m, in \u001b[0;36mpandas._libs.hashtable.PyObjectHashTable.get_item\u001b[0;34m()\u001b[0m\n",
      "File \u001b[0;32mpandas/_libs/hashtable_class_helper.pxi:5206\u001b[0m, in \u001b[0;36mpandas._libs.hashtable.PyObjectHashTable.get_item\u001b[0;34m()\u001b[0m\n",
      "\u001b[0;31mKeyError\u001b[0m: 'Do you currently use an iPhone?'",
      "\nThe above exception was the direct cause of the following exception:\n",
      "\u001b[0;31mKeyError\u001b[0m                                  Traceback (most recent call last)",
      "\u001b[1;32m/home/tirth/vscode/Mort-Pages-Personal/_notebooks/2023-10-21-SatsDataAnalysis.ipynb Cell 3\u001b[0m line \u001b[0;36m<cell line: 55>\u001b[0;34m()\u001b[0m\n\u001b[1;32m     <a href='vscode-notebook-cell://wsl%2Bubuntu/home/tirth/vscode/Mort-Pages-Personal/_notebooks/2023-10-21-SatsDataAnalysis.ipynb#W4sdnNjb2RlLXJlbW90ZQ%3D%3D?line=51'>52</a>\u001b[0m     plt\u001b[39m.\u001b[39mshow()\n\u001b[1;32m     <a href='vscode-notebook-cell://wsl%2Bubuntu/home/tirth/vscode/Mort-Pages-Personal/_notebooks/2023-10-21-SatsDataAnalysis.ipynb#W4sdnNjb2RlLXJlbW90ZQ%3D%3D?line=53'>54</a>\u001b[0m \u001b[39m# Replace \"sample.csv\" with the actual path to your CSV file, and \"plot.png\" with the desired save path and filename\u001b[39;00m\n\u001b[0;32m---> <a href='vscode-notebook-cell://wsl%2Bubuntu/home/tirth/vscode/Mort-Pages-Personal/_notebooks/2023-10-21-SatsDataAnalysis.ipynb#W4sdnNjb2RlLXJlbW90ZQ%3D%3D?line=54'>55</a>\u001b[0m performAnalysis(\u001b[39m\"\u001b[39;49m\u001b[39m/home/tirth/vscode/Mort-Pages-Personal/_data/CSV_Stats_Data/UnbiasSurvey.csv\u001b[39;49m\u001b[39m\"\u001b[39;49m, \u001b[39m\"\u001b[39;49m\u001b[39mplot.png\u001b[39;49m\u001b[39m\"\u001b[39;49m)\n",
      "\u001b[1;32m/home/tirth/vscode/Mort-Pages-Personal/_notebooks/2023-10-21-SatsDataAnalysis.ipynb Cell 3\u001b[0m line \u001b[0;36mperformAnalysis\u001b[0;34m(csv, save_path)\u001b[0m\n\u001b[1;32m      <a href='vscode-notebook-cell://wsl%2Bubuntu/home/tirth/vscode/Mort-Pages-Personal/_notebooks/2023-10-21-SatsDataAnalysis.ipynb#W4sdnNjb2RlLXJlbW90ZQ%3D%3D?line=8'>9</a>\u001b[0m buy_new_iphone_col \u001b[39m=\u001b[39m \u001b[39m'\u001b[39m\u001b[39mWould you buy a new iPhone?\u001b[39m\u001b[39m'\u001b[39m\n\u001b[1;32m     <a href='vscode-notebook-cell://wsl%2Bubuntu/home/tirth/vscode/Mort-Pages-Personal/_notebooks/2023-10-21-SatsDataAnalysis.ipynb#W4sdnNjb2RlLXJlbW90ZQ%3D%3D?line=10'>11</a>\u001b[0m \u001b[39m# Filter data for iPhone users and non-iPhone users\u001b[39;00m\n\u001b[0;32m---> <a href='vscode-notebook-cell://wsl%2Bubuntu/home/tirth/vscode/Mort-Pages-Personal/_notebooks/2023-10-21-SatsDataAnalysis.ipynb#W4sdnNjb2RlLXJlbW90ZQ%3D%3D?line=11'>12</a>\u001b[0m iphone_users \u001b[39m=\u001b[39m df[df[iphone_users_col] \u001b[39m==\u001b[39m \u001b[39m'\u001b[39m\u001b[39mYes\u001b[39m\u001b[39m'\u001b[39m]\n\u001b[1;32m     <a href='vscode-notebook-cell://wsl%2Bubuntu/home/tirth/vscode/Mort-Pages-Personal/_notebooks/2023-10-21-SatsDataAnalysis.ipynb#W4sdnNjb2RlLXJlbW90ZQ%3D%3D?line=12'>13</a>\u001b[0m non_iphone_users \u001b[39m=\u001b[39m df[df[iphone_users_col] \u001b[39m==\u001b[39m \u001b[39m'\u001b[39m\u001b[39mNo\u001b[39m\u001b[39m'\u001b[39m]\n\u001b[1;32m     <a href='vscode-notebook-cell://wsl%2Bubuntu/home/tirth/vscode/Mort-Pages-Personal/_notebooks/2023-10-21-SatsDataAnalysis.ipynb#W4sdnNjb2RlLXJlbW90ZQ%3D%3D?line=14'>15</a>\u001b[0m \u001b[39m# Filter data for users who want to buy a new iPhone and those who do not\u001b[39;00m\n",
      "File \u001b[0;32m~/anaconda3/lib/python3.9/site-packages/pandas/core/frame.py:3505\u001b[0m, in \u001b[0;36mDataFrame.__getitem__\u001b[0;34m(self, key)\u001b[0m\n\u001b[1;32m   3503\u001b[0m \u001b[39mif\u001b[39;00m \u001b[39mself\u001b[39m\u001b[39m.\u001b[39mcolumns\u001b[39m.\u001b[39mnlevels \u001b[39m>\u001b[39m \u001b[39m1\u001b[39m:\n\u001b[1;32m   3504\u001b[0m     \u001b[39mreturn\u001b[39;00m \u001b[39mself\u001b[39m\u001b[39m.\u001b[39m_getitem_multilevel(key)\n\u001b[0;32m-> 3505\u001b[0m indexer \u001b[39m=\u001b[39m \u001b[39mself\u001b[39;49m\u001b[39m.\u001b[39;49mcolumns\u001b[39m.\u001b[39;49mget_loc(key)\n\u001b[1;32m   3506\u001b[0m \u001b[39mif\u001b[39;00m is_integer(indexer):\n\u001b[1;32m   3507\u001b[0m     indexer \u001b[39m=\u001b[39m [indexer]\n",
      "File \u001b[0;32m~/anaconda3/lib/python3.9/site-packages/pandas/core/indexes/base.py:3623\u001b[0m, in \u001b[0;36mIndex.get_loc\u001b[0;34m(self, key, method, tolerance)\u001b[0m\n\u001b[1;32m   3621\u001b[0m     \u001b[39mreturn\u001b[39;00m \u001b[39mself\u001b[39m\u001b[39m.\u001b[39m_engine\u001b[39m.\u001b[39mget_loc(casted_key)\n\u001b[1;32m   3622\u001b[0m \u001b[39mexcept\u001b[39;00m \u001b[39mKeyError\u001b[39;00m \u001b[39mas\u001b[39;00m err:\n\u001b[0;32m-> 3623\u001b[0m     \u001b[39mraise\u001b[39;00m \u001b[39mKeyError\u001b[39;00m(key) \u001b[39mfrom\u001b[39;00m \u001b[39merr\u001b[39;00m\n\u001b[1;32m   3624\u001b[0m \u001b[39mexcept\u001b[39;00m \u001b[39mTypeError\u001b[39;00m:\n\u001b[1;32m   3625\u001b[0m     \u001b[39m# If we have a listlike key, _check_indexing_error will raise\u001b[39;00m\n\u001b[1;32m   3626\u001b[0m     \u001b[39m#  InvalidIndexError. Otherwise we fall through and re-raise\u001b[39;00m\n\u001b[1;32m   3627\u001b[0m     \u001b[39m#  the TypeError.\u001b[39;00m\n\u001b[1;32m   3628\u001b[0m     \u001b[39mself\u001b[39m\u001b[39m.\u001b[39m_check_indexing_error(key)\n",
      "\u001b[0;31mKeyError\u001b[0m: 'Do you currently use an iPhone?'"
     ]
    }
   ],
   "source": [
    "import pandas as pd\n",
    "import matplotlib.pyplot as plt\n",
    "\n",
    "def performAnalysis(csv, save_path):\n",
    "    df = pd.read_csv(csv)\n",
    "\n",
    "    # Correct column names\n",
    "    iphone_users_col = 'use iPhone?'\n",
    "    buy_new_iphone_col = 'iPhone?'\n",
    "\n",
    "    # Filter data for iPhone users and non-iPhone users\n",
    "    iphone_users = df[df[iphone_users_col] == 'Yes']\n",
    "    non_iphone_users = df[df[iphone_users_col] == 'No']\n",
    "\n",
    "    # Filter data for users who want to buy a new iPhone and those who do not\n",
    "    iphone_users_buy = iphone_users[iphone_users[buy_new_iphone_col] == 'Yes']\n",
    "    iphone_users_no_buy = iphone_users[iphone_users[buy_new_iphone_col] == 'No']\n",
    "    \n",
    "    non_iphone_users_buy = non_iphone_users[non_iphone_users[buy_new_iphone_col] == 'Yes']\n",
    "    non_iphone_users_no_buy = non_iphone_users[non_iphone_users[buy_new_iphone_col] == 'No']\n",
    "\n",
    "    # Calculate percentages\n",
    "    iphone_users_buy_percentage = len(iphone_users_buy) / len(iphone_users)\n",
    "    iphone_users_no_buy_percentage = 1 - iphone_users_buy_percentage\n",
    "    non_iphone_users_buy_percentage = len(non_iphone_users_buy) / len(non_iphone_users)\n",
    "    non_iphone_users_no_buy_percentage = 1 - non_iphone_users_buy_percentage\n",
    "\n",
    "    print(\n",
    "        f\"iPhone Users: Buy - {iphone_users_buy_percentage:.2%}, No Buy - {iphone_users_no_buy_percentage:.2%}\")\n",
    "    print(\n",
    "        f\"Non-iPhone Users: Buy - {non_iphone_users_buy_percentage:.2%}, No Buy - {non_iphone_users_no_buy_percentage:.2%}\")\n",
    "\n",
    "    # Create a relative frequency distribution in matplotlib\n",
    "    categories = ['iPhone Users', 'Non-iPhone Users']\n",
    "    buy_percentages = [iphone_users_buy_percentage, non_iphone_users_buy_percentage]\n",
    "    no_buy_percentages = [iphone_users_no_buy_percentage, non_iphone_users_no_buy_percentage]\n",
    "    \n",
    "    width = 0.35\n",
    "    x = range(len(categories))\n",
    "    \n",
    "    plt.bar(x, buy_percentages, width, label='Buy', color='green')\n",
    "    plt.bar(x, no_buy_percentages, width, label='No Buy', color='red', bottom=buy_percentages)\n",
    "    \n",
    "    plt.xlabel('User Groups')\n",
    "    plt.ylabel('Percentage')\n",
    "    plt.title('Buy vs. No Buy by User Group')\n",
    "    plt.xticks(x, categories)\n",
    "    plt.legend()\n",
    "    \n",
    "    # Save the plot as an image (e.g., PNG)\n",
    "    plt.savefig(save_path)  # Provide the path and filename for the saved image\n",
    "    plt.show()\n",
    "\n",
    "# Replace \"sample.csv\" with the actual path to your CSV file, and \"plot.png\" with the desired save path and filename\n",
    "performAnalysis(\"/home/tirth/vscode/Mort-Pages-Personal/_data/CSV_Stats_Data/UnbiasSurvey.csv\", \"plot.png\")\n"
   ]
  }
 ],
 "metadata": {
  "kernelspec": {
   "display_name": "base",
   "language": "python",
   "name": "python3"
  },
  "language_info": {
   "codemirror_mode": {
    "name": "ipython",
    "version": 3
   },
   "file_extension": ".py",
   "mimetype": "text/x-python",
   "name": "python",
   "nbconvert_exporter": "python",
   "pygments_lexer": "ipython3",
   "version": "3.9.12"
  }
 },
 "nbformat": 4,
 "nbformat_minor": 2
}
