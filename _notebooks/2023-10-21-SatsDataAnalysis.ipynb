{
 "cells": [
  {
   "cell_type": "markdown",
   "metadata": {},
   "source": [
    "---\n",
    "toc: false\n",
    "comments: true\n",
    "layout: post\n",
    "title: Stats Project Data\n",
    "description: Stats Data Analysis\n",
    "---"
   ]
  },
  {
   "cell_type": "code",
   "execution_count": 15,
   "metadata": {},
   "outputs": [
    {
     "name": "stdout",
     "output_type": "stream",
     "text": [
      "iPhone users who want to buy a new iPhone: 20 out of 26 total iPhone users.\n",
      "Non-iPhone users who want to buy a new iPhone: 2 out of 5 total non-iPhone users.\n",
      "iPhone Users: Buy - 76.92%, No Buy - 23.08%\n",
      "Non-iPhone Users: Buy - 40.00%, No Buy - 60.00%\n"
     ]
    },
    {
     "data": {
      "image/png": "[encoded data removed]",
      "text/plain": [
       "<Figure size 432x288 with 1 Axes>"
      ]
     },
     "metadata": {
      "needs_background": "light"
     },
     "output_type": "display_data"
    }
   ],
   "source": [
    "import pandas as pd\n",
    "import matplotlib.pyplot as plt\n",
    "\n",
    "def performAnalysis(csv, save_path):\n",
    "    df = pd.read_csv(csv)\n",
    "\n",
    "    # Correct column names\n",
    "    iphone_users_col = df.columns[2]\n",
    "    buy_new_iphone_col = df.columns[1]\n",
    "\n",
    "    # Filter data for iPhone users and non-iPhone users\n",
    "    iphone_users = df[df[iphone_users_col] == 'Yes']\n",
    "    non_iphone_users = df[df[iphone_users_col] == 'No']\n",
    "\n",
    "    # Filter data for users who want to buy a new iPhone and those who do not\n",
    "    iphone_users_buy = iphone_users[iphone_users[buy_new_iphone_col] == 'Yes']\n",
    "    iphone_users_no_buy = iphone_users[iphone_users[buy_new_iphone_col] == 'No']\n",
    "    \n",
    "    non_iphone_users_buy = non_iphone_users[non_iphone_users[buy_new_iphone_col] == 'Yes']\n",
    "    non_iphone_users_no_buy = non_iphone_users[non_iphone_users[buy_new_iphone_col] == 'No']\n",
    "\n",
    "    print(f\"iPhone users who want to buy a new iPhone: {len(iphone_users_buy)} out of {len(iphone_users)} total iPhone users.\")\n",
    "    print(f\"Non-iPhone users who want to buy a new iPhone: {len(non_iphone_users_buy)} out of {len(non_iphone_users)} total non-iPhone users.\")\n",
    "\n",
    "    # Calculate percentages\n",
    "    iphone_users_buy_percentage = len(iphone_users_buy) / len(iphone_users)\n",
    "    iphone_users_no_buy_percentage = 1 - iphone_users_buy_percentage\n",
    "    non_iphone_users_buy_percentage = len(non_iphone_users_buy) / len(non_iphone_users)\n",
    "    non_iphone_users_no_buy_percentage = 1 - non_iphone_users_buy_percentage\n",
    "\n",
    "    print(\n",
    "        f\"iPhone Users: Buy - {iphone_users_buy_percentage:.2%}, No Buy - {iphone_users_no_buy_percentage:.2%}\")\n",
    "    print(\n",
    "        f\"Non-iPhone Users: Buy - {non_iphone_users_buy_percentage:.2%}, No Buy - {non_iphone_users_no_buy_percentage:.2%}\")\n",
    "\n",
    "    # Create a relative frequency distribution in matplotlib\n",
    "    categories = ['iPhone Users', 'Non-iPhone Users']\n",
    "    buy_percentages = [iphone_users_buy_percentage, non_iphone_users_buy_percentage]\n",
    "    no_buy_percentages = [iphone_users_no_buy_percentage, non_iphone_users_no_buy_percentage]\n",
    "    \n",
    "    width = 0.35\n",
    "    x = range(len(categories))\n",
    "    \n",
    "    plt.bar(x, buy_percentages, width, label='Yes', color='green')\n",
    "    plt.bar(x, no_buy_percentages, width, label='No', color='red', bottom=buy_percentages)\n",
    "    \n",
    "    plt.xlabel('User Groups')\n",
    "    plt.ylabel('Relative Frequency')\n",
    "    plt.title('Would you buy a new iPhone? - Unbiased')\n",
    "    plt.xticks(x, categories)\n",
    "    plt.legend()\n",
    "    \n",
    "    # Save the plot as an image \n",
    "    plt.savefig(save_path)  \n",
    "    plt.show()\n",
    "\n",
    "\n",
    "performAnalysis(\"/home/tirth/vscode/Mort-Pages-Personal/_data/CSV_Stats_Data/UnbiasSurvey.csv\", \"UnbiasedDistribution.png\")\n"
   ]
  },
  {
   "cell_type": "code",
   "execution_count": 16,
   "metadata": {},
   "outputs": [
    {
     "name": "stdout",
     "output_type": "stream",
     "text": [
      "iPhone users who want to buy a new iPhone: 20 out of 34 total iPhone users.\n",
      "Non-iPhone users who want to buy a new iPhone: 1 out of 2 total non-iPhone users.\n",
      "iPhone Users: Buy - 58.82%, No Buy - 41.18%\n",
      "Non-iPhone Users: Buy - 50.00%, No Buy - 50.00%\n"
     ]
    },
    {
     "data": {
      "image/png": "[encoded data removed]",
      "text/plain": [
       "<Figure size 432x288 with 1 Axes>"
      ]
     },
     "metadata": {
      "needs_background": "light"
     },
     "output_type": "display_data"
    }
   ],
   "source": [
    "import pandas as pd\n",
    "import matplotlib.pyplot as plt\n",
    "\n",
    "def performAnalysis(csv, save_path):\n",
    "    df = pd.read_csv(csv)\n",
    "\n",
    "    # Correct column names\n",
    "    iphone_users_col = df.columns[2]\n",
    "    buy_new_iphone_col = df.columns[1]\n",
    "\n",
    "    # Filter data for iPhone users and non-iPhone users\n",
    "    iphone_users = df[df[iphone_users_col] == 'Yes']\n",
    "    non_iphone_users = df[df[iphone_users_col] == 'No']\n",
    "\n",
    "    # Filter data for users who want to buy a new iPhone and those who do not\n",
    "    iphone_users_buy = iphone_users[iphone_users[buy_new_iphone_col] == 'Yes']\n",
    "    iphone_users_no_buy = iphone_users[iphone_users[buy_new_iphone_col] == 'No']\n",
    "    \n",
    "    non_iphone_users_buy = non_iphone_users[non_iphone_users[buy_new_iphone_col] == 'Yes']\n",
    "    non_iphone_users_no_buy = non_iphone_users[non_iphone_users[buy_new_iphone_col] == 'No']\n",
    "\n",
    "    print(f\"iPhone users who want to buy a new iPhone: {len(iphone_users_buy)} out of {len(iphone_users)} total iPhone users.\")\n",
    "    print(f\"Non-iPhone users who want to buy a new iPhone: {len(non_iphone_users_buy)} out of {len(non_iphone_users)} total non-iPhone users.\")\n",
    "\n",
    "    # Calculate percentages\n",
    "    iphone_users_buy_percentage = len(iphone_users_buy) / len(iphone_users)\n",
    "    iphone_users_no_buy_percentage = 1 - iphone_users_buy_percentage\n",
    "    non_iphone_users_buy_percentage = len(non_iphone_users_buy) / len(non_iphone_users)\n",
    "    non_iphone_users_no_buy_percentage = 1 - non_iphone_users_buy_percentage\n",
    "\n",
    "    print(\n",
    "        f\"iPhone Users: Buy - {iphone_users_buy_percentage:.2%}, No Buy - {iphone_users_no_buy_percentage:.2%}\")\n",
    "    print(\n",
    "        f\"Non-iPhone Users: Buy - {non_iphone_users_buy_percentage:.2%}, No Buy - {non_iphone_users_no_buy_percentage:.2%}\")\n",
    "\n",
    "    # Create a relative frequency distribution in matplotlib\n",
    "    categories = ['iPhone Users', 'Non-iPhone Users']\n",
    "    buy_percentages = [iphone_users_buy_percentage, non_iphone_users_buy_percentage]\n",
    "    no_buy_percentages = [iphone_users_no_buy_percentage, non_iphone_users_no_buy_percentage]\n",
    "    \n",
    "    width = 0.35\n",
    "    x = range(len(categories))\n",
    "    \n",
    "    plt.bar(x, buy_percentages, width, label='Yes', color='green')\n",
    "    plt.bar(x, no_buy_percentages, width, label='No!', color='red', bottom=buy_percentages)\n",
    "    \n",
    "    plt.xlabel('User Groups')\n",
    "    plt.ylabel('Relative Frequency')\n",
    "    plt.title('Would you buy a new iPhone? - Biased')\n",
    "    plt.xticks(x, categories)\n",
    "    plt.legend()\n",
    "    \n",
    "    # Save the plot as an image \n",
    "    plt.savefig(save_path)  \n",
    "    plt.show()\n",
    "\n",
    "# \n",
    "performAnalysis(\"/home/tirth/vscode/Mort-Pages-Personal/_data/CSV_Stats_Data/BiasSurvey.csv\", \"BiasedDistribution.png\")\n"
   ]
  }
 ],
 "metadata": {
  "kernelspec": {
   "display_name": "base",
   "language": "python",
   "name": "python3"
  },
  "language_info": {
   "codemirror_mode": {
    "name": "ipython",
    "version": 3
   },
   "file_extension": ".py",
   "mimetype": "text/x-python",
   "name": "python",
   "nbconvert_exporter": "python",
   "pygments_lexer": "ipython3",
   "version": "3.9.12"
  }
 },
 "nbformat": 4,
 "nbformat_minor": 2
}
