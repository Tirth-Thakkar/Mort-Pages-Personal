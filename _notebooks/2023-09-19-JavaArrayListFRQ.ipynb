{
 "cells": [
  {
   "cell_type": "markdown",
   "metadata": {},
   "source": [
    "---\n",
    "toc: true\n",
    "comments: true\n",
    "layout: notebook\n",
    "author: Tirth Thakkar, \n",
    "title: Java Array List FRQ Solutions\n",
    "description: Java ArrayList FRQ for CollegeBoard Solution Guide (FRQ4 2022)\n",
    "type: tangibles\n",
    "courses: { compsci: {week: 4} }\n",
    "---"
   ]
  },
  {
   "cell_type": "markdown",
   "metadata": {},
   "source": [
    "# FRQs\n",
    "- See FRQ #4 bellow for problem description from CollegeBoard \n",
    "<style>\n",
    "    #FRQ{\n",
    "        width: 100% !important;\n",
    "        height: 900px !important;\n",
    "\n",
    "    }\n",
    "</style>\n",
    "\n",
    "<iframe id=\"FRQ\" src=\"https://apcentral.collegeboard.org/media/pdf/ap22-frq-computer-science-a.pdf\" title=\"FRQs 2022 CSA\"></iframe>"
   ]
  }
 ],
 "metadata": {
  "kernelspec": {
   "display_name": "Java",
   "language": "java",
   "name": "java"
  },
  "language_info": {
   "name": "java"
  },
  "orig_nbformat": 4
 },
 "nbformat": 4,
 "nbformat_minor": 2
}
