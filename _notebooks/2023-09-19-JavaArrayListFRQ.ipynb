{
 "cells": [
  {
   "cell_type": "markdown",
   "metadata": {},
   "source": [
    "---\n",
    "toc: true\n",
    "comments: true\n",
    "layout: notebook\n",
    "author: Tirth Thakkar, \n",
    "title: Java Array List FRQ Solutions\n",
    "description: Java ArrayList FRQ for CollegeBoard Solution Guide (FRQ4 2022)\n",
    "type: tangibles\n",
    "categories: week04\n",
    "courses: { compsci: {week: 4} }\n",
    "---"
   ]
  },
  {
   "cell_type": "markdown",
   "metadata": {},
   "source": [
    "# FRQs\n",
    "- See FRQ #4 bellow for problem description from CollegeBoard \n",
    "<style>\n",
    "    #FRQ{\n",
    "        width: 100% !important;\n",
    "        height: 900px !important;\n",
    "\n",
    "    }\n",
    "</style>\n",
    "\n",
    "<iframe id=\"FRQ\" src=\"https://apcentral.collegeboard.org/media/pdf/ap22-frq-computer-science-a.pdf\" title=\"FRQs 2022 CSA\"></iframe>\n",
    "\n",
    "# Solution"
   ]
  },
  {
   "cell_type": "code",
   "execution_count": 12,
   "metadata": {},
   "outputs": [],
   "source": [
    "import java.util.Random;\n",
    "\n",
    "public class Data {\n",
    "    public static final int MAX = ;\n",
    "    private int[][] grid;\n",
    "    public boolean order = true;\n",
    "\n",
    "    public void repopulate() {\n",
    "        // Populate grid with random numbers between 1 and MAX\n",
    "        // Along with the value not being divisible by 100 but divisible by 10\n",
    "        Random rand = new Random();\n",
    "        for (int i = 0; i < grid.length; i++) {\n",
    "            for (int j = 0; j < grid[i].length; j++) {\n",
    "                int num = rand.nextInt(MAX) + 1;\n",
    "                while (num % 100 == 0 || num % 10 != 0) {\n",
    "                    num = rand.nextInt(MAX) + 1;\n",
    "                }\n",
    "                grid[i][j] = num;\n",
    "            }\n",
    "        }\n",
    "    }\n",
    "\n",
    "    public int countIncreasingCols() {\n",
    "        int orderedcol = 0;\n",
    "        // Given the columns in the grid that are in increasing order\n",
    "        for (int j = 0; j < grid[0].length; j++) {\n",
    "            order = true;\n",
    "            for (int i = 0; i < grid.length - 1; i++) {\n",
    "                if (grid[i][j] > grid[i + 1][j]) {\n",
    "                    order = false;\n",
    "                    break; // Break out of the inner loop if not ordered\n",
    "                }\n",
    "            }\n",
    "            if (order) {\n",
    "                orderedcol++;\n",
    "            }\n",
    "        }\n",
    "        return orderedcol;\n",
    "    }\n",
    "}\n",
    "\n"
   ]
  }
 ],
 "metadata": {
  "kernelspec": {
   "display_name": "Java",
   "language": "java",
   "name": "java"
  },
  "language_info": {
   "codemirror_mode": "java",
   "file_extension": ".jshell",
   "mimetype": "text/x-java-source",
   "name": "java",
   "pygments_lexer": "java",
   "version": "11.0.20.1+1-post-Ubuntu-0ubuntu122.04"
  },
  "orig_nbformat": 4
 },
 "nbformat": 4,
 "nbformat_minor": 2
}
