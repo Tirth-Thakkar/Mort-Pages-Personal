{
 "cells": [
  {
   "cell_type": "markdown",
   "metadata": {},
   "source": [
    "---\n",
    "toc: true\n",
    "comments: true\n",
    "layout: notebook\n",
    "author: Tirth Thakkar, \n",
    "title: Java Array List FRQ Solutions\n",
    "description: Java ArrayList FRQ for CollegeBoard Solution Guide (FRQ4 2022)\n",
    "type: tangibles\n",
    "courses: { compsci: {week: 4} }\n",
    "---"
   ]
  },
  {
   "cell_type": "markdown",
   "metadata": {},
   "source": [
    "# FRQs\n",
    "- See FRQ #4 bellow for problem description from CollegeBoard \n",
    "<style>\n",
    "    #FRQ{\n",
    "        width: 100% !important;\n",
    "        height: 900px !important;\n",
    "\n",
    "    }\n",
    "</style>\n",
    "\n",
    "<iframe id=\"FRQ\" src=\"https://apcentral.collegeboard.org/media/pdf/ap22-frq-computer-science-a.pdf\" title=\"FRQs 2022 CSA\"></iframe>\n",
    "\n",
    "# Solution"
   ]
  },
  {
   "cell_type": "code",
   "execution_count": 3,
   "metadata": {
    "vscode": {
     "languageId": "java"
    }
   },
   "outputs": [
    {
     "ename": "CompilationException",
     "evalue": "",
     "output_type": "error",
     "traceback": [
      "\u001b[1m\u001b[30m|   \u001b[1m\u001b[30m        \u001b[0m\u001b[1m\u001b[30m\u001b[41m\u001b[0m\u001b[1m\u001b[30mpublic int orderedcol = 0;  \u001b[0m",
      "\u001b[1m\u001b[31millegal start of expression\u001b[0m",
      "",
      "\u001b[1m\u001b[30m|   \u001b[1m\u001b[30m        \u001b[0m\u001b[1m\u001b[30m\u001b[41m\u001b[0m\u001b[1m\u001b[30mfor (int i = 0; i < grid.length; i++){\u001b[0m",
      "\u001b[1m\u001b[31millegal start of type\u001b[0m",
      "",
      "\u001b[1m\u001b[30m|   \u001b[1m\u001b[30m        for (int i = 0; i < grid.length\u001b[0m\u001b[1m\u001b[30m\u001b[41m\u001b[0m\u001b[1m\u001b[30m; i++){\u001b[0m",
      "\u001b[1m\u001b[31m> expected\u001b[0m",
      "",
      "\u001b[1m\u001b[30m|   \u001b[1m\u001b[30m        for (int i = 0; i < grid.length; i\u001b[0m\u001b[1m\u001b[30m\u001b[41m\u001b[0m\u001b[1m\u001b[30m++){\u001b[0m",
      "\u001b[1m\u001b[31m<identifier> expected\u001b[0m",
      ""
     ]
    }
   ],
   "source": [
    "import java.util.Random;\n",
    "\n",
    "public class Data{\n",
    "    public static final int MAX = 110; // \n",
    "    private int[][] grid;\n",
    "        public void repopulate(){\n",
    "            // Populate grid with random numbers between 1 and MAX\n",
    "            // Along with the value not being divisible by 100 but divisible by 10\n",
    "            Random rand = new Random();\n",
    "            for(int i = 0; i < grid.length; i++){\n",
    "                for(int j = 0; j < grid[i].length; j++){\n",
    "                    int num = rand.nextInt(MAX) + 1;\n",
    "                    while(num % 100 == 0 || num % 10 != 0){\n",
    "                        num = rand.nextInt(MAX) + 1;\n",
    "                    }\n",
    "                    grid[i][j] = num;\n",
    "                }\n",
    "            }\n",
    "\n",
    "        }\n",
    "\n",
    "    public boolean order = true;    \n",
    "      \n",
    "    public int countIncreasingCols(){\n",
    "        public int orderedcol = 0;  \n",
    "        // Given the columns in the grid that are in increasing order\n",
    "        for (int i = 0; i < grid.length; i++){\n",
    "            for(int j = 0; j < grid[i].length; j++){\n",
    "                if(grid[i][j] > grid[i][j+1]){\n",
    "                    order = false;\n",
    "                }\n",
    "            }\n",
    "\n",
    "            if(order){\n",
    "                orderedcol++;\n",
    "            }\n",
    "        }\n",
    "    }\n",
    "    return orderedcol;\n",
    "}\n",
    "\n"
   ]
  },
  {
   "cell_type": "code",
   "execution_count": 8,
   "metadata": {
    "vscode": {
     "languageId": "java"
    }
   },
   "outputs": [],
   "source": [
    "import java.util.Random;\n",
    "\n",
    "public class Data {\n",
    "    public static final int MAX = 110;\n",
    "    public int[][] grid;\n",
    "    public boolean order = true;\n",
    "\n",
    "    public void repopulate() {\n",
    "        // Populate grid with random numbers between 1 and MAX\n",
    "        // Along with the value not being divisible by 100 but divisible by 10\n",
    "        Random rand = new Random();\n",
    "        for (int i = 0; i < grid.length; i++) {\n",
    "            for (int j = 0; j < grid[i].length; j++) {\n",
    "                int num = rand.nextInt(MAX) + 1;\n",
    "                while (num % 100 == 0 || num % 10 != 0) {\n",
    "                    num = rand.nextInt(MAX) + 1;\n",
    "                }\n",
    "                grid[i][j] = num;\n",
    "            }\n",
    "        }\n",
    "    }\n",
    "\n",
    "    public int countIncreasingCols() {\n",
    "        int orderedcol = 0;\n",
    "        // Given the columns in the grid that are in increasing order\n",
    "        for (int j = 0; j < grid[0].length; j++) {\n",
    "            order = true;\n",
    "            for (int i = 0; i < grid.length - 1; i++) {\n",
    "                if (grid[i][j] > grid[i + 1][j]) {\n",
    "                    order = false;\n",
    "                    break; // Break out of the inner loop if not ordered\n",
    "                }\n",
    "            }\n",
    "            if (order) {\n",
    "                orderedcol++;\n",
    "            }\n",
    "        }\n",
    "        return orderedcol;\n",
    "    }\n",
    "}\n",
    "\n"
   ]
  },
  {
   "cell_type": "code",
   "execution_count": 11,
   "metadata": {
    "vscode": {
     "languageId": "java"
    }
   },
   "outputs": [
    {
     "ename": "CompilationException",
     "evalue": "",
     "output_type": "error",
     "traceback": [
      "\u001b[1m\u001b[30m|   \u001b[1m\u001b[30m        \u001b[0m\u001b[1m\u001b[30m\u001b[41mdata.grid\u001b[0m\u001b[1m\u001b[30m = new int[3][5];\u001b[0m",
      "\u001b[1m\u001b[31mgrid has private access in Data\u001b[0m",
      ""
     ]
    }
   ],
   "source": [
    "public class TestData {\n",
    "    public static void main(String[] args) {\n",
    "        // Create an instance of the Data class\n",
    "        Data data = new Data();\n",
    "\n",
    "        // Set the dimensions of the grid (e.g., 3 rows and 5 columns)\n",
    "        data.grid = new int[3][5];\n",
    "\n",
    "        // Populate the grid with random numbers meeting the criteria\n",
    "        data.repopulate();\n",
    "\n",
    "        // Count the number of ordered columns\n",
    "        int orderedColumns = data.countIncreasingCols();\n",
    "\n",
    "        // Print the result\n",
    "        System.out.println(\"Ordered Columns: \" + orderedColumns);\n",
    "    }\n",
    "}\n"
   ]
  }
 ],
 "metadata": {
  "kernelspec": {
   "display_name": "Java",
   "language": "java",
   "name": "java"
  },
  "language_info": {
   "codemirror_mode": "java",
   "file_extension": ".jshell",
   "mimetype": "text/x-java-source",
   "name": "Java",
   "pygments_lexer": "java",
   "version": "11.0.20.1+1-post-Ubuntu-0ubuntu122.04"
  },
  "orig_nbformat": 4
 },
 "nbformat": 4,
 "nbformat_minor": 2
}
