{
 "cells": [
  {
   "cell_type": "markdown",
   "metadata": {},
   "source": [
    "---\n",
    "toc: true\n",
    "comments: true\n",
    "layout: notebook\n",
    "author: Tirth Thakkar, \n",
    "title: Java Array List FRQ Solutions\n",
    "description: Java ArrayList FRQ for CollegeBoard Solution Guide (FRQ4 2022)\n",
    "type: tangibles\n",
    "courses: { compsci: {week: 4} }\n",
    "---"
   ]
  },
  {
   "cell_type": "markdown",
   "metadata": {},
   "source": [
    "# FRQs\n",
    "- See FRQ #4 bellow for problem description from CollegeBoard \n",
    "<style>\n",
    "    #FRQ{\n",
    "        width: 100% !important;\n",
    "        height: 900px !important;\n",
    "\n",
    "    }\n",
    "</style>\n",
    "\n",
    "<iframe id=\"FRQ\" src=\"https://apcentral.collegeboard.org/media/pdf/ap22-frq-computer-science-a.pdf\" title=\"FRQs 2022 CSA\"></iframe>\n",
    "\n",
    "# Solution"
   ]
  },
  {
   "cell_type": "code",
   "execution_count": null,
   "metadata": {},
   "outputs": [],
   "source": [
    "import java.util.Random;\n",
    "\n",
    "public class Data{\n",
    "    public static final int MAX = null; // \n",
    "    private int[][] grid;\n",
    "        public void repopulate(){\n",
    "            // Populate grid with random numbers between 1 and MAX\n",
    "            // Along with the value not being divisible by 100 but divisible by 10\n",
    "            Random rand = new Random();\n",
    "            for(int i = 0; i < grid.length; i++){\n",
    "                for(int j = 0; j < grid[i].length; j++){\n",
    "                    int num = rand.nextInt(MAX) + 1;\n",
    "                    while(num % 100 == 0 || num % 10 != 0){\n",
    "                        num = rand.nextInt(MAX) + 1;\n",
    "                    }\n",
    "                    grid[i][j] = num;\n",
    "                }\n",
    "            }\n",
    "\n",
    "        }\n",
    "        \n",
    "    public int countIncreasingCols(){\n",
    "        // Given the columsn in the grid that are in increasing order\n",
    "        for (int i = 0; i < grid.length; i++){\n",
    "            for(int j = 0; j < grid[i].length; j++){\n",
    "                if(grid[i][j] > grid[i][j+1]){\n",
    "                    return 0;\n",
    "                }\n",
    "            }\n",
    "        }\n",
    "    }\n",
    "gives\n"
   ]
  }
 ],
 "metadata": {
  "kernelspec": {
   "display_name": "Java",
   "language": "java",
   "name": "java"
  },
  "language_info": {
   "name": "java"
  },
  "orig_nbformat": 4
 },
 "nbformat": 4,
 "nbformat_minor": 2
}
