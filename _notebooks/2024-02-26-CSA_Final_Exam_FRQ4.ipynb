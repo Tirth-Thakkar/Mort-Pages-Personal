{
 "cells": [
  {
   "cell_type": "markdown",
   "metadata": {},
   "source": [
    "---\n",
    "toc: true\n",
    "comments: false\n",
    "layout: post\n",
    "title: 2015 FRQ 4 (Methods and Control Structures)\n",
    "description: 2015 FRQ 4 Solution + Reflection\n",
    "type: tangibles\n",
    "image: /images/Scammer.png\n",
    "comments: true\n",
    "categories: [week34]\n",
    "courses: { compsci: {week: 34} }\n",
    "---"
   ]
  },
  {
   "cell_type": "markdown",
   "metadata": {},
   "source": [
    "# Question 4: Methods And Control Structures\n",
    " \n",
    "## Part A\n",
    "A number group represents a group of integers defined in some way. It could be empty, or it could contain\n",
    "one or more integers. Write an interface named NumberGroup that represents a group of integers. The interface should have\n",
    "a single contains method that determines if a given integer is in the group. For example, if group1 is of type NumberGroup, and it contains only the two numbers -5 and 3, then\n",
    "group1.contains(-5) would return true, and group1.contains(2) would return false. Write the complete NumberGroup interface. It must have exactly one method.\n",
    "\n"
   ]
  },
  {
   "cell_type": "code",
   "execution_count": 2,
   "metadata": {
    "vscode": {
     "languageId": "java"
    }
   },
   "outputs": [],
   "source": [
    "public interface NumberGroup{\n",
    "    boolean contains(int value);\n",
    "}"
   ]
  },
  {
   "cell_type": "markdown",
   "metadata": {},
   "source": [
    "## Part B \n",
    "A range represents a number group that contains all (and only) the integers between a minimum value and a maximum value, inclusive. Write the Range class, which is a NumberGroup. The Range class represents the group of int values that range from a given minimum value up through a given maximum value, inclusive. For example, the declaration NumberGroup range1 = new Range(-3, 2); represents the group of integer values -3, -2, -1, 0, 1, 2.\n",
    "Write the complete Range class. Include all necessary instance variables and methods as well as a constructor that takes two int parameters. The first parameter represents the minimum value, and the\n",
    "second parameter represents the maximum value of the range. You may assume that the minimum is less than or equal to the maximum."
   ]
  },
  {
   "cell_type": "code",
   "execution_count": 5,
   "metadata": {
    "vscode": {
     "languageId": "java"
    }
   },
   "outputs": [
    {
     "name": "stdout",
     "output_type": "stream",
     "text": [
      "Test 1\n",
      "true\n",
      "\n",
      "Test 2\n",
      "false\n"
     ]
    }
   ],
   "source": [
    "\n",
    "public class Range implements NumberGroup{\n",
    "    private int minVal;\n",
    "    private int maxVal;\n",
    "\n",
    "    public Range(int minVal, int maxVal){\n",
    "        this.minVal = minVal;\n",
    "        this.maxVal = maxVal;\n",
    "    }\n",
    "\n",
    "    @Override\n",
    "    public boolean contains(int value){\n",
    "        if (value >= this.minVal && value <= this.maxVal){\n",
    "            return true;\n",
    "        } else{\n",
    "            return false;\n",
    "        }\n",
    "    }\n",
    "\n",
    "    public static void main(String[] args){\n",
    "        Range range1 = new Range(-3,2);\n",
    "        \n",
    "        System.out.println(\"Test 1\");\n",
    "        System.out.println(range1.contains(-1));\n",
    "        \n",
    "        System.out.println(\"\\nTest 2\");\n",
    "        System.out.println(range1.contains(3));\n",
    "    }\n",
    "}\n",
    "\n",
    "Range.main(null);"
   ]
  },
  {
   "cell_type": "markdown",
   "metadata": {},
   "source": [
    "## Part C\n",
    "\n",
    "The MultipleGroups class (not shown) represents a collection of NumberGroup objects and is a NumberGroup. The MultipleGroups class stores the number groups in the instance variable groupList (shown below), which is initialized in the constructor. `private List<NumberGroup> groupList;` Write the MultipleGroups method contains. The method takes an integer and returns true if and only if the integer is contained in one or more of the number groups in groupList. For example, suppose multiple1 has been declared as an instance of MultipleGroups and consists of the three ranges created by the calls new Range(5, 8), new Range(10, 12), and new Range(1, 6). The following table shows the results of several calls to contains. "
   ]
  },
  {
   "cell_type": "code",
   "execution_count": 6,
   "metadata": {
    "vscode": {
     "languageId": "java"
    }
   },
   "outputs": [
    {
     "name": "stdout",
     "output_type": "stream",
     "text": [
      "Test 1\n",
      "false\n",
      "\n",
      "Test 2\n",
      "false\n"
     ]
    }
   ],
   "source": [
    "public class MultipleGroups{\n",
    "    private List<NumberGroup> groupList;\n",
    "\n",
    "    private MultipleGroups(List<NumberGroup> groupList){\n",
    "        this.groupList = groupList;\n",
    "    }\n",
    "\n",
    "    public boolean contains(int value){\n",
    "        for(NumberGroup group : groupList){\n",
    "            if(group.contains(value)){\n",
    "                return true;\n",
    "            } \n",
    "        }\n",
    "        return false; \n",
    "    }\n",
    "\n",
    "    public static void main(String[] args){\n",
    "\n",
    "        Range range1 = new Range(-3, 2);\n",
    "        Range range2 = new Range(4, 9);\n",
    "        List<NumberGroup> groupList = new ArrayList<NumberGroup>();\n",
    "        groupList.add(range1);\n",
    "        groupList.add(range2);\n",
    "        \n",
    "        MultipleGroups multiGroup = new MultipleGroups(groupList);\n",
    "        System.out.println(\"Test 1\");\n",
    "        System.out.println(multiGroup.contains(3));\n",
    "        \n",
    "        System.out.println(\"\\nTest 2\");\n",
    "        System.out.println(multiGroup.contains(10));\n",
    "    }\n",
    "}\n",
    "\n",
    "MultipleGroups.main(null);"
   ]
  },
  {
   "cell_type": "markdown",
   "metadata": {},
   "source": [
    "# Reflections"
   ]
  }
 ],
 "metadata": {
  "kernelspec": {
   "display_name": "Java",
   "language": "java",
   "name": "java"
  },
  "language_info": {
   "codemirror_mode": "java",
   "file_extension": ".jshell",
   "mimetype": "text/x-java-source",
   "name": "Java",
   "pygments_lexer": "java",
   "version": "21+35-LTS-2513"
  }
 },
 "nbformat": 4,
 "nbformat_minor": 2
}
