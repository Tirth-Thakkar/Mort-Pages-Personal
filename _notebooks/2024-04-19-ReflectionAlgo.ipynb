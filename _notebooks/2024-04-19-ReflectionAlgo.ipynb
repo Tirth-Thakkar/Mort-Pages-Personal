{
 "cells": [
  {
   "cell_type": "markdown",
   "metadata": {},
   "source": [
    "---\n",
    "title: Algorythmic Reflection\n",
    "description: Algo Reflection Based on the Dance\n",
    "toc: true\n",
    "layout: post\n",
    "type: hacks\n",
    "comments: true\n",
    "---"
   ]
  },
  {
   "cell_type": "markdown",
   "metadata": {},
   "source": [
    "# Glows \n",
    "- We had a good execution of what we had wanted to with a clear and cohesive objective this allowed us to remain and have a good sense of clarity. Where I added in and helped in the planning and ideation stage being able to finalize a design that was able to be executed. \n",
    "- Preparation of management materials such as a drawing explaining quick sort and stage directions, this made it so that we had a good team wide understanding of the sorting algorithm and the dance. While I helped draw and forward these designs and plans to the team to help coordinate these matters. \n",
    "- Props through the creation of orange juice bottles/cans and also adding decorative signs we were able to add an additional layer of depth to the dance. The color coordination of the all black outfits also aided with this. \n",
    "- Good emotion as was rehearsed by Rohin and Vinay based on direction that was provided in the calls prior to the event, which I took part in to to help coordinate and provide feedback, while also practicing narration lines. \n",
    "- Haseeb was involved in creation of music adding a layer of dynamism to the performance which I participated in the feedback process.\n",
    "- Along with a proper execution of the sort with there being good explanations as written into the sort and executed by the team that was sorting not creating any major errors.\n",
    " \n",
    "\n",
    "# Grows\n",
    "- Teamwork: there was a major issue in the distribution of work from many team members being uncooperative in any way that they wanted to participate in primarily from other commitments and thus a general forcing to make others set aside more time than otherwise needed to complete the project forced to work unhealthy hours, with many members not participating in any major capacity at all. \n",
    "- Communication: Many dates were communicated along with many aspects of the performance being clarified days in advance. However in many cases such as the script no response was given to any of these materials until too late into the process to make meaningful changes effectively, which could have been avoided if more individuals responded and gave feedback. This was also an issue with rehearsals with many individuals not showing up to the rehearsals or giving last minute reasons for cancelling.\n",
    "- Commitment: Many team members were unwilling to contribute to the project despite the necessity to do so, from not wanting to be in the quick sort portion, not wanting roles that would contribute to the performance, etc. This was a major issue in being able to have the performance succeed from many members changing their minds last minute.    \n",
    "\n",
    "# Prep Work \n",
    "## [Script](https://docs.google.com/document/d/1iwAiQPwH11czTb8pWZ7LBYKrwehByTOt-lKfkiWJ6ow/edit?usp=sharing)\n",
    "- Here was the script there issues especially in the revision process with the feedback being too little to late, as they were not made in a meaningful time frame despite being presented. \n",
    "\n",
    "# Posters\n",
    "![Al Capone](https://github.com/Tirth-Thakkar/Mort-Pages-Personal/blob/main/images/Al_Capone_Poster.png?raw=true)\n",
    "![Bugs Moran](https://github.com/Tirth-Thakkar/Mort-Pages-Personal/blob/main/images/Numbers_Bugs_Moran.png?raw=true)\n",
    "\n",
    "# Practice Videos\n",
    "- All videos are linked bellow; they were edited into one video by Sreeja\n",
    "- [Video](https://www.youtube.com/watch?v=-2_5y01plFk&feature=youtu.be)\n",
    "\n",
    "# General Thoughts\n",
    "- The performances overall were interesting from different approaches to the sorting from a murder mystery, ballet, and this was an interesting way to see and explore the various sorts which I may not have otherwise seen. \n"
   ]
  }
 ],
 "metadata": {
  "language_info": {
   "name": "python"
  }
 },
 "nbformat": 4,
 "nbformat_minor": 2
}
