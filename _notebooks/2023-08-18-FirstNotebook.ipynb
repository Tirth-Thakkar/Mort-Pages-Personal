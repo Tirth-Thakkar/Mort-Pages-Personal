{
 "cells": [
  {
   "cell_type": "markdown",
   "metadata": {},
   "source": [
    "# First Blog Setup\n",
    "> Wow have I ever printed anything before in my entire life‽‽\n",
    "- toc: true\n",
    "- badges: false\n",
    "- comments: true\n",
    "- author: Tirth Thakkar \n",
    "- image: images/HelloWorld.jpg\n",
    "- categories: [week0]\n",
    "- type: setup \n",
    "- week: 0"
   ]
  },
  {
   "cell_type": "markdown",
   "metadata": {},
   "source": [
    "## Hello World\n",
    "- Hello World in Java, Javascript and Python"
   ]
  },
  {
   "cell_type": "code",
   "execution_count": 1,
   "metadata": {
    "vscode": {
     "languageId": "javascript"
    }
   },
   "outputs": [
    {
     "name": "stdout",
     "output_type": "stream",
     "text": [
      "Hello World ☕\n"
     ]
    }
   ],
   "source": [
    "System.out.println(\"Hello World ☕\");"
   ]
  },
  {
   "cell_type": "code",
   "execution_count": 1,
   "metadata": {
    "vscode": {
     "languageId": "javascript"
    }
   },
   "outputs": [
    {
     "name": "stdout",
     "output_type": "stream",
     "text": [
      "Hello World 🟨\n"
     ]
    }
   ],
   "source": [
    "console.log(\"Hello World 🟨\");"
   ]
  },
  {
   "cell_type": "code",
   "execution_count": 1,
   "metadata": {
    "vscode": {
     "languageId": "javascript"
    }
   },
   "outputs": [
    {
     "name": "stdout",
     "output_type": "stream",
     "text": [
      "Hello World 🐍\n"
     ]
    }
   ],
   "source": [
    "print(\"Hello World 🐍\")"
   ]
  },
  {
   "cell_type": "markdown",
   "metadata": {},
   "source": [
    "## Installation Hacks\n",
    "- Version Control\n",
    "    - *Where are the files from GitHub placed on your local machine. How do you navigate to those files?*: \n",
    "        - The files from GitHub are placed in the directory that you specify when you clone the repository. For instance the /vscode directory. The directory of the clones repository can be navigated  by using the `cd` command with the name of the cloned directory.\n",
    "\n",
    "    - *Where are the files placed in the GitHub Cloud, how do you navigate to those files?*:\n",
    "        - The directory containing the files in the repository on GitHub is created on their servers (possibly on some Azure server somewhere). These files are then accessible and managed through the GitHub website or through the GitHub Desktop application or similar software.\n",
    "\n",
    "    - *How would you update your Template or Fork of student repository if teacher wanted you to pick up an update?*: \n",
    "        - To update the template or fork of the student repository, you would need to add the teacher repository as a remote repository. Then you would need to fetch the changes from the teacher repository and merge them into your local repository. Then push the changes to your repository updating your repository with the changes from the teacher repository. (There may be merge conflicts that need to be resolved.)\n",
    "\n",
    "    "
   ]
  }
 ],
 "metadata": {
  "kernelspec": {
   "display_name": "base",
   "language": "python",
   "name": "python3"
  },
  "language_info": {
   "codemirror_mode": {
    "name": "ipython",
    "version": 3
   },
   "file_extension": ".py",
   "mimetype": "text/x-python",
   "name": "python",
   "nbconvert_exporter": "python",
   "pygments_lexer": "ipython3",
   "version": "3.9.12"
  },
  "orig_nbformat": 4
 },
 "nbformat": 4,
 "nbformat_minor": 2
}
