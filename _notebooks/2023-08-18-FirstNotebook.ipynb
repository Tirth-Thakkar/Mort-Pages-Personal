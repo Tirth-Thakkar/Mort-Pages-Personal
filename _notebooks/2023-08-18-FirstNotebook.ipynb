{
 "cells": [
  {
   "cell_type": "markdown",
   "metadata": {},
   "source": [
    "---\n",
    "title: First Blog Setup\n",
    "description: Wow have I ever printed anything before in my entire life‽‽ Also, answers to installation hacks?\n",
    "toc: true\n",
    "badges: false\n",
    "comments: true\n",
    "author: Tirth Thakkar \n",
    "image: images/HelloWorld.jpg\n",
    "categories: [week0]\n",
    "type: tangibles\n",
    "courses: { compsci: {week: 0} }\n",
    "layout: notebook\n",
    "---"
   ]
  },
  {
   "cell_type": "markdown",
   "metadata": {},
   "source": [
    "## Hello World\n",
    "- Hello World in Java, Javascript and Python"
   ]
  },
  {
   "cell_type": "code",
   "execution_count": 1,
   "metadata": {
    "vscode": {
     "languageId": "javascript"
    }
   },
   "outputs": [
    {
     "name": "stdout",
     "output_type": "stream",
     "text": [
      "Hello World ☕\n"
     ]
    }
   ],
   "source": [
    "System.out.println(\"Hello World ☕\");"
   ]
  },
  {
   "cell_type": "code",
   "execution_count": 1,
   "metadata": {
    "vscode": {
     "languageId": "javascript"
    }
   },
   "outputs": [
    {
     "name": "stdout",
     "output_type": "stream",
     "text": [
      "Hello World 🟨\n"
     ]
    }
   ],
   "source": [
    "console.log(\"Hello World 🟨\");"
   ]
  },
  {
   "cell_type": "code",
   "execution_count": 1,
   "metadata": {
    "vscode": {
     "languageId": "javascript"
    }
   },
   "outputs": [
    {
     "name": "stdout",
     "output_type": "stream",
     "text": [
      "Hello World 🐍\n"
     ]
    }
   ],
   "source": [
    "print(\"Hello World 🐍\")"
   ]
  },
  {
   "cell_type": "markdown",
   "metadata": {},
   "source": [
    "## Installation Hacks
Test\n",
    "- Terminal Commands\n",
    "    - Some of the common commands we use in the terminal include wsl to launch the Windows Subsystem for Linux, cd to change directories, ls to list the files in the current directory, and pwd to print the current working directory. Along with other commands like apt-get to install packages, sudo to increase our permissions. Along with the use of git commands to clone repositories, add files to the staging area, commit files, and push files to the remote repository, or deal with reverting changes. We also use other commands such as cat to print the contents of a file, and echo to print a string to the terminal. We also use the command clear to clear the terminal screen. \n",
    "\n",
    "- Version Control\n",
    "    - *Where are the files from GitHub placed on your local machine. How do you navigate to those files?*: \n",
    "        - The files from GitHub are placed in the directory that you specify when you clone the repository. For instance the /vscode directory. The directory of the clones repository can be navigated  by using the `cd` command with the name of the cloned directory.\n",
    "\n",
    "    - *Where are the files placed in the GitHub Cloud, how do you navigate to those files?*:\n",
    "        - The directory containing the files in the repository on GitHub is created on their servers (possibly on some Azure server somewhere). These files are then accessible and managed through the GitHub website or through the GitHub Desktop application or similar software.\n",
    "\n",
    "    - *How would you update your Template or Fork of student repository if teacher wanted you to pick up an update?*: \n",
    "        - To update the template or fork of the student repository, you would need to add the teacher repository as a remote repository. Then you would need to fetch the changes from the teacher repository and merge them into your local repository. Then push the changes to your repository updating your repository with the changes from the teacher repository. (There may be merge conflicts that need to be resolved.)\n",
    "\n",
    "- Github Pages: Put into words the difference between viewing Github Pages running on localhost machine versus running on a deployed server.\n",
    "    - *What is the localhost URL for your distribution? Can anyone else see it?* \n",
    "        - The url for my localhost version of Github pages is http://localhost:4200/Mort-Pages-Personal/ and no one else can see it as it running on a local port on my machine it is only accessible from my machine.\n",
    "\n",
    "        - *What is the Github pages URL for your distribution? Can anyone else see it?* My Github pages URL is https://Tirth-Thakkar.github.io/Mort-Pages-Personal/ and anyone can see it as it is hosted on Github's servers. With a custom domain name, it can be made to look like a professional website but however it is still the default link and setup for a typical Github pages website.\n",
    "    "
   ]
  }
 ],
 "metadata": {
  "kernelspec": {
   "display_name": "base",
   "language": "python",
   "name": "python3"
  },
  "language_info": {
   "codemirror_mode": {
    "name": "ipython",
    "version": 3
   },
   "file_extension": ".py",
   "mimetype": "text/x-python",
   "name": "python",
   "nbconvert_exporter": "python",
   "pygments_lexer": "ipython3",
   "version": "3.9.12"
  },
  "orig_nbformat": 4
 },
 "nbformat": 4,
 "nbformat_minor": 2
}
