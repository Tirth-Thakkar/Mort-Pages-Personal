{
 "cells": [
  {
   "cell_type": "markdown",
   "metadata": {},
   "source": [
    "---\n",
    "title: Algorythmic Code Prep\n",
    "description: Algo Code Prep and Reflections\n",
    "toc: true\n",
    "layout: post\n",
    "type: hacks\n",
    "comments: true\n",
    "---"
   ]
  },
  {
   "cell_type": "markdown",
   "metadata": {},
   "source": [
    "# Quick Sort "
   ]
  },
  {
   "cell_type": "code",
   "execution_count": 1,
   "metadata": {
    "vscode": {
     "languageId": "java"
    }
   },
   "outputs": [
    {
     "name": "stdout",
     "output_type": "stream",
     "text": [
      "Sorted array: \n",
      "1 2 3 3 4 6 7 8 "
     ]
    }
   ],
   "source": [
    "class QuickSort {\n",
    "    public void swamp(int[] arr, int first, int second) {\n",
    "        int temp = arr[first];\n",
    "        arr[first] = arr[second];\n",
    "        arr[second] = temp;\n",
    "    }\n",
    "\n",
    "\n",
    "    public int partition(int[] arr, int low, int high) {\n",
    "        int pivot = arr[high];\n",
    "        // index of smaller element\n",
    "        int i = low - 1;\n",
    "        \n",
    "        // Iterates through the values that are less than the pivot's index\n",
    "        for (int j = low; j < high; j++) {\n",
    "            \n",
    "            // If the value is less than pivot then the position is swapped to the left\n",
    "            if (arr[j] < pivot) {\n",
    "                i++;\n",
    "                swamp(arr, i, j);\n",
    "            }\n",
    "        }\n",
    "\n",
    "        // Otherwise greater elements go to the right of the pivot\n",
    "        swamp(arr, i + 1, high);\n",
    "        return i + 1;\n",
    "    }\n",
    "\n",
    "    public void quickSort(int[] arr, int low, int high) {\n",
    "        if (low < high) {\n",
    "            int pi = partition(arr, low, high);\n",
    "            \n",
    "            // Recursively sort elements before and after partition\n",
    "            quickSort(arr, low, pi - 1);\n",
    "            quickSort(arr, pi + 1, high);\n",
    "        }\n",
    "    }\n",
    "\n",
    "\n",
    "    public static void main(String[] args) {\n",
    "        int[] arr = {6,4,3,1,7,2,8,3};\n",
    "        int n = arr.length;\n",
    "        \n",
    "        QuickSort qs = new QuickSort();\n",
    "        qs.quickSort(arr, 0, n - 1);\n",
    "        \n",
    "        System.out.println(\"Sorted array: \");\n",
    "        for (int i = 0; i < n; i++) {\n",
    "            System.out.print(arr[i] + \" \");\n",
    "        }\n",
    "    }\n",
    "}\n",
    "\n",
    "QuickSort.main(null);\n",
    "\n"
   ]
  },
  {
   "cell_type": "code",
   "execution_count": 5,
   "metadata": {
    "vscode": {
     "languageId": "java"
    }
   },
   "outputs": [],
   "source": [
    "public class House implements Comparable<House> {\n",
    "    private String name;\n",
    "    private int price;\n",
    "\n",
    "    public House(String name, int price) {\n",
    "        this.name = name;\n",
    "        this.price = price;\n",
    "    }\n",
    "\n",
    "    public String getName() {\n",
    "        return name;\n",
    "    }\n",
    "\n",
    "    public int getPrice() {\n",
    "        return price;\n",
    "    }\n",
    "\n",
    "    @Override\n",
    "    public int compareTo(House other) {\n",
    "        return Integer.compare(this.price, other.price);\n",
    "    }\n",
    "\n",
    "    @Override\n",
    "    public String toString() {\n",
    "        return name + \" - $\" + price;\n",
    "    }\n",
    "}"
   ]
  },
  {
   "cell_type": "code",
   "execution_count": 13,
   "metadata": {
    "vscode": {
     "languageId": "java"
    }
   },
   "outputs": [
    {
     "name": "stdout",
     "output_type": "stream",
     "text": [
      "Sorted array: \n",
      "House A - $100000\n",
      "House C - $200000\n",
      "House D - $300000\n",
      "House E - $400000\n",
      "House B - $500000\n"
     ]
    }
   ],
   "source": [
    "// Generic Quicksort that can sort an array list of Generic Objects\n",
    "\n",
    "import java.util.ArrayList;\n",
    "import java.util.List;\n",
    "\n",
    "public class QuickSort<T extends Comparable<T>> {\n",
    "    public void swamp(List<T> arr, int first, int second) {\n",
    "        T temp = arr.get(first);\n",
    "        arr.set(first, arr.get(second));\n",
    "        arr.set(second, temp);\n",
    "    }\n",
    "\n",
    "    public int partition(List<T> arr, int low, int high) {\n",
    "        T pivot = arr.get(high);\n",
    "        int i = low - 1;\n",
    "        \n",
    "        for (int j = low; j < high; j++) {\n",
    "            // Using Compareto method that was defined in the house class to be able to see \n",
    "            // if the values are less than the pivot to move left\n",
    "            if (arr.get(j).compareTo(pivot) < 0) {\n",
    "                i++;\n",
    "                swamp(arr, i, j);\n",
    "            }\n",
    "        }\n",
    "\n",
    "        // Otherwise they go to the right\n",
    "        swamp(arr, i + 1, high);\n",
    "        return i + 1;\n",
    "    }\n",
    "\n",
    "    public void quickSort(List<T> arr, int low, int high) {\n",
    "        if (low < high) {\n",
    "            int pi = partition(arr, low, high);\n",
    "            quickSort(arr, low, pi - 1);\n",
    "            quickSort(arr, pi + 1, high);\n",
    "        }\n",
    "    }\n",
    "\n",
    "    public static void main(String[] args) {\n",
    "        // Arraylist of House objects instead of integers if used\n",
    "        // Otherwise is the same as if only integers was used\n",
    "        List<House> arr = new ArrayList<>();\n",
    "        arr.add(new House(\"House A\", 100000));\n",
    "        arr.add(new House(\"House B\", 500000));\n",
    "        arr.add(new House(\"House C\", 200000));\n",
    "        arr.add(new House(\"House D\", 300000));\n",
    "        arr.add(new House(\"House E\", 400000));\n",
    "        \n",
    "        QuickSort<House> qs = new QuickSort<>();\n",
    "        qs.quickSort(arr, 0, arr.size() - 1);\n",
    "        \n",
    "        System.out.println(\"Sorted array: \");\n",
    "        for (int i = 0; i < arr.size(); i++) {\n",
    "            System.out.println(arr.get(i));\n",
    "        }\n",
    "    }\n",
    "}\n",
    "\n",
    "QuickSort.main(null);"
   ]
  },
  {
   "cell_type": "markdown",
   "metadata": {},
   "source": [
    "# Insertion Sort"
   ]
  },
  {
   "cell_type": "code",
   "execution_count": 2,
   "metadata": {
    "vscode": {
     "languageId": "java"
    }
   },
   "outputs": [
    {
     "name": "stdout",
     "output_type": "stream",
     "text": [
      "Sorted array: \n",
      "1 2 3 3 4 6 7 8 "
     ]
    }
   ],
   "source": [
    "public class InsertionSort{\n",
    "    public void insertionSort(int[] arr){\n",
    "        int n = arr.length;\n",
    "        for (int i = 1; i < n; i++){\n",
    "            int key = arr[i];\n",
    "            int j = i - 1;\n",
    "            while (j >= 0 && arr[j] > key){\n",
    "                arr[j + 1] = arr[j];\n",
    "                j = j - 1;\n",
    "            }\n",
    "            arr[j + 1] = key;\n",
    "        }\n",
    "    }\n",
    "\n",
    "    public static void main(String[] args){\n",
    "        int[] arr = {6,4,3,1,7,2,8,3};\n",
    "        int n = arr.length;\n",
    "\n",
    "        InsertionSort is = new InsertionSort();\n",
    "        is.insertionSort(arr);\n",
    "\n",
    "        System.out.println(\"Sorted array: \");\n",
    "        for (int i = 0; i < n; i++){\n",
    "            System.out.print(arr[i] + \" \");\n",
    "        }\n",
    "    }\n",
    "}\n",
    "\n",
    "InsertionSort.main(null);"
   ]
  },
  {
   "cell_type": "code",
   "execution_count": 5,
   "metadata": {
    "vscode": {
     "languageId": "java"
    }
   },
   "outputs": [
    {
     "name": "stdout",
     "output_type": "stream",
     "text": [
      "Sorted array: \n",
      "House A - $100000\n",
      "House C - $200000\n",
      "House D - $300000\n",
      "House E - $400000\n",
      "House B - $500000\n"
     ]
    }
   ],
   "source": [
    "public class InsertionSort<T extends Comparable<T>> {\n",
    "    public void insertionSort(List<T> arr){\n",
    "        int n = arr.size();\n",
    "        for (int i = 1; i < n; i++){\n",
    "            T key = arr.get(i);\n",
    "            int j = i - 1;\n",
    "            while (j >= 0 && arr.get(j).compareTo(key) > 0){\n",
    "                arr.set(j + 1, arr.get(j));\n",
    "                j = j - 1;\n",
    "            }\n",
    "            arr.set(j + 1, key);\n",
    "        }\n",
    "    }\n",
    "    \n",
    "    public static void main(String[] args){\n",
    "        List<House> arr = new ArrayList<>();\n",
    "        arr.add(new House(\"House A\", 100000));\n",
    "        arr.add(new House(\"House B\", 500000));\n",
    "        arr.add(new House(\"House C\", 200000));\n",
    "        arr.add(new House(\"House D\", 300000));\n",
    "        arr.add(new House(\"House E\", 400000));\n",
    "        \n",
    "        InsertionSort<House> is = new InsertionSort<>();\n",
    "        is.insertionSort(arr);\n",
    "        \n",
    "        System.out.println(\"Sorted array: \");\n",
    "        for (int i = 0; i < arr.size(); i++){\n",
    "            System.out.println(arr.get(i));\n",
    "        }\n",
    "    }\n",
    "    \n",
    "}\n",
    "\n",
    "InsertionSort.main(null);"
   ]
  },
  {
   "cell_type": "markdown",
   "metadata": {},
   "source": [
    "# Selection Sort"
   ]
  },
  {
   "cell_type": "code",
   "execution_count": 6,
   "metadata": {
    "vscode": {
     "languageId": "java"
    }
   },
   "outputs": [
    {
     "name": "stdout",
     "output_type": "stream",
     "text": [
      "Sorted array: \n",
      "1 2 3 3 4 6 7 8 "
     ]
    }
   ],
   "source": [
    "public class SelectionSort{\n",
    "    public void selectionSort(int[] arr){\n",
    "        int n = arr.length;\n",
    "        for (int i = 0; i < n - 1; i++){\n",
    "            int minIndex = i;\n",
    "            for (int j = i + 1; j < n; j++){\n",
    "                if (arr[j] < arr[minIndex]){\n",
    "                    minIndex = j;\n",
    "                }\n",
    "            }\n",
    "            int temp = arr[minIndex];\n",
    "            arr[minIndex] = arr[i];\n",
    "            arr[i] = temp;\n",
    "        }\n",
    "    }\n",
    "\n",
    "    public static void main(String[] args){\n",
    "        int[] arr = {6,4,3,1,7,2,8,3};\n",
    "        int n = arr.length;\n",
    "\n",
    "        SelectionSort ss = new SelectionSort();\n",
    "        ss.selectionSort(arr);\n",
    "\n",
    "        System.out.println(\"Sorted array: \");\n",
    "        for (int i = 0; i < n; i++){\n",
    "            System.out.print(arr[i] + \" \");\n",
    "        }\n",
    "    }\n",
    "}\n",
    "\n",
    "SelectionSort.main(null);"
   ]
  },
  {
   "cell_type": "code",
   "execution_count": 8,
   "metadata": {
    "vscode": {
     "languageId": "java"
    }
   },
   "outputs": [
    {
     "name": "stdout",
     "output_type": "stream",
     "text": [
      "Sorted array: \n",
      "House A - $100000\n",
      "House C - $200000\n",
      "House D - $300000\n",
      "House E - $400000\n",
      "House B - $500000\n"
     ]
    }
   ],
   "source": [
    "public class SelectionSort<T extends Comparable<T>>{\n",
    "    public void selectionSort(List<T> arr){\n",
    "        int n = arr.size();\n",
    "        for (int i = 0; i < n - 1; i++){\n",
    "            int minIndex = i;\n",
    "            for (int j = i + 1; j < n; j++){\n",
    "                if (arr.get(j).compareTo(arr.get(minIndex)) < 0){\n",
    "                    minIndex = j;\n",
    "                }\n",
    "            }\n",
    "            T temp = arr.get(minIndex);\n",
    "            arr.set(minIndex, arr.get(i));\n",
    "            arr.set(i, temp);\n",
    "        }\n",
    "    }\n",
    "\n",
    "    public static void main(String[] args){\n",
    "        List<House> arr = new ArrayList<>();\n",
    "        arr.add(new House(\"House A\", 100000));\n",
    "        arr.add(new House(\"House B\", 500000));\n",
    "        arr.add(new House(\"House C\", 200000));\n",
    "        arr.add(new House(\"House D\", 300000));\n",
    "        arr.add(new House(\"House E\", 400000));\n",
    "        \n",
    "        SelectionSort<House> ss = new SelectionSort<>();\n",
    "        ss.selectionSort(arr);\n",
    "        \n",
    "        System.out.println(\"Sorted array: \");\n",
    "        for (int i = 0; i < arr.size(); i++){\n",
    "            System.out.println(arr.get(i));\n",
    "        }\n",
    "    }\n",
    "}\n",
    "\n",
    "SelectionSort.main(null);"
   ]
  },
  {
   "cell_type": "markdown",
   "metadata": {},
   "source": [
    "# Merge Sort"
   ]
  },
  {
   "cell_type": "code",
   "execution_count": 2,
   "metadata": {
    "vscode": {
     "languageId": "java"
    }
   },
   "outputs": [
    {
     "name": "stdout",
     "output_type": "stream",
     "text": [
      "Sorted array: \n",
      "1 2 3 3 4 6 7 8 "
     ]
    }
   ],
   "source": [
    "public class MergeSort{\n",
    "    public void merge(int[] arr, int l, int m, int r){\n",
    "        int n1 = m - l + 1;\n",
    "        int n2 = r - m;\n",
    "\n",
    "        int Left[] = new int[n1];\n",
    "        int Right[] = new int[n2];\n",
    "\n",
    "        for (int i = 0; i < n1; i++){\n",
    "            Left[i] = arr[l + i];\n",
    "        }\n",
    "        for (int j = 0; j < n2; j++){\n",
    "            Right[j] = arr[m + 1 + j];\n",
    "        }\n",
    "\n",
    "        int i = 0, j = 0;\n",
    "        int k = l;\n",
    "        while (i < n1 && j < n2){\n",
    "            if (Left[i] <= Right[j]){\n",
    "                arr[k] = Left[i];\n",
    "                i++;\n",
    "            } else {\n",
    "                arr[k] = Right[j];\n",
    "                j++;\n",
    "            }\n",
    "            k++;\n",
    "        }\n",
    "\n",
    "        while (i < n1){\n",
    "            arr[k] = Left[i];\n",
    "            i++;\n",
    "            k++;\n",
    "        }\n",
    "\n",
    "        while (j < n2){\n",
    "            arr[k] = Right[j];\n",
    "            j++;\n",
    "            k++;\n",
    "        }\n",
    "    }\n",
    "\n",
    "    public void mergeSort(int[] arr, int l, int r){\n",
    "        if (l < r){\n",
    "            int m = l + (r - l) / 2;\n",
    "            mergeSort(arr, l, m);\n",
    "            mergeSort(arr, m + 1, r);\n",
    "            merge(arr, l, m, r);\n",
    "        }\n",
    "    }\n",
    "\n",
    "    public static void main(String[] args){\n",
    "        int[] arr = {6,4,3,1,7,2,8,3};\n",
    "        int n = arr.length;\n",
    "\n",
    "        MergeSort ms = new MergeSort();\n",
    "        ms.mergeSort(arr, 0, n - 1);\n",
    "\n",
    "        System.out.println(\"Sorted array: \");\n",
    "        for (int i = 0; i < n; i++){\n",
    "            System.out.print(arr[i] + \" \");\n",
    "        }\n",
    "    }\n",
    "}\n",
    "\n",
    "MergeSort.main(null);"
   ]
  },
  {
   "cell_type": "code",
   "execution_count": 6,
   "metadata": {
    "vscode": {
     "languageId": "java"
    }
   },
   "outputs": [
    {
     "name": "stdout",
     "output_type": "stream",
     "text": [
      "Sorted array: \n",
      "House A - $100000\n",
      "House C - $200000\n",
      "House D - $300000\n",
      "House E - $400000\n",
      "House B - $500000\n"
     ]
    }
   ],
   "source": [
    "public class MergeSort<T extends Comparable<T>>{\n",
    "    public void merge(List<T> arr, int l, int m, int r){\n",
    "        int n1 = m - l + 1;\n",
    "        int n2 = r - m;\n",
    "\n",
    "        List<T> Left = new ArrayList<>();\n",
    "        List<T> Right = new ArrayList<>();\n",
    "\n",
    "        for (int i = 0; i < n1; i++){\n",
    "            Left.add(arr.get(l + i));\n",
    "        }\n",
    "        for (int j = 0; j < n2; j++){\n",
    "            Right.add(arr.get(m + 1 + j));\n",
    "        }\n",
    "\n",
    "        int i = 0, j = 0;\n",
    "        int k = l;\n",
    "        while (i < n1 && j < n2){\n",
    "            if (Left.get(i).compareTo(Right.get(j)) <= 0){\n",
    "                arr.set(k, Left.get(i));\n",
    "                i++;\n",
    "            } else {\n",
    "                arr.set(k, Right.get(j));\n",
    "                j++;\n",
    "            }\n",
    "            k++;\n",
    "        }\n",
    "\n",
    "        while (i < n1){\n",
    "            arr.set(k, Left.get(i));\n",
    "            i++;\n",
    "            k++;\n",
    "        }\n",
    "\n",
    "        while (j < n2){\n",
    "            arr.set(k, Right.get(j));\n",
    "            j++;\n",
    "            k++;\n",
    "        }\n",
    "    }\n",
    "\n",
    "    public void mergeSort(List<T> arr, int l, int r){\n",
    "        if (l < r){\n",
    "            int m = l + (r - l) / 2;\n",
    "            mergeSort(arr, l, m);\n",
    "            mergeSort(arr, m + 1, r);\n",
    "            merge(arr, l, m, r);\n",
    "        }\n",
    "    }\n",
    "\n",
    "    public static void main(String[] args){\n",
    "        List<House> arr = new ArrayList<>();\n",
    "        arr.add(new House(\"House A\", 100000));\n",
    "        arr.add(new House(\"House B\", 500000));\n",
    "        arr.add(new House(\"House C\", 200000));\n",
    "        arr.add(new House(\"House D\", 300000));\n",
    "        arr.add(new House(\"House E\", 400000));\n",
    "        \n",
    "        MergeSort<House> ms = new MergeSort<>();\n",
    "        ms.mergeSort(arr, 0, arr.size() - 1);\n",
    "        \n",
    "        System.out.println(\"Sorted array: \");\n",
    "        for (int i = 0; i < arr.size(); i++){\n",
    "            System.out.println(arr.get(i));\n",
    "        }\n",
    "    }\n",
    "}\n",
    "\n",
    "MergeSort.main(null);"
   ]
  },
  {
   "cell_type": "markdown",
   "metadata": {},
   "source": [
    "# Bubble Sort"
   ]
  },
  {
   "cell_type": "code",
   "execution_count": 15,
   "metadata": {
    "vscode": {
     "languageId": "java"
    }
   },
   "outputs": [
    {
     "name": "stdout",
     "output_type": "stream",
     "text": [
      "Sorted array: \n",
      "1 2 3 3 4 6 7 8 "
     ]
    }
   ],
   "source": [
    "public class BubbleSort{\n",
    "    public void bubbleSort(int[] arr) {\n",
    "        int n = arr.length;\n",
    "        for (int i = 0; i < n - 1; i++) {\n",
    "            for (int j = 0; j < n - i - 1; j++) {\n",
    "                if (arr[j] > arr[j + 1]) {\n",
    "                    int temp = arr[j];\n",
    "                    arr[j] = arr[j + 1];\n",
    "                    arr[j + 1] = temp;\n",
    "                }\n",
    "            }\n",
    "        }\n",
    "    }\n",
    "\n",
    "    public static void main(String[] args) {\n",
    "        int[] arr = {6,4,3,1,7,2,8,3};\n",
    "        BubbleSort bs = new BubbleSort();\n",
    "        bs.bubbleSort(arr);\n",
    "        \n",
    "        System.out.println(\"Sorted array: \");\n",
    "        for (int i = 0; i < arr.length; i++) {\n",
    "            System.out.print(arr[i] + \" \");\n",
    "        }\n",
    "    }\n",
    "}\n",
    "\n",
    "BubbleSort.main(null);"
   ]
  },
  {
   "cell_type": "code",
   "execution_count": null,
   "metadata": {
    "vscode": {
     "languageId": "java"
    }
   },
   "outputs": [],
   "source": [
    "public class House implements Comparable<House> {\n",
    "    private String name;\n",
    "    private int price;\n",
    "\n",
    "    public House(String name, int price) {\n",
    "        this.name = name;\n",
    "        this.price = price;\n",
    "    }\n",
    "\n",
    "    public String getName() {\n",
    "        return name;\n",
    "    }\n",
    "\n",
    "    public int getPrice() {\n",
    "        return price;\n",
    "    }\n",
    "\n",
    "    @Override\n",
    "    public int compareTo(House other) {\n",
    "        return Integer.compare(this.price, other.price);\n",
    "    }\n",
    "\n",
    "    @Override\n",
    "    public String toString() {\n",
    "        return name + \" - $\" + price;\n",
    "    }\n",
    "}"
   ]
  },
  {
   "cell_type": "code",
   "execution_count": 17,
   "metadata": {
    "vscode": {
     "languageId": "java"
    }
   },
   "outputs": [
    {
     "name": "stdout",
     "output_type": "stream",
     "text": [
      "Sorted array: \n",
      "House A - $100000\n",
      "House C - $200000\n",
      "House D - $300000\n",
      "House E - $400000\n",
      "House B - $500000\n"
     ]
    }
   ],
   "source": [
    "public class BubbleSort<T extends Comparable<T>> {\n",
    "    public void bubbleSort(List<T> arr) {\n",
    "        int n = arr.size();\n",
    "        for (int i = 0; i < n - 1; i++) {\n",
    "            for (int j = 0; j < n - i - 1; j++) {\n",
    "                if (arr.get(j).compareTo(arr.get(j + 1)) > 0) {\n",
    "                    T temp = arr.get(j);\n",
    "                    arr.set(j, arr.get(j + 1));\n",
    "                    arr.set(j + 1, temp);\n",
    "                }\n",
    "            }\n",
    "        }\n",
    "    }\n",
    "\n",
    "    public static void main(String[] args) {\n",
    "        List<House> arr = new ArrayList<>();\n",
    "        arr.add(new House(\"House A\", 100000));\n",
    "        arr.add(new House(\"House B\", 500000));\n",
    "        arr.add(new House(\"House C\", 200000));\n",
    "        arr.add(new House(\"House D\", 300000));\n",
    "        arr.add(new House(\"House E\", 400000));\n",
    "        \n",
    "        BubbleSort<House> bs = new BubbleSort<>();\n",
    "        bs.bubbleSort(arr);\n",
    "        \n",
    "        System.out.println(\"Sorted array: \");\n",
    "        for (int i = 0; i < arr.size(); i++) {\n",
    "            System.out.println(arr.get(i));\n",
    "        }\n",
    "    }\n",
    "}\n",
    "\n",
    "BubbleSort.main(null);"
   ]
  }
 ],
 "metadata": {
  "kernelspec": {
   "display_name": "Java",
   "language": "java",
   "name": "java"
  },
  "language_info": {
   "codemirror_mode": "java",
   "file_extension": ".jshell",
   "mimetype": "text/x-java-source",
   "name": "Java",
   "pygments_lexer": "java",
   "version": "21+35-LTS-2513"
  }
 },
 "nbformat": 4,
 "nbformat_minor": 2
}
