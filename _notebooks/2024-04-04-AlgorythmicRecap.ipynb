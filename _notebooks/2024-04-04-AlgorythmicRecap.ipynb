{
 "cells": [
  {
   "cell_type": "markdown",
   "metadata": {},
   "source": [
    "---\n",
    "title: Algorythmic Code Prep\n",
    "description: Algo Code Prep and Reflections\n",
    "toc: true\n",
    "layout: post\n",
    "type: hacks\n",
    "comments: true\n",
    "---"
   ]
  },
  {
   "cell_type": "markdown",
   "metadata": {},
   "source": [
    "# Quick Sort "
   ]
  },
  {
   "cell_type": "code",
   "execution_count": 1,
   "metadata": {
    "vscode": {
     "languageId": "java"
    }
   },
   "outputs": [
    {
     "name": "stdout",
     "output_type": "stream",
     "text": [
      "Sorted array: \n",
      "1 2 3 3 4 6 7 8 "
     ]
    }
   ],
   "source": [
    "class QuickSort {\n",
    "    public void swamp(int[] arr, int first, int second) {\n",
    "        int temp = arr[first];\n",
    "        arr[first] = arr[second];\n",
    "        arr[second] = temp;\n",
    "    }\n",
    "\n",
    "\n",
    "    public int partition(int[] arr, int low, int high) {\n",
    "        int pivot = arr[high];\n",
    "        // index of smaller element\n",
    "        int i = low - 1;\n",
    "        \n",
    "        // Iterates through the values that are less than the pivot's index\n",
    "        for (int j = low; j < high; j++) {\n",
    "            \n",
    "            // If the value is less than pivot then the position is swapped to the left\n",
    "            if (arr[j] < pivot) {\n",
    "                i++;\n",
    "                swamp(arr, i, j);\n",
    "            }\n",
    "        }\n",
    "\n",
    "        // Otherwise greater elements go to the right of the pivot\n",
    "        swamp(arr, i + 1, high);\n",
    "        return i + 1;\n",
    "    }\n",
    "\n",
    "    public void quickSort(int[] arr, int low, int high) {\n",
    "        if (low < high) {\n",
    "            int pi = partition(arr, low, high);\n",
    "            \n",
    "            // Recursively sort elements before and after partition\n",
    "            quickSort(arr, low, pi - 1);\n",
    "            quickSort(arr, pi + 1, high);\n",
    "        }\n",
    "    }\n",
    "\n",
    "\n",
    "    public static void main(String[] args) {\n",
    "        int[] arr = {6,4,3,1,7,2,8,3};\n",
    "        int n = arr.length;\n",
    "        \n",
    "        QuickSort qs = new QuickSort();\n",
    "        qs.quickSort(arr, 0, n - 1);\n",
    "        \n",
    "        System.out.println(\"Sorted array: \");\n",
    "        for (int i = 0; i < n; i++) {\n",
    "            System.out.print(arr[i] + \" \");\n",
    "        }\n",
    "    }\n",
    "}\n",
    "\n",
    "QuickSort.main(null);\n",
    "\n"
   ]
  },
  {
   "cell_type": "code",
   "execution_count": 12,
   "metadata": {
    "vscode": {
     "languageId": "java"
    }
   },
   "outputs": [],
   "source": [
    "public class House implements Comparable<House> {\n",
    "    private String name;\n",
    "    private int price;\n",
    "\n",
    "    public House(String name, int price) {\n",
    "        this.name = name;\n",
    "        this.price = price;\n",
    "    }\n",
    "\n",
    "    public String getName() {\n",
    "        return name;\n",
    "    }\n",
    "\n",
    "    public int getPrice() {\n",
    "        return price;\n",
    "    }\n",
    "\n",
    "    @Override\n",
    "    public int compareTo(House other) {\n",
    "        return Integer.compare(this.price, other.price);\n",
    "    }\n",
    "\n",
    "    @Override\n",
    "    public String toString() {\n",
    "        return name + \" - $\" + price;\n",
    "    }\n",
    "}"
   ]
  },
  {
   "cell_type": "code",
   "execution_count": 13,
   "metadata": {
    "vscode": {
     "languageId": "java"
    }
   },
   "outputs": [
    {
     "name": "stdout",
     "output_type": "stream",
     "text": [
      "Sorted array: \n",
      "House A - $100000\n",
      "House C - $200000\n",
      "House D - $300000\n",
      "House E - $400000\n",
      "House B - $500000\n"
     ]
    }
   ],
   "source": [
    "// Generic Quicksort that can sort an array list of Generic Objects\n",
    "\n",
    "import java.util.ArrayList;\n",
    "import java.util.List;\n",
    "\n",
    "public class QuickSort<T extends Comparable<T>> {\n",
    "    public void swamp(List<T> arr, int first, int second) {\n",
    "        T temp = arr.get(first);\n",
    "        arr.set(first, arr.get(second));\n",
    "        arr.set(second, temp);\n",
    "    }\n",
    "\n",
    "    public int partition(List<T> arr, int low, int high) {\n",
    "        T pivot = arr.get(high);\n",
    "        int i = low - 1;\n",
    "        \n",
    "        for (int j = low; j < high; j++) {\n",
    "            // Using Compareto method that was defined in the house class to be able to see \n",
    "            // if the values are less than the pivot to move left\n",
    "            if (arr.get(j).compareTo(pivot) < 0) {\n",
    "                i++;\n",
    "                swamp(arr, i, j);\n",
    "            }\n",
    "        }\n",
    "\n",
    "        // Otherwise they go to the right\n",
    "        swamp(arr, i + 1, high);\n",
    "        return i + 1;\n",
    "    }\n",
    "\n",
    "    public void quickSort(List<T> arr, int low, int high) {\n",
    "        if (low < high) {\n",
    "            int pi = partition(arr, low, high);\n",
    "            quickSort(arr, low, pi - 1);\n",
    "            quickSort(arr, pi + 1, high);\n",
    "        }\n",
    "    }\n",
    "\n",
    "    public static void main(String[] args) {\n",
    "        // Arraylist of House objects instead of integers if used\n",
    "        // Otherwise is the same as if only integers was used\n",
    "        List<House> arr = new ArrayList<>();\n",
    "        arr.add(new House(\"House A\", 100000));\n",
    "        arr.add(new House(\"House B\", 500000));\n",
    "        arr.add(new House(\"House C\", 200000));\n",
    "        arr.add(new House(\"House D\", 300000));\n",
    "        arr.add(new House(\"House E\", 400000));\n",
    "        \n",
    "        QuickSort<House> qs = new QuickSort<>();\n",
    "        qs.quickSort(arr, 0, arr.size() - 1);\n",
    "        \n",
    "        System.out.println(\"Sorted array: \");\n",
    "        for (int i = 0; i < arr.size(); i++) {\n",
    "            System.out.println(arr.get(i));\n",
    "        }\n",
    "    }\n",
    "}\n",
    "\n",
    "QuickSort.main(null);"
   ]
  },
  {
   "cell_type": "markdown",
   "metadata": {},
   "source": [
    "# Insertion Sort"
   ]
  },
  {
   "cell_type": "code",
   "execution_count": null,
   "metadata": {
    "vscode": {
     "languageId": "java"
    }
   },
   "outputs": [],
   "source": []
  },
  {
   "cell_type": "markdown",
   "metadata": {},
   "source": [
    "# Selection Sort"
   ]
  },
  {
   "cell_type": "code",
   "execution_count": null,
   "metadata": {
    "vscode": {
     "languageId": "java"
    }
   },
   "outputs": [],
   "source": []
  },
  {
   "cell_type": "markdown",
   "metadata": {},
   "source": [
    "# Merge Sort"
   ]
  },
  {
   "cell_type": "code",
   "execution_count": null,
   "metadata": {
    "vscode": {
     "languageId": "java"
    }
   },
   "outputs": [],
   "source": []
  },
  {
   "cell_type": "markdown",
   "metadata": {},
   "source": [
    "# Bubble Sort"
   ]
  },
  {
   "cell_type": "code",
   "execution_count": 15,
   "metadata": {
    "vscode": {
     "languageId": "java"
    }
   },
   "outputs": [
    {
     "name": "stdout",
     "output_type": "stream",
     "text": [
      "Sorted array: \n",
      "1 2 3 3 4 6 7 8 "
     ]
    }
   ],
   "source": [
    "public class BubbleSort{\n",
    "    public void bubbleSort(int[] arr) {\n",
    "        int n = arr.length;\n",
    "        for (int i = 0; i < n - 1; i++) {\n",
    "            for (int j = 0; j < n - i - 1; j++) {\n",
    "                if (arr[j] > arr[j + 1]) {\n",
    "                    int temp = arr[j];\n",
    "                    arr[j] = arr[j + 1];\n",
    "                    arr[j + 1] = temp;\n",
    "                }\n",
    "            }\n",
    "        }\n",
    "    }\n",
    "\n",
    "    public static void main(String[] args) {\n",
    "        int[] arr = {6,4,3,1,7,2,8,3};\n",
    "        BubbleSort bs = new BubbleSort();\n",
    "        bs.bubbleSort(arr);\n",
    "        \n",
    "        System.out.println(\"Sorted array: \");\n",
    "        for (int i = 0; i < arr.length; i++) {\n",
    "            System.out.print(arr[i] + \" \");\n",
    "        }\n",
    "    }\n",
    "}\n",
    "\n",
    "BubbleSort.main(null);"
   ]
  },
  {
   "cell_type": "code",
   "execution_count": null,
   "metadata": {
    "vscode": {
     "languageId": "java"
    }
   },
   "outputs": [],
   "source": [
    "public class House implements Comparable<House> {\n",
    "    private String name;\n",
    "    private int price;\n",
    "\n",
    "    public House(String name, int price) {\n",
    "        this.name = name;\n",
    "        this.price = price;\n",
    "    }\n",
    "\n",
    "    public String getName() {\n",
    "        return name;\n",
    "    }\n",
    "\n",
    "    public int getPrice() {\n",
    "        return price;\n",
    "    }\n",
    "\n",
    "    @Override\n",
    "    public int compareTo(House other) {\n",
    "        return Integer.compare(this.price, other.price);\n",
    "    }\n",
    "\n",
    "    @Override\n",
    "    public String toString() {\n",
    "        return name + \" - $\" + price;\n",
    "    }\n",
    "}"
   ]
  },
  {
   "cell_type": "code",
   "execution_count": 17,
   "metadata": {
    "vscode": {
     "languageId": "java"
    }
   },
   "outputs": [
    {
     "name": "stdout",
     "output_type": "stream",
     "text": [
      "Sorted array: \n",
      "House A - $100000\n",
      "House C - $200000\n",
      "House D - $300000\n",
      "House E - $400000\n",
      "House B - $500000\n"
     ]
    }
   ],
   "source": [
    "public class BubbleSort<T extends Comparable<T>> {\n",
    "    public void bubbleSort(List<T> arr) {\n",
    "        int n = arr.size();\n",
    "        for (int i = 0; i < n - 1; i++) {\n",
    "            for (int j = 0; j < n - i - 1; j++) {\n",
    "                if (arr.get(j).compareTo(arr.get(j + 1)) > 0) {\n",
    "                    T temp = arr.get(j);\n",
    "                    arr.set(j, arr.get(j + 1));\n",
    "                    arr.set(j + 1, temp);\n",
    "                }\n",
    "            }\n",
    "        }\n",
    "    }\n",
    "\n",
    "    public static void main(String[] args) {\n",
    "        List<House> arr = new ArrayList<>();\n",
    "        arr.add(new House(\"House A\", 100000));\n",
    "        arr.add(new House(\"House B\", 500000));\n",
    "        arr.add(new House(\"House C\", 200000));\n",
    "        arr.add(new House(\"House D\", 300000));\n",
    "        arr.add(new House(\"House E\", 400000));\n",
    "        \n",
    "        BubbleSort<House> bs = new BubbleSort<>();\n",
    "        bs.bubbleSort(arr);\n",
    "        \n",
    "        System.out.println(\"Sorted array: \");\n",
    "        for (int i = 0; i < arr.size(); i++) {\n",
    "            System.out.println(arr.get(i));\n",
    "        }\n",
    "    }\n",
    "}\n",
    "\n",
    "BubbleSort.main(null);"
   ]
  }
 ],
 "metadata": {
  "kernelspec": {
   "display_name": "Java",
   "language": "java",
   "name": "java"
  },
  "language_info": {
   "codemirror_mode": "java",
   "file_extension": ".jshell",
   "mimetype": "text/x-java-source",
   "name": "Java",
   "pygments_lexer": "java",
   "version": "21+35-LTS-2513"
  }
 },
 "nbformat": 4,
 "nbformat_minor": 2
}
