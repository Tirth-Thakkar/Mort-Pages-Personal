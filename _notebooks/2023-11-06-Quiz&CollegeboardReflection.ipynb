{
 "cells": [
  {
   "cell_type": "markdown",
   "metadata": {},
   "source": [
    "---\n",
    "toc: true\n",
    "comments: true\n",
    "layout: post\n",
    "title: CollegeBoard MC & Trimester Reflections\n",
    "author: Tirth Thakkar\n",
    "description: Reflection on my Collegeboard MC scores\n",
    "image: /images/Scammer.png\n",
    "categories: [week10]\n",
    "type: tangibles\n",
    "courses: { compsci: {week: 10} }\n",
    "---"
   ]
  },
  {
   "cell_type": "markdown",
   "metadata": {},
   "source": [
    "## Score \n",
    "![image](https://github.com/Tirth-Thakkar/Mort-Pages-Personal/assets/108642800/14f64faf-1613-4823-9801-7ad74f3fea6b)\n",
    "\n",
    "- I scored a 49/50 on the Collegeboard Practice MCQ or a 98%."
   ]
  },
  {
   "cell_type": "markdown",
   "metadata": {},
   "source": [
    "## Corrections\n",
    "\n",
    "![image](https://github.com/Tirth-Thakkar/Mort-Pages-Personal/assets/108642800/3a565c0e-321d-4143-a705-b8beb2caaf65)\n",
    "\n",
    "- I had incorrectly marked option B which was 6 as a correct answer. When the actual correct answer was option C which was 7. I had misunderstood the question and the nature that for loop that summed up the respective elements within array {3,6,1,0,1,4,2} adding the elements 3 + 1 + 1 + 2 which is 7 not 6. "
   ]
  },
  {
   "cell_type": "markdown",
   "metadata": {},
   "source": [
    "## Reflections For Trimester 1\n",
    "\n",
    "### Learnings\n",
    "- I had learned about the various principles of hardware and software integration such as in the sense of being able to trouble shoot issues that arise with issues that are aside from programming such as issues with installing dependencies and creating solutions that can resolve these issues even when the tools are not properly documented that we are using such as the use of pi4j not working properly on the pi and having to involve massive amounts of energy to do so.\n",
    "\n",
    "- Along with also learning about the various software connections that take place from semaphores being used to limit the amount of connections by limiting resources using semaphore along with use of websockets through the use of socket.io to create a connection between the client and the server to allow for the client to send data to the server and the server to send data to the client without having to constantly wait for the server to respond. \n",
    "\n",
    "## Challenges  \n",
    "- A key challenge was the integration in setup through having to physically set aside time to work with the team and go to and work towards creating the project to be able to test on the pi hardware itself. \n",
    "- Another challenge that arose with this was the fact that we had a very ambitious project that took far to long to be able to setup and create a functioning prototype before night at the museum however a solution to this would be to either reduce the complexity or be able to purchase components faster however due to shipping and supply chain constraints this was not possible. So for future continuations of this project it would be easier to continue as all components are there to be able to create the needed software platforms.  "
   ]
  }
 ],
 "metadata": {
  "language_info": {
   "name": "python"
  }
 },
 "nbformat": 4,
 "nbformat_minor": 2
}
