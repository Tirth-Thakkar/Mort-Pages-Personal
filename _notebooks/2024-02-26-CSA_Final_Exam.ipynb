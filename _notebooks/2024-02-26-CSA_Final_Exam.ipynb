{
 "cells": [
  {
   "cell_type": "markdown",
   "metadata": {},
   "source": [
    "---\n",
    "toc: true\n",
    "comments: false\n",
    "layout: post\n",
    "title: Trimester 2 Final (2015 FRQ)\n",
    "description: 2015 FRQ Solutions all in one place with no reflections.\n",
    "type: tangibles\n",
    "image: /images/Scammer.png\n",
    "comments: true\n",
    "categories: [week34]\n",
    "courses: { compsci: {week: 34} }\n",
    "---"
   ]
  },
  {
   "cell_type": "markdown",
   "metadata": {},
   "source": [
    "# Question 1: 2D Arrays\n",
    "\n",
    "## Part A\n",
    "Write a static method arraySum that calculates and returns the sum of the entries in a specified one-dimensional array. The following example shows an array arr1 and the value returned by a call to arraySum."
   ]
  },
  {
   "cell_type": "code",
   "execution_count": 71,
   "metadata": {},
   "outputs": [
    {
     "data": {
      "text/plain": [
       "10"
      ]
     },
     "execution_count": 71,
     "metadata": {},
     "output_type": "execute_result"
    }
   ],
   "source": [
    "public static int arraySum(int[] arr){\n",
    "    int arrSum = 0;\n",
    "    for(int i = 0; i < arr.length; i++){\n",
    "        arrSum += arr[i]; \n",
    "    }\n",
    "    return arrSum;\n",
    "}\n",
    "\n",
    "int[] arr = {1,2,3,4};\n",
    "arraySum(arr);"
   ]
  },
  {
   "cell_type": "markdown",
   "metadata": {},
   "source": [
    "## Part B\n",
    "Write a static method rowSums that calculates the sums of each of the rows in a given two-dimensional array and returns these sums in a one-dimensional array. The method has one parameter, a two- dimensional array arr2D of int values. The array is in row-major order: arr2D[r][c] is the entry\n",
    "at row r and column c. The method returns a one-dimensional array with one entry for each row of\n",
    "arr2D such that each entry is the sum of the corresponding row in arr2D. As a reminder, each row of a two-dimensional array is a one-dimensional array. For example, if mat1 is the array represented by the following table, the call rowSums(mat1) returns the array {16, 32, 28, 20}.\n"
   ]
  },
  {
   "cell_type": "code",
   "execution_count": 72,
   "metadata": {},
   "outputs": [
    {
     "name": "stdout",
     "output_type": "stream",
     "text": [
      "[16, 32, 28, 20]\n"
     ]
    }
   ],
   "source": [
    "public static int[] rowSums(int[][] arr2d){  \n",
    "    int[] sumArr = new int[arr2d.length];\n",
    "    for(int i = 0; i < arr2d.length; i++){\n",
    "        int rowSum = arraySum(arr2d[i]);\n",
    "        sumArr[i] = rowSum;\n",
    "    };\n",
    "    return sumArr;\n",
    "}\n",
    "int[][] mat1 = new int[][]{\n",
    "    {1,3,2,7,3},\n",
    "    {10,10,4,6,2},\n",
    "    {5,3,5,9,6},\n",
    "    {7,6,4,2,1}\n",
    "};\n",
    "\n",
    "System.out.println(Arrays.toString(rowSums(mat1)));\n"
   ]
  },
  {
   "cell_type": "markdown",
   "metadata": {},
   "source": [
    "## Part C\n",
    "A two-dimensional array is diverse if no two of its rows have entries that sum to the same value. In the following examples, the array mat1 is diverse because each row sum is different, but the array mat2 is\n",
    "not diverse because the first and last rows have the same sum.Write a static method isDiverse that determines whether or not a given two-dimensional array is diverse. The method has one parameter: a two-dimensional array arr2D of int values. The method\n",
    "should return true if all the row sums in the given array are unique; otherwise, it should return false. In the arrays shown above, the call isDiverse(mat1) returns true and the call isDiverse(mat2) returns false.\n"
   ]
  },
  {
   "cell_type": "code",
   "execution_count": 73,
   "metadata": {},
   "outputs": [
    {
     "name": "stdout",
     "output_type": "stream",
     "text": [
      "Call 1 Mat 1\n",
      "true\n",
      "\n",
      "Call 2 Mat 2\n",
      "false\n"
     ]
    }
   ],
   "source": [
    "public static boolean isDiverse(int[][] mat1){\n",
    "    boolean diverse = false;\n",
    "    int[] rowSums = rowSums(mat1);\n",
    "\n",
    "    for(int i = 0; i < rowSums.length; i++){\n",
    "        for(int j = i+1; j < rowSums.length; j++){\n",
    "            if (rowSums[i] != rowSums[j]){\n",
    "                continue;\n",
    "            } else{\n",
    "                return diverse;\n",
    "            }\n",
    "        }\n",
    "    }\n",
    "    diverse = true;\n",
    "    return diverse;\n",
    "}\n",
    "\n",
    "\n",
    "System.out.println(\"Call 1 Mat 1\");\n",
    "System.out.println(isDiverse(mat1));\n",
    "\n",
    "int[][] mat2 = {\n",
    "    {1,1,5,3,4},\n",
    "    {12,7,6,1,9},\n",
    "    {8,11,10,2,5},\n",
    "    {3,2,3,0,6}\n",
    "};\n",
    "\n",
    "\n",
    "System.out.println(\"\\nCall 2 Mat 2\");\n",
    "System.out.println(isDiverse(mat2));"
   ]
  },
  {
   "cell_type": "markdown",
   "metadata": {},
   "source": [
    "# Question 2: Classes\n",
    "Consider a guessing game in which a player tries to guess a hidden word. The hidden word contains only capital letters and has a length known to the player. A guess contains only capital letters and has the same length as the hidden word. After a guess is made, the player is given a hint that is based on a comparison between the hidden word and the guess. Each position in the hint contains a character that corresponds to the letter in the same position in the guess. The following rules  determine the characters that appear in the hint.\n",
    "\n",
    "![image](https://github.com/Tirth-Thakkar/Mort-Pages-Personal/assets/108642800/77f4fa48-74c4-499e-aadc-c6c0d2a90241)\n",
    "\n",
    "The HiddenWord class will be used to represent the hidden word in the game. The hidden word is passed to the constructor. The class contains a method, getHint, that takes a guess and produces a hint. For example, suppose the variable puzzle is declared as follows. \n",
    "\n",
    "```java\n",
    "HiddenWord puzzle = new HiddenWord(\"HARPS\");\n",
    "```\n",
    "\n",
    "The following table shows several guesses and the hints that would be produced.\n",
    "\n",
    "![image](https://github.com/Tirth-Thakkar/Mort-Pages-Personal/assets/108642800/65561260-669a-40be-9147-ba8cea8e5ba5)\n",
    "\n",
    "\n",
    "Write the complete `HiddenWord` class, including any necessary instance variables, its constructor, and the\n",
    "method, `getHint`, described above. You may assume that the length of the guess is the same as the length of\n",
    "the hidden word.\n"
   ]
  },
  {
   "cell_type": "code",
   "execution_count": 29,
   "metadata": {},
   "outputs": [
    {
     "name": "stdout",
     "output_type": "stream",
     "text": [
      "+A+++\n",
      "H****\n",
      "H*++*\n",
      "HAR*S\n",
      "HARPS\n"
     ]
    }
   ],
   "source": [
    "public class HiddenWord{\n",
    "    private String hiddenWord;\n",
    "    \n",
    "    public HiddenWord(String hiddenWord){\n",
    "        this.hiddenWord = hiddenWord.toUpperCase().strip();\n",
    "    }\n",
    "\n",
    "    public String getHiddenWord(){\n",
    "        return this.hiddenWord;\n",
    "    }\n",
    "\n",
    "    public String getHint(String guess){\n",
    "        guess = guess.strip().toUpperCase();\n",
    "        String word = this.getHiddenWord();\n",
    "        int wordLength = word.length(); \n",
    "        char[] hintArr = new char[wordLength];\n",
    "\n",
    "        for(int i = 0; i < wordLength; i++){\n",
    "            hintArr[i] = '*';\n",
    "        }\n",
    "\n",
    "        for(int i = 0; i < guess.length(); i++){   \n",
    "            if(guess.charAt(i) == word.charAt(i)){\n",
    "                hintArr[i] = guess.charAt(i);\n",
    "            } else if(word.indexOf(guess.charAt(i)) != -1){\n",
    "                hintArr[i] = '+';\n",
    "            }     \n",
    "        }\n",
    "        \n",
    "        String hint = String.valueOf(hintArr);\n",
    "        return hint;\n",
    "    }\n",
    "\n",
    "    public static void main(String args[]){\n",
    "        HiddenWord puzzle = new HiddenWord(\"HARPS\");\n",
    "        System.out.println(puzzle.getHint(\"AAAAA\"));\n",
    "        System.out.println(puzzle.getHint(\"HELLO\"));\n",
    "        System.out.println(puzzle.getHint(\"HEART\"));\n",
    "        System.out.println(puzzle.getHint(\"HARMS\"));\n",
    "        System.out.println(puzzle.getHint(\"HARPS\"));\n",
    "    }\n",
    "}\n",
    "\n",
    "HiddenWord.main(null);"
   ]
  },
  {
   "cell_type": "markdown",
   "metadata": {},
   "source": [
    "# Question 3: Array List\n",
    "\n",
    "A two-dimensional array of integers in which most elements are zero is called a sparse array. Because most elements have a value of zero, memory can be saved by storing only the non-zero values along with their row and column indexes. The following complete SparseArrayEntry class is used to represent non-zero elements in a sparse array. A SparseArrayEntry object cannot be modified after it has been constructed.\n",
    "\n",
    "\n",
    "## Part A\n",
    "Write the SparseArray method getValueAt. The method returns the value of the sparse array element at a given row and column in the sparse array. If the list entries contains an entry with the specified row and column, the value associated with the entry is returned. If there is no entry in entries corresponding to the specified row and column, 0 is returned. In the example above, the call sparse.getValueAt(3, 1) would return -9, and\n",
    "sparse.getValueAt(3, 3) would return 0.\n",
    "\n",
    "## Part B\n",
    "Write the SparseArray method removeColumn. After removing a specified column from a sparse array:\n",
    "- All entries in the list entries with column indexes matching col are removed from the list.\n",
    "- All entries in the list entries with column indexes greater than col are replaced by entries\n",
    "with column indexes that are decremented by one (moved one column to the left).\n",
    "- The number of columns in the sparse array is adjusted to reflect the column removed.\n"
   ]
  },
  {
   "cell_type": "code",
   "execution_count": 2,
   "metadata": {},
   "outputs": [],
   "source": [
    "public class SparseArrayEntry {\n",
    "    // The row index and column index for this entry in the sparse array\n",
    "    private int row;\n",
    "    private int col;\n",
    "    // The value of this entry in the sparse array\n",
    "    private int value;\n",
    "    // Constructs a SparseArrayEntry object that represents a sparse array element with row index r and column index c, containing value v.\n",
    "    \n",
    "    public SparseArrayEntry(int r, int c, int v){\n",
    "        row = r;\n",
    "        col = c;\n",
    "        value = v;\n",
    "    }\n",
    "    // Returns the row index of this sparse array element. \n",
    "    public int getRow(){ \n",
    "        return row; \n",
    "    }\n",
    "    // Returns the column index of this sparse array element.\n",
    "    public int getCol(){ \n",
    "        return col; \n",
    "    }\n",
    "    // Returns the value of this sparse array element.\n",
    "    public int getValue(){ \n",
    "        return value; \n",
    "    }\n",
    "}"
   ]
  },
  {
   "cell_type": "code",
   "execution_count": 11,
   "metadata": {},
   "outputs": [
    {
     "name": "stdout",
     "output_type": "stream",
     "text": [
      "getValueAt Method\n",
      "\n",
      "Getting Value at 3,3\n",
      "0\n",
      "\n",
      "Getting Value at 3,1\n",
      "-9\n",
      "\n",
      "removeColumn Method\n",
      "\n",
      "Number of Cols\n",
      "1 4 4\n",
      "2 0 1\n",
      "3 1 -9\n",
      "1 1 5\n",
      "\n",
      "Removing Column 4\n",
      "\n",
      "After removal\n",
      "1 3 4\n",
      "2 0 1\n",
      "\n",
      "Number of Columns: 3\n"
     ]
    }
   ],
   "source": [
    "public class SparseArray{\n",
    "    /** The number of rows and columns in the sparse array. */\n",
    "    private int numRows;\n",
    "    private int numCols;\n",
    "    /** The list of entries representing the non-zero elements of the sparse array. Entries are stored in the\n",
    "    list in no particular order. Each non-zero element is represented by exactly one entry in the list.*/\n",
    "    \n",
    "    private List<SparseArrayEntry> entries;\n",
    "    // Constructs an empty SparseArray.\n",
    "    public SparseArray(){ \n",
    "        entries = new ArrayList<SparseArrayEntry>();\n",
    "        SparseArrayEntry e1 = new SparseArrayEntry(1,4,4);\n",
    "        SparseArrayEntry e2 = new SparseArrayEntry(2,0,1);\n",
    "        SparseArrayEntry e3 = new SparseArrayEntry(3,1,-9);\n",
    "        SparseArrayEntry e4 = new SparseArrayEntry(1,1,5);    \n",
    "\n",
    "        entries.add(e1);\n",
    "        entries.add(e2);\n",
    "        entries.add(e3);\n",
    "        entries.add(e4);  \n",
    "        \n",
    "        for(SparseArrayEntry entry : entries){\n",
    "            if(entry.getRow() > numRows){\n",
    "                numRows = entry.getRow();\n",
    "            }\n",
    "            if(entry.getCol() > numCols){\n",
    "                numCols = entry.getCol();\n",
    "            }\n",
    "        }\n",
    "    }\n",
    "\n",
    "    // Returns the number of rows in the sparse array.\n",
    "    public int getNumRows(){\n",
    "        return numRows; \n",
    "    }\n",
    "\n",
    "    // Returns the number of columns in the sparse array.\n",
    "    public int getNumCols(){\n",
    "        return numCols;\n",
    "    }\n",
    "\n",
    "    \n",
    "    public int getValueAt(int row, int col){\n",
    "        int cols = this.getNumCols();\n",
    "        int rows = this.getNumRows();\n",
    "        for(SparseArrayEntry entry : entries){\n",
    "            if(entry.getRow() == row && entry.getCol() == col){\n",
    "                return entry.getValue();\n",
    "            }\n",
    "        }\n",
    "        return 0; \n",
    "    }\n",
    "\n",
    "    \n",
    "    public void removeColumn(int col){\n",
    "        System.out.println(\"Number of Cols\"); \n",
    "        for(SparseArrayEntry entry : entries){\n",
    "            System.out.println(entry.getRow() + \" \" + entry.getCol() + \" \" + entry.getValue());\n",
    "        }\n",
    "        System.out.println(\"\\nRemoving Column \" + this.getNumCols());\n",
    "\n",
    "        // Possibly illegal move as it is not in the loop up table for the exam 🤓\n",
    "        // Literally the only thing that actually works\n",
    "        entries.removeIf(entry -> entry.getCol() == col);\n",
    "        \n",
    "        int i = 0; \n",
    "        while(i < entries.size()){\n",
    "            SparseArrayEntry entry = entries.get(i);\n",
    "            \n",
    "            // Literally doesn't work if the loop was a for it wouldn't work either. Nor would a for-each it literally doesn't work in a loop other than using the method above\n",
    "            \n",
    "            // if (entry.getCol() == col){\n",
    "            //     entries.remove(entry);\n",
    "            // }\n",
    "            \n",
    "            if (entry.getCol() > col){\n",
    "                int newCol = entry.getCol()-1;\n",
    "                SparseArrayEntry newEntry = new SparseArrayEntry(entry.getRow(), newCol, entry.getValue());\n",
    "                entries.set(i, newEntry); // Need to use set otherwise the subtraction for the new columns doesn't work \n",
    "            }\n",
    "            \n",
    "            i++;\n",
    "        }\n",
    "\n",
    "        System.out.println(\"\\nAfter removal\");\n",
    "        for(SparseArrayEntry entry : entries){\n",
    "            System.out.println(entry.getRow() + \" \" + entry.getCol() + \" \" + entry.getValue());\n",
    "        }\n",
    "\n",
    "        this.numCols = this.numCols - 1;\n",
    "        System.out.println(\"\\nNumber of Columns: \" + this.getNumCols());\n",
    "    }\n",
    "\n",
    "    public static void main(String[] args){\n",
    "        SparseArray sparse = new SparseArray();\n",
    "        \n",
    "        System.out.println(\"getValueAt Method\\n\");\n",
    "\n",
    "        System.out.println(\"Getting Value at 3,3\");\n",
    "        System.out.println(sparse.getValueAt(3,3)); \n",
    "        \n",
    "        System.out.println(\"\\nGetting Value at 3,1\");\n",
    "        System.out.println(sparse.getValueAt(3,1)); \n",
    "        \n",
    "        System.out.println(\"\\nremoveColumn Method\\n\");\n",
    "\n",
    "        sparse.removeColumn(1);\n",
    "    }\n",
    "\n",
    "}\n",
    "SparseArray.main(null)"
   ]
  },
  {
   "cell_type": "markdown",
   "metadata": {},
   "source": [
    "# Question 4: Methods And Control Structures\n",
    " \n",
    "## Part A\n",
    "A number group represents a group of integers defined in some way. It could be empty, or it could contain\n",
    "one or more integers. Write an interface named NumberGroup that represents a group of integers. The interface should have\n",
    "a single contains method that determines if a given integer is in the group. For example, if group1 is of type NumberGroup, and it contains only the two numbers -5 and 3, then\n",
    "group1.contains(-5) would return true, and group1.contains(2) would return false. Write the complete NumberGroup interface. It must have exactly one method.\n",
    "\n"
   ]
  },
  {
   "cell_type": "code",
   "execution_count": 3,
   "metadata": {},
   "outputs": [],
   "source": [
    "public interface NumberGroup{\n",
    "    boolean contains(int value);\n",
    "}"
   ]
  },
  {
   "cell_type": "markdown",
   "metadata": {},
   "source": [
    "## Part B \n",
    "A range represents a number group that contains all (and only) the integers between a minimum value and a maximum value, inclusive. Write the Range class, which is a NumberGroup. The Range class represents the group of int values that range from a given minimum value up through a given maximum value, inclusive. For example, the declaration NumberGroup range1 = new Range(-3, 2); represents the group of integer values -3, -2, -1, 0, 1, 2.\n",
    "Write the complete Range class. Include all necessary instance variables and methods as well as a constructor that takes two int parameters. The first parameter represents the minimum value, and the\n",
    "second parameter represents the maximum value of the range. You may assume that the minimum is less than or equal to the maximum."
   ]
  },
  {
   "cell_type": "code",
   "execution_count": 31,
   "metadata": {},
   "outputs": [
    {
     "name": "stdout",
     "output_type": "stream",
     "text": [
      "true\n",
      "false\n"
     ]
    }
   ],
   "source": [
    "\n",
    "public class Range implements NumberGroup{\n",
    "    private int minVal;\n",
    "    private int maxVal;\n",
    "\n",
    "    public Range(int minVal, int maxVal){\n",
    "        this.minVal = minVal;\n",
    "        this.maxVal = maxVal;\n",
    "    }\n",
    "\n",
    "    @Override\n",
    "    public boolean contains(int value){\n",
    "        if (value >= this.minVal && value <= this.maxVal){\n",
    "            return true;\n",
    "        } else{\n",
    "            return false;\n",
    "        }\n",
    "    }\n",
    "\n",
    "    public static void main(String[] args){\n",
    "        Range range1 = new Range(-3,2);\n",
    "        System.out.println(range1.contains(-1));\n",
    "        System.out.println(range1.contains(3));\n",
    "    }\n",
    "}\n",
    "\n",
    "Range.main(null);"
   ]
  },
  {
   "cell_type": "markdown",
   "metadata": {},
   "source": [
    "## Part C\n",
    "\n",
    "The MultipleGroups class (not shown) represents a collection of NumberGroup objects and is a NumberGroup. The MultipleGroups class stores the number groups in the instance variable groupList (shown below), which is initialized in the constructor. `private List<NumberGroup> groupList;` Write the MultipleGroups method contains. The method takes an integer and returns true if and only if the integer is contained in one or more of the number groups in groupList. For example, suppose multiple1 has been declared as an instance of MultipleGroups and consists of the three ranges created by the calls new Range(5, 8), new Range(10, 12), and new Range(1, 6). The following table shows the results of several calls to contains. "
   ]
  },
  {
   "cell_type": "code",
   "execution_count": 27,
   "metadata": {},
   "outputs": [
    {
     "name": "stdout",
     "output_type": "stream",
     "text": [
      "false\n"
     ]
    }
   ],
   "source": [
    "public class MultipleGroups{\n",
    "    private List<NumberGroup> groupList;\n",
    "\n",
    "    private MultipleGroups(List<NumberGroup> groupList){\n",
    "        this.groupList = groupList;\n",
    "    }\n",
    "\n",
    "    public boolean contains(int value){\n",
    "        for(NumberGroup group : groupList){\n",
    "            if(group.contains(value)){\n",
    "                return true;\n",
    "            } \n",
    "        }\n",
    "        return false; \n",
    "    }\n",
    "\n",
    "    public static void main(String[] args){\n",
    "\n",
    "        Range range1 = new Range(-3, 2);\n",
    "        Range range2 = new Range(4, 9);\n",
    "        List<NumberGroup> groupList = new ArrayList<NumberGroup>();\n",
    "        groupList.add(range1);\n",
    "        groupList.add(range2);\n",
    "        \n",
    "        MultipleGroups multiGroup = new MultipleGroups(groupList);\n",
    "        System.out.println(multiGroup.contains(3));\n",
    "    }\n",
    "}\n",
    "\n",
    "MultipleGroups.main(null);"
   ]
  }
 ],
 "metadata": {
  "kernelspec": {
   "display_name": "Java",
   "language": "java",
   "name": "java"
  },
  "language_info": {
   "codemirror_mode": "java",
   "file_extension": ".jshell",
   "mimetype": "text/x-java-source",
   "name": "java",
   "pygments_lexer": "java",
   "version": "21+35-LTS-2513"
  }
 },
 "nbformat": 4,
 "nbformat_minor": 2
}
