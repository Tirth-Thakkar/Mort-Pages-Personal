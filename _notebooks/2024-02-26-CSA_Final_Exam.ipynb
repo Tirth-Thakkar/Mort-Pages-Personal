{
 "cells": [
  {
   "cell_type": "markdown",
   "metadata": {},
   "source": [
    "---\n",
    "toc: true\n",
    "comments: false\n",
    "layout: post\n",
    "title: Trimester 2 Final (2015 FRQ)\n",
    "description: 2015 FRQ Solutions\n",
    "type: tangibles\n",
    "image: /images/Scammer.png\n",
    "comments: true\n",
    "categories: [week34]\n",
    "courses: { compsci: {week: 34} }\n",
    "---"
   ]
  },
  {
   "cell_type": "markdown",
   "metadata": {},
   "source": [
    "# Question 1\n",
    "\n",
    "## Part A\n",
    "Write a static method arraySum that calculates and returns the sum of the entries in a specified one-dimensional array. The following example shows an array arr1 and the value returned by a call to arraySum."
   ]
  },
  {
   "cell_type": "code",
   "execution_count": 2,
   "metadata": {},
   "outputs": [
    {
     "data": {
      "text/plain": [
       "10"
      ]
     },
     "execution_count": 2,
     "metadata": {},
     "output_type": "execute_result"
    }
   ],
   "source": [
    "public static int arraySum(int[] arr){\n",
    "    int arrSum = 0;\n",
    "    for(int i = 0; i < arr.length; i++){\n",
    "        arrSum += arr[i]; \n",
    "    }\n",
    "    return arrSum;\n",
    "}\n",
    "\n",
    "int[] arr = {1,2,3,4};\n",
    "arraySum(arr);"
   ]
  },
  {
   "cell_type": "markdown",
   "metadata": {},
   "source": [
    "## Part B\n",
    "Write a static method rowSums that calculates the sums of each of the rows in a given two-dimensional array and returns these sums in a one-dimensional array. The method has one parameter, a two- dimensional array arr2D of int values. The array is in row-major order: arr2D[r][c] is the entry\n",
    "at row r and column c. The method returns a one-dimensional array with one entry for each row of\n",
    "arr2D such that each entry is the sum of the corresponding row in arr2D. As a reminder, each row of a two-dimensional array is a one-dimensional array. For example, if mat1 is the array represented by the following table, the call rowSums(mat1) returns the array {16, 32, 28, 20}.\n"
   ]
  },
  {
   "cell_type": "code",
   "execution_count": 4,
   "metadata": {},
   "outputs": [
    {
     "name": "stdout",
     "output_type": "stream",
     "text": [
      "[16, 32, 28, 20]\n"
     ]
    }
   ],
   "source": [
    "public static int[] rowSums(int[][] arr2d){  \n",
    "    int[] sumArr = new int[arr2d.length];\n",
    "    for(int i = 0; i < arr2d.length; i++){\n",
    "        int rowSum = arraySum(arr2d[i]);\n",
    "        sumArr[i] = rowSum;\n",
    "    };\n",
    "    return sumArr;\n",
    "}\n",
    "int[][] mat1 = new int[][]{\n",
    "    {1,3,2,7,3},\n",
    "    {10,10,4,6,2},\n",
    "    {5,3,5,9,6},\n",
    "    {7,6,4,2,1}\n",
    "};\n",
    "\n",
    "System.out.println(Arrays.toString(rowSums(mat1)));\n"
   ]
  },
  {
   "cell_type": "markdown",
   "metadata": {},
   "source": [
    "## Part C\n",
    "A two-dimensional array is diverse if no two of its rows have entries that sum to the same value. In the following examples, the array mat1 is diverse because each row sum is different, but the array mat2 is\n",
    "not diverse because the first and last rows have the same sum.Write a static method isDiverse that determines whether or not a given two-dimensional array is diverse. The method has one parameter: a two-dimensional array arr2D of int values. The method\n",
    "should return true if all the row sums in the given array are unique; otherwise, it should return false. In the arrays shown above, the call isDiverse(mat1) returns true and the call isDiverse(mat2) returns false.\n"
   ]
  },
  {
   "cell_type": "code",
   "execution_count": 23,
   "metadata": {},
   "outputs": [
    {
     "name": "stdout",
     "output_type": "stream",
     "text": [
      "Call 1 Mat 1\n"
     ]
    },
    {
     "name": "stdout",
     "output_type": "stream",
     "text": [
      "true\n",
      "\n",
      "Call 2 Mat 2\n",
      "false\n"
     ]
    }
   ],
   "source": [
    "public static boolean isDiverse(int[][] mat1){\n",
    "    boolean diverse = false;\n",
    "    int[] rowSums = rowSums(mat1);\n",
    "\n",
    "    for(int i = 0; i < rowSums.length; i++){\n",
    "        for(int j = i+1; j < rowSums.length; j++){\n",
    "            if (rowSums[i] != rowSums[j]){\n",
    "                continue;\n",
    "            }\n",
    "            else{\n",
    "                return diverse;\n",
    "            }\n",
    "        }\n",
    "    }\n",
    "    diverse = true;\n",
    "    return diverse;\n",
    "}\n",
    "\n",
    "\n",
    "System.out.println(\"Call 1 Mat 1\");\n",
    "System.out.println(isDiverse(mat1));\n",
    "\n",
    "int[][] mat2 = {\n",
    "    {1,1,5,3,4},\n",
    "    {12,7,6,1,9},\n",
    "    {8,11,10,2,5},\n",
    "    {3,2,3,0,6}\n",
    "};\n",
    "\n",
    "\n",
    "System.out.println(\"\\nCall 2 Mat 2\");\n",
    "System.out.println(isDiverse(mat2));"
   ]
  }
 ],
 "metadata": {
  "kernelspec": {
   "display_name": "Java",
   "language": "java",
   "name": "java"
  },
  "language_info": {
   "codemirror_mode": "java",
   "file_extension": ".jshell",
   "mimetype": "text/x-java-source",
   "name": "java",
   "pygments_lexer": "java",
   "version": "3.11.6"
  }
 },
 "nbformat": 4,
 "nbformat_minor": 2
}
