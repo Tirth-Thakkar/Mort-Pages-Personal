{
 "cells": [
  {
   "cell_type": "markdown",
   "metadata": {},
   "source": [
    "---\n",
    "toc: true\n",
    "comments: false\n",
    "layout: post\n",
    "title: Trimester 2 NATM Reflection\n",
    "description: Reflection on the NATM project\n",
    "type: tangibles\n",
    "image: /images/Ryan.jpg\n",
    "categories: [week33]\n",
    "courses: { compsci: {week: 33} }\n",
    "---"
   ]
  },
  {
   "cell_type": "markdown",
   "metadata": {},
   "source": [
    "# Trimester 2 Focus Planning\n",
    "\n",
    "# Testing Data For Tri 3\n",
    " - We used how enthusiastic about farming through the corn planting mechanic, through the public we support we have determined that this is a success\n",
    " - People were also interested and satisfied with the leaderboard mechanics and the ability to compete on sustainability so this will also continue to be a focus\n",
    "\n",
    "# Future Changes That Will be Made on Feedback\n",
    "- Pressing buttons should have an indicator, many people kept pressing the corn button thinking that it was not selected.\n",
    "- The game UI could be improved, it currently looks very bland and we need more bright colors.\n",
    "- Add money to the game so that you can't plant unlimited corn.\n",
    "- Add some variety to the game so that it is not all just corn.\n",
    "\n",
    "\n",
    "# Blog/article on you and team \n",
    "![Team Demo](https://github.com/Tirth-Thakkar/Mort-Pages-Personal/blob/main/images/Ryan.jpg?raw=true)\n",
    "## Glows:\n",
    "- We had a good proof of concept with many students and parents interested in the aspects of corn and sustainable farming which resulted in many students being excited about the project.  \n",
    "- We also had a good display of technical aspects of the project explaining the jwt auth, and the managing of user credentials. There was also a good explanation of the phaser concepts and values there was an explanation of phaser\n",
    "reflection on glows/grows from your demo/presentations\n",
    "\n",
    "## Grows: \n",
    "- We could have a had more complete with a fully interactive world \n",
    "- The tileset could have been farming specific and had a world panning feature so the user could move their display around the world\n",
    "- We could have had a class function from the get go with a teacher student mechanic \n",
    "- We could have the game been more static\n",
    "- More purchasing mechanics\n",
    "- Focus on environmental impacts\n",
    "\n",
    "# Blog on event\n",
    "## Inside of Computer Science \n",
    "![Vroom Vroom](https://github.com/Tirth-Thakkar/Mort-Pages-Personal/blob/main/images/Pokemon.jpg?raw=true)\n",
    "- I had enjoyed the pokemon game aspect that was a part of the demo from Rachit's group that had similar mechanics to our game\n",
    "- With interesting approaches to creating a tilemap which was very similar to our own\n",
    "- However the interesting aspects were that they had a more multiplayer focus which we did not have. \n",
    "\n",
    "## Outside of Computer Science \n",
    "### AP Studio Art\n",
    "![Vroom Vroom](https://github.com/Tirth-Thakkar/Mort-Pages-Personal/blob/main/images/Car.jpg?raw=true)\n",
    "![Jonkler](https://github.com/Tirth-Thakkar/Mort-Pages-Personal/blob/main/images/Jonker.jpg?raw=true)\n",
    "- I had enjoyed the technical aspects and drawing skill expressed by the AP Studio Art students that they were able to have a various display of art from portraits to vehicles\n",
    "- There was that added aspect of humour that also made these displays memorable\n",
    "\n",
    "### Ceramics \n",
    "![Carp](https://github.com/Tirth-Thakkar/Mort-Pages-Personal/blob/main/images/Fish?raw=true)\n",
    "- I had enjoyed the aspect of the comedic and cartoonish aspect of the carp that was shown along with the ability to capture complex shapes and a combination of colors and textures. \n",
    "\n",
    "\n",
    "\n",
    "\n"
   ]
  }
 ],
 "metadata": {
  "language_info": {
   "name": "python"
  }
 },
 "nbformat": 4,
 "nbformat_minor": 2
}
