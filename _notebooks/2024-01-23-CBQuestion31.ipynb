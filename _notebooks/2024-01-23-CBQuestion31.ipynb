{
 "cells": [
  {
   "cell_type": "markdown",
   "metadata": {},
   "source": [
    "---\n",
    "toc: true\n",
    "comments: true\n",
    "layout: notebook\n",
    "title: College Board Question 31\n",
    "description: A short lesson on College Board Question 31\n",
    "courses: { compsci: {week: 19} }\n",
    "type: hacks\n",
    "---"
   ]
  },
  {
   "cell_type": "markdown",
   "metadata": {},
   "source": [
    "# Question 31 X and O Board\n",
    "- Collegeboard asks what represents the output of the following code segment that the provide. \n",
    "\n",
    "```java\n",
    "String[][] board = new String[5][5];\n",
    "for(int row = 0; row < 5; row++){\n",
    "    for(int col = 0; col < 5; col++){\n",
    "            board[row][col] = \"O\";\n",
    "        }\n",
    "    }\n",
    "\n",
    "for(int val = 0; val <5, vall++){\n",
    "    if (val % 2 == 1){\n",
    "        int row = val;\n",
    "        int col = 0;\n",
    "        while(col < 5 && row >=0){\n",
    "            board[row][col] = \"X\";\n",
    "            col++;\n",
    "            row--;\n",
    "        }\n",
    "    }\n",
    "}\n",
    "```\n",
    "\n",
    "The first for loop creates a 5x5 2d array populated ith \"O\"s. This simulates and creates the board that the second loop edits to insert the \"X\"s. As seen when the for loop is executed bellow. \n"
   ]
  },
  {
   "cell_type": "code",
   "execution_count": 23,
   "metadata": {
    "vscode": {
     "languageId": "java"
    }
   },
   "outputs": [
    {
     "name": "stdout",
     "output_type": "stream",
     "text": [
      "  0 1 2 3 4 \n",
      "0 O O O O O \n",
      "1 O O O O O \n",
      "2 O O O O O \n",
      "3 O O O O O \n",
      "4 O O O O O \n"
     ]
    }
   ],
   "source": [
    "String[][] board = new String[5][5];\n",
    "for (int row = 0; row < 5; row++) {\n",
    "    for (int col = 0; col < 5; col++) {\n",
    "        board[row][col] = \"O\";\n",
    "    }\n",
    "}\n",
    "\n",
    "// Printing board to appear as in the solutions\n",
    "System.out.print(\"  \");\n",
    "for (int col = 0; col < 5; col++) {\n",
    "    System.out.print(col + \" \");\n",
    "}\n",
    "System.out.println();\n",
    "\n",
    "for (int row = 0; row < 5; row++) {\n",
    "    System.out.print(row + \" \");\n",
    "    for (int col = 0; col < 5; col++) {\n",
    "        System.out.print(board[row][col] + \" \");\n",
    "    }\n",
    "    System.out.println();\n",
    "}\n"
   ]
  },
  {
   "cell_type": "markdown",
   "metadata": {},
   "source": [
    "```java\n",
    "for(int val = 0; val <5, vall++){\n",
    "    if (val % 2 == 1){\n",
    "        int row = val;\n",
    "        int col = 0;\n",
    "        while(col < 5 && row >=0){\n",
    "            board[row][col] = \"X\";\n",
    "            col++;\n",
    "            row--;\n",
    "        }\n",
    "    }\n",
    "}\n",
    "```\n",
    "\n",
    "The second for loop is where all the logic is located for the problem. In this loop we can "
   ]
  }
 ],
 "metadata": {
  "kernelspec": {
   "display_name": "Java",
   "language": "java",
   "name": "java"
  },
  "language_info": {
   "codemirror_mode": "java",
   "file_extension": ".jshell",
   "mimetype": "text/x-java-source",
   "name": "Java",
   "pygments_lexer": "java",
   "version": "21+35-LTS-2513"
  }
 },
 "nbformat": 4,
 "nbformat_minor": 2
}
