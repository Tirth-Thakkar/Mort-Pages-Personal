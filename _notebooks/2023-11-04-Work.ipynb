{
 "cells": [
  {
   "cell_type": "markdown",
   "metadata": {},
   "source": [
    "---\n",
    "toc: true\n",
    "comments: true\n",
    "layout: post\n",
    "title: Collegeboard MC Work\n",
    "author: Tirth Thakkar\n",
    "description: Work on Collegeboard MC\n",
    "image: /images/Scammer.png\n",
    "categories: [week10]\n",
    "type: tangibles\n",
    "courses: { compsci: {week: 10} }\n",
    "---"
   ]
  },
  {
   "cell_type": "markdown",
   "metadata": {},
   "source": [
    "## Question 01\n",
    "\n",
    "What value will be returned as a result of the call mystery(nums)?<br>\n",
    "(A) 5<br>\n",
    "(B) 6<br>\n",
    "(C) 7<br>\n",
    "(D) 10<br>\n",
    "(E) 17<br> \n",
    "\n",
    "The answer is `option B` the function will return the value 6 when the function mystery is called with nums passed as the argument as the values 2, then 1, then 1 then 2 will be added to x resulting in it being 6. "
   ]
  },
  {
   "cell_type": "code",
   "execution_count": 3,
   "metadata": {},
   "outputs": [
    {
     "data": {
      "text/plain": [
       "6"
      ]
     },
     "execution_count": 3,
     "metadata": {},
     "output_type": "execute_result"
    }
   ],
   "source": [
    "public static int mystery(int[] arr){\n",
    "    int x = 0;\n",
    "    \n",
    "    for (int k = 0; k < arr.length; k = k + 2){\n",
    "        x = x + arr[k];\n",
    "    }\n",
    "\n",
    "    return x;\n",
    "\n",
    "}\n",
    "\n",
    "int[] nums = {2, 6, 1, 0, 1, 4, 2};\n",
    "\n",
    "mystery(nums);"
   ]
  },
  {
   "cell_type": "markdown",
   "metadata": {},
   "source": [
    "## Question 02\n",
    "\n",
    "Which of the following code segments will compile without error?<br>\n",
    "(A) int x = obj.getA();<br>\n",
    "(B) int x; obj.getA(x);<br>\n",
    "(C) int x = obj.myA;<br>\n",
    "(D) int x = SomeClass.getA();<br>\n",
    "(E) int x = getA(obj);<br> \n",
    "\n",
    "The correct answer is `option A` the only program that will compile without error is option A it is the only way to access the getA() method for the object obj which as an instance of SomeClass."
   ]
  },
  {
   "cell_type": "code",
   "execution_count": 1,
   "metadata": {},
   "outputs": [],
   "source": [
    "public class SomeClass{\n",
    "    private int myA;\n",
    "    private int myB;\n",
    "    private int myC;\n",
    "    \n",
    "    // Collegeboard did not implement constructor \n",
    "    // Needed addition to allow for code to run\n",
    "    public SomeClass(int a, int b, int c) {\n",
    "        this.myA = a;\n",
    "        this.myB = b;\n",
    "        this.myC = c;\n",
    "    }\n",
    "    \n",
    "    public int getA(){ \n",
    "        return myA; \n",
    "    }\n",
    "    public void setB(int value){ \n",
    "        myB = value; \n",
    "    }\n",
    "}  \n",
    "\n",
    "SomeClass obj = new SomeClass(1, 2, 3);\n"
   ]
  },
  {
   "cell_type": "code",
   "execution_count": 2,
   "metadata": {},
   "outputs": [],
   "source": [
    "// Option A\n",
    "\n",
    "int x = obj.getA();"
   ]
  },
  {
   "cell_type": "code",
   "execution_count": 4,
   "metadata": {},
   "outputs": [
    {
     "ename": "CompilationException",
     "evalue": "",
     "output_type": "error",
     "traceback": [
      "\u001b[1m\u001b[30m|   \u001b[1m\u001b[30m \u001b[0m\u001b[1m\u001b[30m\u001b[41mobj.getA\u001b[0m\u001b[1m\u001b[30m(x);\u001b[0m",
      "\u001b[1m\u001b[31mmethod getA in class SomeClass cannot be applied to given types;\u001b[0m",
      "\u001b[1m\u001b[31m  required: no arguments\u001b[0m",
      "\u001b[1m\u001b[31m  found:    int\u001b[0m",
      "\u001b[1m\u001b[31m  reason: actual and formal argument lists differ in length\u001b[0m",
      ""
     ]
    }
   ],
   "source": [
    "// Option B\n",
    "\n",
    "int x; obj.getA(x);"
   ]
  },
  {
   "cell_type": "code",
   "execution_count": 5,
   "metadata": {},
   "outputs": [
    {
     "ename": "CompilationException",
     "evalue": "",
     "output_type": "error",
     "traceback": [
      "\u001b[1m\u001b[30m|   \u001b[1m\u001b[30mint x = \u001b[0m\u001b[1m\u001b[30m\u001b[41mobj.myA\u001b[0m\u001b[1m\u001b[30m;\u001b[0m",
      "\u001b[1m\u001b[31mmyA has private access in SomeClass\u001b[0m",
      ""
     ]
    }
   ],
   "source": [
    "// Option C\n",
    "\n",
    "int x = obj.myA;"
   ]
  },
  {
   "cell_type": "code",
   "execution_count": 6,
   "metadata": {},
   "outputs": [
    {
     "ename": "CompilationException",
     "evalue": "",
     "output_type": "error",
     "traceback": [
      "\u001b[1m\u001b[30m|   \u001b[1m\u001b[30mint x = \u001b[0m\u001b[1m\u001b[30m\u001b[41mSomeClass.getA\u001b[0m\u001b[1m\u001b[30m();\u001b[0m",
      "\u001b[1m\u001b[31mnon-static method getA() cannot be referenced from a static context\u001b[0m",
      ""
     ]
    }
   ],
   "source": [
    "// Option D\n",
    "\n",
    "int x = SomeClass.getA();"
   ]
  },
  {
   "cell_type": "code",
   "execution_count": 7,
   "metadata": {},
   "outputs": [
    {
     "ename": "CompilationException",
     "evalue": "",
     "output_type": "error",
     "traceback": [
      "\u001b[1m\u001b[30m|   \u001b[1m\u001b[30mint x = \u001b[0m\u001b[1m\u001b[30m\u001b[41mgetA\u001b[0m\u001b[1m\u001b[30m(obj);\u001b[0m",
      "\u001b[1m\u001b[31mcannot find symbol\u001b[0m",
      "\u001b[1m\u001b[31m  symbol:   method getA(SomeClass)\u001b[0m",
      ""
     ]
    }
   ],
   "source": [
    "// Option E\n",
    "\n",
    "int x = getA(obj);"
   ]
  },
  {
   "cell_type": "markdown",
   "metadata": {},
   "source": [
    "## Question 03 \n",
    "Which of the following changes to SomeClass will allow other classes to access but not modify the value\n",
    "of myC?<br>\n",
    "(A) Make myC public.<br>\n",
    "\n",
    "(B) Include the method:<br>\n",
    "public int getC()<br>\n",
    "{ return myC; }<br>\n",
    "\n",
    "(C) Include the method:<br>\n",
    "private int getC()<br>\n",
    "{ return myC; }<br>\n",
    "\n",
    "(D) Include the method:<br>\n",
    "public void getC(int x)<br>\n",
    "{ x = myC; }<br>\n",
    "\n",
    "(E) Include the method:<br>\n",
    "private void getC(int x)<br>\n",
    "{ x = myC; }<br> \n",
    "\n",
    "\n",
    "`Option B` is the correct answer as it implements a getter method to return the value for C without allowing the value to be modified while, option A will allow the value to be modified, option C will not allow the getter method to be accessed, while D will change the value for x and not return the value for myC, and option E will not allow the getter method to be accessed while also changing the value for x.    "
   ]
  },
  {
   "cell_type": "code",
   "execution_count": 8,
   "metadata": {},
   "outputs": [
    {
     "data": {
      "text/plain": [
       "3"
      ]
     },
     "execution_count": 8,
     "metadata": {},
     "output_type": "execute_result"
    }
   ],
   "source": [
    "public class SomeClass{\n",
    "    private int myA;\n",
    "    private int myB;\n",
    "    private int myC;\n",
    "    \n",
    "    // Collegeboard did not implement constructor \n",
    "    // Needed addition to allow for code to run\n",
    "    public SomeClass(int a, int b, int c) {\n",
    "        this.myA = a;\n",
    "        this.myB = b;\n",
    "        this.myC = c;\n",
    "    }\n",
    "    \n",
    "    public int getA(){ \n",
    "        return myA; \n",
    "    }\n",
    "    public void setB(int value){ \n",
    "        myB = value; \n",
    "    }\n",
    "\n",
    "    public int getC(){\n",
    "        return myC;\n",
    "    }\n",
    "} \n",
    "\n",
    "\n",
    "\n",
    "\n",
    "SomeClass obj = new SomeClass(1, 2, 3);\n",
    "\n",
    "obj.getC();\n"
   ]
  },
  {
   "cell_type": "markdown",
   "metadata": {},
   "source": [
    "## Question 04\n",
    "What value is printed as a result of the code segment?\n",
    "\n",
    "(A) Value is: 21<br>\n",
    "(B) Value is: 2.3333333<br>\n",
    "(C) Value is: 2<br>\n",
    "(D) Value is: 0<br>\n",
    "(E) Value is: 1<br> \n",
    "\n",
    "`Option C` is the correct answer as x = 7 which is less than 10 and y = 3 which is greater than 0 so integer division occurs between 7 and 3 resulting in 2.\n"
   ]
  },
  {
   "cell_type": "code",
   "execution_count": 1,
   "metadata": {},
   "outputs": [
    {
     "name": "stdout",
     "output_type": "stream",
     "text": [
      "Value is: 2\n"
     ]
    }
   ],
   "source": [
    "int x = 7;\n",
    "int y = 3;\n",
    "if ((x < 10) && (y < 0))\n",
    " System.out.println(\"Value is: \" + x * y);\n",
    "else\n",
    " System.out.println(\"Value is: \" + x / y); "
   ]
  },
  {
   "cell_type": "markdown",
   "metadata": {},
   "source": [
    "## Question 05\n",
    "\n",
    "Which of the following is printed as a result of executing the following statement?<br>\n",
    "\n",
    "(A) [3, 4, 7, 12, 19, 28]<br>\n",
    "(B) [3, 4, 7, 12, 19, 28, 39]<br>\n",
    "(C) [4, 7, 12, 19, 28, 39]<br>\n",
    "(D) [39, 28, 19, 12, 7, 4]<br>\n",
    "(E) [39, 28, 19, 12, 7, 4, 3]<br>\n",
    "\n",
    "`Option C` is the correct answer with answer printing a 6 element list like the argument passed and the values being 1*1+3, 2*2+3, 3*3+3, 4*4+3, 5*5+3, 6*6+3 resulting in the output being [4, 7, 12, 19, 28, 39]."
   ]
  },
  {
   "cell_type": "code",
   "execution_count": 3,
   "metadata": {},
   "outputs": [
    {
     "name": "stdout",
     "output_type": "stream",
     "text": [
      "[4, 7, 12, 19, 28, 39]\n"
     ]
    }
   ],
   "source": [
    "public ArrayList<Integer> mystery(int n) {\n",
    " ArrayList<Integer> seq = new ArrayList<Integer>();\n",
    " for (int k = 1; k <= n; k++)\n",
    " seq.add(new Integer(k * k + 3));\n",
    " return seq;\n",
    "}\n",
    "\n",
    "System.out.println(mystery(6)); \n"
   ]
  },
  {
   "cell_type": "markdown",
   "metadata": {},
   "source": [
    "## Question 06 \n",
    "\n",
    "Consider the following method that is intended to determine if the double values d1 and d2 are close enough to be considered equal. For example, given a tolerance of 0.001, the values 54.32271 and 54.32294 would be considered equal. <br>\n",
    "\n",
    "(A) return (d1 - d2) <= tolerance; <br>\n",
    "(B) return ((d1 + d2) / 2) <= tolerance; <br>\n",
    "(C) return (d1 - d2) >= tolerance; <br>\n",
    "(D) return ((d1 + d2) / 2) >= tolerance; <br>\n",
    "(E) return Math.abs(d1 - d2) <= tolerance; <br>\n",
    "\n",
    "`Option E` is the correct answer as it will return true if the absolute value of the difference between the two values is less than or equal to the tolerance. The other answers will not accurately determine that the two values are close enough to be considered equal as D finds if the average is greater than the tolerance. C will return true if the difference is greater than or equal to the tolerance not less than. B will return true if the average of the two values is less than or equal to the tolerance not the actual factor being determined, and A will return true if the difference is less than or equal to the tolerance but doesn't factor that subtraction can result in negative option not matching the result. "
   ]
  },
  {
   "cell_type": "code",
   "execution_count": 10,
   "metadata": {},
   "outputs": [
    {
     "name": "stdout",
     "output_type": "stream",
     "text": [
      "true\n"
     ]
    },
    {
     "name": "stdout",
     "output_type": "stream",
     "text": [
      "2.3000000000195087E-4\n"
     ]
    }
   ],
   "source": [
    "double tolerance = 0.001;\n",
    "double d1 = 54.32271;\n",
    "double d2 = 54.32294;\n",
    "\n",
    "public boolean almostEqual(double d1, double d2, double tolerance){\n",
    "    return Math.abs(d1 - d2) <= tolerance; \n",
    "} \n",
    "\n",
    "System.out.println(almostEqual(d1, d2, tolerance));\n",
    "System.out.println(Math.abs(d1-d2));"
   ]
  },
  {
   "cell_type": "markdown",
   "metadata": {},
   "source": [
    "## Question 07\n",
    "\n",
    "Which of the following statements is the most appropriate for changing the name of student from \"Thomas\" to \"Tom\" ? <br>\n",
    "\n",
    "(A) student = new Person(\"Tom\", 1995); <br>\n",
    "(B) student.myName = \"Tom\"; <br>\n",
    "(C) student.getName(\"Tom\"); <br>\n",
    "(D) student.setName(\"Tom\"); <br>\n",
    "(E) Person.setName(\"Tom\"); <br>\n",
    "\n",
    "`Option D` is the best option as it uses the setter method on the instance of the object Person and changes the name of the student in that form, instead of creating a new Person object with the name Tom, or getting the name of the student, or attempting to set the name on the class itself. \n"
   ]
  },
  {
   "cell_type": "code",
   "execution_count": 6,
   "metadata": {},
   "outputs": [
    {
     "name": "stdout",
     "output_type": "stream",
     "text": [
      "Thomas\n",
      "Tom\n"
     ]
    }
   ],
   "source": [
    "public class Person {\n",
    "    private String myName;\n",
    "    private int myYearOfBirth;\n",
    "\n",
    "    public Person(String name, int yearOfBirth) {\n",
    "        myName = name;\n",
    "        myYearOfBirth = yearOfBirth;\n",
    "    }\n",
    "\n",
    "    public String getName() {\n",
    "        return myName;\n",
    "    }\n",
    "\n",
    "    public void setName(String name) {\n",
    "        myName = name;\n",
    "    }\n",
    "}\n",
    "\n",
    "Person student = new Person(\"Thomas\", 1995);\n",
    "\n",
    "System.out.println(student.getName());\n",
    "\n",
    "student.setName(\"Tom\");\n",
    "\n",
    "System.out.println(student.getName());"
   ]
  },
  {
   "cell_type": "markdown",
   "metadata": {},
   "source": [
    "## Question 08\n",
    "\n",
    "Which of the following declarations will compile without error? <br>\n",
    " I. Student a = new Student(); <br>\n",
    " II. Student b = new Student(\"Juan\", 15); <br>\n",
    " III. Student c = new Student(\"Juan\", \"15\"); <br>\n",
    "\n",
    "(A) I only <br>\n",
    "(B) II only <br>\n",
    "(C) I and II only <br>\n",
    "(D) I and III only <br>\n",
    "(E) I, II, and III <br>\n",
    "\n",
    "`Option C` is the correct answer as both option I and II will compile without an error while option III tries to pass in a string as an argument for an integer value. "
   ]
  },
  {
   "cell_type": "code",
   "execution_count": 7,
   "metadata": {},
   "outputs": [],
   "source": [
    "public class Student{\n",
    " private String myName;\n",
    " private int myAge;\n",
    "\n",
    " public Student(){ \n",
    "    // Addign implementation not given by Collegeboard \n",
    "    myName = \"\";\n",
    "    myAge = 0;\n",
    " }\n",
    " \n",
    " public Student(String name, int age){ \n",
    "    // Adding implementation not given by Collegeboard \n",
    "    myName = name;\n",
    "    myAge = age;\n",
    " }\n",
    " \n",
    "}"
   ]
  },
  {
   "cell_type": "code",
   "execution_count": 8,
   "metadata": {},
   "outputs": [],
   "source": [
    "// Option I\n",
    "\n",
    "Student a = new Student();"
   ]
  },
  {
   "cell_type": "code",
   "execution_count": 9,
   "metadata": {},
   "outputs": [],
   "source": [
    "// Option II\n",
    "\n",
    "Student b = new Student(\"Juan\", 15); "
   ]
  },
  {
   "cell_type": "code",
   "execution_count": 10,
   "metadata": {},
   "outputs": [
    {
     "ename": "CompilationException",
     "evalue": "",
     "output_type": "error",
     "traceback": [
      "\u001b[1m\u001b[30m|   \u001b[1m\u001b[30mStudent c = new Student(\"Juan\", \u001b[0m\u001b[1m\u001b[30m\u001b[41m\"15\"\u001b[0m\u001b[1m\u001b[30m);\u001b[0m",
      "\u001b[1m\u001b[31mincompatible types: java.lang.String cannot be converted to int\u001b[0m",
      ""
     ]
    }
   ],
   "source": [
    "// Option III\n",
    "\n",
    "Student c = new Student(\"Juan\", \"15\");"
   ]
  },
  {
   "cell_type": "markdown",
   "metadata": {},
   "source": [
    "## Question 09\n",
    "\n",
    "Consider the following method that is intended to return the sum of the elements in the array key.\n",
    "\n",
    "```java\n",
    "public static int sumArray(int[] key){\n",
    " int sum = 0;\n",
    " for (int i = 1; i <= key.length; i++){\n",
    " /* missing code */\n",
    " }\n",
    " return sum;\n",
    "}\n",
    "```\n",
    "\n",
    "Which of the following statements should be used to replace /* missing code */ so that sumArray will work as intended? <br>\n",
    "\n",
    "(A) sum = key[i]; <br>\n",
    "(B) sum += key[i - 1]; <br>\n",
    "(C) sum += key[i]; <br>\n",
    "(D) sum += sum + key[i - 1]; <br>\n",
    "(E) sum += sum + key[i]; <br>\n",
    "\n",
    "`Option B` is the only option that will not receive an index out of bounds error as it counteracts the loop beginning at i = 1 when the array is 0 indexed. While not adding sum to itself like D.  "
   ]
  },
  {
   "cell_type": "code",
   "execution_count": 1,
   "metadata": {},
   "outputs": [
    {
     "ename": "EvalException",
     "evalue": "Index 5 out of bounds for length 5",
     "output_type": "error",
     "traceback": [
      "\u001b[1m\u001b[31m---------------------------------------------------------------------------\u001b[0m",
      "\u001b[1m\u001b[31mjava.lang.ArrayIndexOutOfBoundsException: Index 5 out of bounds for length 5\u001b[0m",
      "\u001b[1m\u001b[31m\tat .sumArray(#12:6)\u001b[0m",
      "\u001b[1m\u001b[31m\tat .(#14:1)\u001b[0m"
     ]
    }
   ],
   "source": [
    "// Option A\n",
    "\n",
    "public static int sumArray(int[] key){\n",
    "    int sum = 0;\n",
    "    for (int i = 1; i <= key.length; i++){\n",
    "        sum = key[i];\n",
    "    }\n",
    "    return sum;\n",
    "}\n",
    "\n",
    "int[] nums = {1, 2, 3, 4, 5};\n",
    "\n",
    "System.out.println(sumArray(nums));"
   ]
  },
  {
   "cell_type": "code",
   "execution_count": 2,
   "metadata": {},
   "outputs": [
    {
     "name": "stdout",
     "output_type": "stream",
     "text": [
      "15\n"
     ]
    }
   ],
   "source": [
    "// Option B\n",
    "\n",
    "public static int sumArray(int[] key){\n",
    "    int sum = 0;\n",
    "    for (int i = 1; i <= key.length; i++){\n",
    "        sum += key[i - 1];\n",
    "    }\n",
    "    return sum;\n",
    "}\n",
    "\n",
    "int[] nums = {1, 2, 3, 4, 5};\n",
    "\n",
    "System.out.println(sumArray(nums));"
   ]
  },
  {
   "cell_type": "code",
   "execution_count": 3,
   "metadata": {},
   "outputs": [
    {
     "ename": "EvalException",
     "evalue": "Index 5 out of bounds for length 5",
     "output_type": "error",
     "traceback": [
      "\u001b[1m\u001b[31m---------------------------------------------------------------------------\u001b[0m",
      "\u001b[1m\u001b[31mjava.lang.ArrayIndexOutOfBoundsException: Index 5 out of bounds for length 5\u001b[0m",
      "\u001b[1m\u001b[31m\tat .sumArray(#12:6)\u001b[0m",
      "\u001b[1m\u001b[31m\tat .(#16:1)\u001b[0m"
     ]
    }
   ],
   "source": [
    "// Option C\n",
    "\n",
    "public static int sumArray(int[] key){\n",
    "    int sum = 0;\n",
    "    for (int i = 1; i <= key.length; i++){\n",
    "        sum += key[i];\n",
    "    }\n",
    "    return sum;\n",
    "}\n",
    "\n",
    "int[] nums = {1, 2, 3, 4, 5};\n",
    "\n",
    "System.out.println(sumArray(nums));"
   ]
  },
  {
   "cell_type": "code",
   "execution_count": 4,
   "metadata": {},
   "outputs": [
    {
     "ename": "EvalException",
     "evalue": "Index 5 out of bounds for length 5",
     "output_type": "error",
     "traceback": [
      "\u001b[1m\u001b[31m---------------------------------------------------------------------------\u001b[0m",
      "\u001b[1m\u001b[31mjava.lang.ArrayIndexOutOfBoundsException: Index 5 out of bounds for length 5\u001b[0m",
      "\u001b[1m\u001b[31m\tat .sumArray(#12:6)\u001b[0m",
      "\u001b[1m\u001b[31m\tat .(#17:1)\u001b[0m"
     ]
    }
   ],
   "source": [
    "// Option D\n",
    "\n",
    "public static int sumArray(int[] key){\n",
    "    int sum = 0;\n",
    "    for (int i = 1; i <= key.length; i++){\n",
    "        sum += sum + key[i];\n",
    "    }\n",
    "    return sum;\n",
    "}\n",
    "\n",
    "int[] nums = {1, 2, 3, 4, 5};\n",
    "\n",
    "System.out.println(sumArray(nums));"
   ]
  },
  {
   "cell_type": "markdown",
   "metadata": {},
   "source": [
    "## Question 10\n",
    "\n",
    "Consider the following instance variable and methods. You may assume that data has been initialized with length > 0. The methods are intended to return the index of an array element equal to target, or -1 if no such\n",
    "element exists. <br>\n",
    "\n",
    "```java\n",
    "private int[] data;\n",
    "\n",
    "public int seqSearchRec(int target){\n",
    " return seqSearchRecHelper(target, data.length - 1);\n",
    "}\n",
    "\n",
    "private int seqSearchRecHelper(int target, int last){\n",
    "    // Line 1\n",
    "    if (data[last] == target)\n",
    "        return last;\n",
    "    else\n",
    "        return seqSearchRecHelper(target, last - 1);\n",
    "}\n",
    "```\n",
    "\n",
    "10. For which of the following test cases will the call seqSearchRec(5) always result in an error? <br>\n",
    " I. data contains only one element. <br>\n",
    " II. data does not contain the value 5. <br>\n",
    " III. data contains the value 5 multiple times. <br>\n",
    "\n",
    "(A) I only <br>\n",
    "(B) II only <br>\n",
    "(C) III only <br>\n",
    "(D) I and II only <br>\n",
    "(E) I, II, and III  <br>\n",
    "\n",
    "`Option B` is the only correct answer as the function will always result in an out of bounds error if the 5 is not in the array. Option I will error only if the element in the array is not 5 and option III will not error. If the element is not found the program will keep searching until it reaches the end of the array and then reaches the negative first index resulting in an out of bounds error.\n"
   ]
  },
  {
   "cell_type": "code",
   "execution_count": 4,
   "metadata": {},
   "outputs": [
    {
     "data": {
      "text/plain": [
       "0"
      ]
     },
     "execution_count": 4,
     "metadata": {},
     "output_type": "execute_result"
    }
   ],
   "source": [
    "// Option I\n",
    "\n",
    "private int[] data = {5};\n",
    "\n",
    "public int seqSearchRec(int target){\n",
    "    return seqSearchRecHelper(target, data.length - 1);\n",
    "}\n",
    "\n",
    "private int seqSearchRecHelper(int target, int last){\n",
    "    // Line 1\n",
    "    if (data[last] == target)\n",
    "        return last;\n",
    "    else\n",
    "        return seqSearchRecHelper(target, last - 1);\n",
    "} \n",
    "\n",
    "seqSearchRec(5);\n",
    "\n",
    "// Only results in an error if single element in the array is not 5"
   ]
  },
  {
   "cell_type": "code",
   "execution_count": 5,
   "metadata": {},
   "outputs": [
    {
     "ename": "EvalException",
     "evalue": "Index -1 out of bounds for length 4",
     "output_type": "error",
     "traceback": [
      "\u001b[1m\u001b[31m---------------------------------------------------------------------------\u001b[0m",
      "\u001b[1m\u001b[31mjava.lang.ArrayIndexOutOfBoundsException: Index -1 out of bounds for length 4\u001b[0m",
      "\u001b[1m\u001b[31m\tat .seqSearchRecHelper(#14:1)\u001b[0m",
      "\u001b[1m\u001b[31m\tat .seqSearchRecHelper(#14:1)\u001b[0m",
      "\u001b[1m\u001b[31m\tat .seqSearchRecHelper(#14:1)\u001b[0m",
      "\u001b[1m\u001b[31m\tat .seqSearchRecHelper(#14:1)\u001b[0m",
      "\u001b[1m\u001b[31m\tat .seqSearchRecHelper(#14:1)\u001b[0m",
      "\u001b[1m\u001b[31m\tat .seqSearchRec(#13:1)\u001b[0m",
      "\u001b[1m\u001b[31m\tat .(#19:3)\u001b[0m"
     ]
    }
   ],
   "source": [
    "// Option II\n",
    "\n",
    "private int[] data = {1,2,3,4};\n",
    "\n",
    "public int seqSearchRec(int target){\n",
    "    return seqSearchRecHelper(target, data.length - 1);\n",
    "}\n",
    "\n",
    "private int seqSearchRecHelper(int target, int last){\n",
    "    // Line 1\n",
    "    if (data[last] == target)\n",
    "        return last;\n",
    "    else\n",
    "        return seqSearchRecHelper(target, last - 1);\n",
    "} \n",
    "\n",
    "seqSearchRec(5);\n",
    "\n",
    "// Always results in an error"
   ]
  },
  {
   "cell_type": "code",
   "execution_count": 6,
   "metadata": {},
   "outputs": [
    {
     "data": {
      "text/plain": [
       "5"
      ]
     },
     "execution_count": 6,
     "metadata": {},
     "output_type": "execute_result"
    }
   ],
   "source": [
    "// Option III\n",
    "\n",
    "private int[] data = {4,3,6,5,5,5};\n",
    "\n",
    "public int seqSearchRec(int target){\n",
    "    return seqSearchRecHelper(target, data.length - 1);\n",
    "}\n",
    "\n",
    "private int seqSearchRecHelper(int target, int last){\n",
    "    // Line 1\n",
    "    if (data[last] == target)\n",
    "        return last;\n",
    "    else\n",
    "        return seqSearchRecHelper(target, last - 1);\n",
    "} \n",
    "\n",
    "seqSearchRec(5);"
   ]
  },
  {
   "cell_type": "markdown",
   "metadata": {},
   "source": [
    "## Question 11\n",
    "\n",
    "Which of the following should be used to replace // Line 1 in seqSearchRecHelper so that seqSearchRec will work as intended? <br>\n",
    "\n",
    "(A) if (last <= 0)<br>\n",
    "        return -1;<br>\n",
    "\n",
    "(B) if (last < 0)<br>\n",
    "        return -1;<br>\n",
    "\n",
    "(C) if (last < data.length)<br>\n",
    "        return -1;<br>\n",
    "\n",
    "(D) while (last < data.length)<br>\n",
    "\n",
    "(E) while (last >= 0)<br>\n",
    "\n",
    "`Option B` is the correct answer as the code stops when the last index is less than 0 to prevent an out of bounds error. Option A will not find the value if it is the first element. Option C will never find the value as the last index will always be less than the length of the array. Option D and E will not work as there is no return statement. "
   ]
  },
  {
   "cell_type": "code",
   "execution_count": 7,
   "metadata": {},
   "outputs": [
    {
     "data": {
      "text/plain": [
       "-1"
      ]
     },
     "execution_count": 7,
     "metadata": {},
     "output_type": "execute_result"
    }
   ],
   "source": [
    "// Option A\n",
    "\n",
    "private int[] data = {5,1,2,3,4};\n",
    "\n",
    "public int seqSearchRec(int target){\n",
    "    return seqSearchRecHelper(target, data.length - 1);\n",
    "}\n",
    "\n",
    "private int seqSearchRecHelper(int target, int last){\n",
    "    // Line 1\n",
    "    if (last <= 0)\n",
    "        return -1;\n",
    "\n",
    "    if (data[last] == target)\n",
    "        return last;\n",
    "    else\n",
    "        return seqSearchRecHelper(target, last - 1);\n",
    "} \n",
    "\n",
    "seqSearchRec(5);\n",
    "\n",
    "// If the first element is the one being searched \n",
    "// for the method will not function correctly"
   ]
  },
  {
   "cell_type": "code",
   "execution_count": 8,
   "metadata": {},
   "outputs": [
    {
     "data": {
      "text/plain": [
       "0"
      ]
     },
     "execution_count": 8,
     "metadata": {},
     "output_type": "execute_result"
    }
   ],
   "source": [
    "// Option B\n",
    "\n",
    "private int[] data = {5,1,2,3,4};\n",
    "\n",
    "public int seqSearchRec(int target){\n",
    "    return seqSearchRecHelper(target, data.length - 1);\n",
    "}\n",
    "\n",
    "private int seqSearchRecHelper(int target, int last){\n",
    "    // Line 1\n",
    "    if (last < 0)\n",
    "        return -1;\n",
    "\n",
    "    if (data[last] == target)\n",
    "        return last;\n",
    "    else\n",
    "        return seqSearchRecHelper(target, last - 1);\n",
    "} \n",
    "\n",
    "seqSearchRec(5);\n",
    "\n",
    "// Method functions correctly"
   ]
  },
  {
   "cell_type": "code",
   "execution_count": 15,
   "metadata": {},
   "outputs": [
    {
     "data": {
      "text/plain": [
       "-1"
      ]
     },
     "execution_count": 15,
     "metadata": {},
     "output_type": "execute_result"
    }
   ],
   "source": [
    "// Option C\n",
    "\n",
    "private int[] data = {5,1,2,3,4};\n",
    "\n",
    "public int seqSearchRec(int target){\n",
    "    return seqSearchRecHelper(target, data.length - 1);\n",
    "}\n",
    "\n",
    "private int seqSearchRecHelper(int target, int last){\n",
    "    // Line 1\n",
    "    if (last < data.length)\n",
    "        return -1;\n",
    "\n",
    "    if (data[last] == target)\n",
    "        return last;\n",
    "    else\n",
    "        return seqSearchRecHelper(target, last - 1);\n",
    "} \n",
    "\n",
    "seqSearchRec(5);\n",
    "\n",
    "// Method does not return actual index of target"
   ]
  },
  {
   "cell_type": "code",
   "execution_count": 16,
   "metadata": {},
   "outputs": [
    {
     "ename": "CompilationException",
     "evalue": "",
     "output_type": "error",
     "traceback": [
      "\u001b[1m\u001b[30m|   \u001b[1m\u001b[30mprivate int seqSearchRecHelper(int target, int last)\u001b[0m\u001b[1m\u001b[30m\u001b[41m{\u001b[0m",
      "\u001b[1m\u001b[30m|   \u001b[1m\u001b[30m\u001b[41m    // Line 1\u001b[0m",
      "\u001b[1m\u001b[30m|   \u001b[1m\u001b[30m\u001b[41m    while (last < data.length)\u001b[0m",
      "\u001b[1m\u001b[30m|   \u001b[1m\u001b[30m\u001b[41m\u001b[0m",
      "\u001b[1m\u001b[30m|   \u001b[1m\u001b[30m\u001b[41m    if (data[last] == target)\u001b[0m",
      "\u001b[1m\u001b[30m|   \u001b[1m\u001b[30m\u001b[41m        return last;\u001b[0m",
      "\u001b[1m\u001b[30m|   \u001b[1m\u001b[30m\u001b[41m    else\u001b[0m",
      "\u001b[1m\u001b[30m|   \u001b[1m\u001b[30m\u001b[41m        return seqSearchRecHelper(target, last - 1);\u001b[0m",
      "\u001b[1m\u001b[30m|   \u001b[1m\u001b[30m\u001b[41m}\u001b[0m",
      "\u001b[1m\u001b[31mmissing return statement\u001b[0m",
      ""
     ]
    }
   ],
   "source": [
    "// Option D\n",
    "\n",
    "private int[] data = {5,1,2,3,4};\n",
    "\n",
    "public int seqSearchRec(int target){\n",
    "    return seqSearchRecHelper(target, data.length - 1);\n",
    "}\n",
    "\n",
    "private int seqSearchRecHelper(int target, int last){\n",
    "    // Line 1\n",
    "    while (last < data.length)\n",
    "\n",
    "    if (data[last] == target)\n",
    "        return last;\n",
    "    else\n",
    "        return seqSearchRecHelper(target, last - 1);\n",
    "} \n",
    "\n",
    "seqSearchRec(5);\n",
    "\n",
    "// Method does not return actual index of target will always return -1 \n",
    "// until loop terminates"
   ]
  },
  {
   "cell_type": "code",
   "execution_count": 13,
   "metadata": {},
   "outputs": [
    {
     "ename": "CompilationException",
     "evalue": "",
     "output_type": "error",
     "traceback": [
      "\u001b[1m\u001b[30m|   \u001b[1m\u001b[30mprivate int seqSearchRecHelper(int target, int last)\u001b[0m\u001b[1m\u001b[30m\u001b[41m{\u001b[0m",
      "\u001b[1m\u001b[30m|   \u001b[1m\u001b[30m\u001b[41m    // Line 1\u001b[0m",
      "\u001b[1m\u001b[30m|   \u001b[1m\u001b[30m\u001b[41m    while (last >= 0)\u001b[0m",
      "\u001b[1m\u001b[30m|   \u001b[1m\u001b[30m\u001b[41m        \u001b[0m",
      "\u001b[1m\u001b[30m|   \u001b[1m\u001b[30m\u001b[41m    if (data[last] == target)\u001b[0m",
      "\u001b[1m\u001b[30m|   \u001b[1m\u001b[30m\u001b[41m        return last;\u001b[0m",
      "\u001b[1m\u001b[30m|   \u001b[1m\u001b[30m\u001b[41m    else\u001b[0m",
      "\u001b[1m\u001b[30m|   \u001b[1m\u001b[30m\u001b[41m        return seqSearchRecHelper(target, last - 1);\u001b[0m",
      "\u001b[1m\u001b[30m|   \u001b[1m\u001b[30m\u001b[41m}\u001b[0m",
      "\u001b[1m\u001b[31mmissing return statement\u001b[0m",
      ""
     ]
    }
   ],
   "source": [
    "// Option E\n",
    "\n",
    "private int[] data = {5,1,2,3,4};\n",
    "\n",
    "public int seqSearchRec(int target){\n",
    "    return seqSearchRecHelper(target, data.length - 1);\n",
    "}\n",
    "\n",
    "private int seqSearchRecHelper(int target, int last){\n",
    "    // Line 1\n",
    "    while (last >= 0)\n",
    "        \n",
    "    if (data[last] == target)\n",
    "        return last;\n",
    "    else\n",
    "        return seqSearchRecHelper(target, last - 1);\n",
    "} \n",
    "\n",
    "seqSearchRec(5);\n",
    "\n",
    "// Method functions correctly"
   ]
  },
  {
   "cell_type": "markdown",
   "metadata": {},
   "source": [
    "## Question 12\n",
    "\n",
    "What is returned as a result of the call mystery(\"computer\")? <br>\n",
    "\n",
    "(A) \"computer\"<br>\n",
    "(B) \"cmue\"<br>\n",
    "(C) \"optr\"<br>\n",
    "(D) \"ompute\"<br>\n",
    "(E) Nothing is returned because an IndexOutOfBoundsException is thrown.<br>\n",
    "\n",
    "`Option C` is the correct answer as the loop iterates the string and adds the element that is 2 elements after starting at the first element. So the output is o + p + t + r returning \"optr\"."
   ]
  },
  {
   "cell_type": "code",
   "execution_count": 17,
   "metadata": {},
   "outputs": [
    {
     "name": "stdout",
     "output_type": "stream",
     "text": [
      "optr\n"
     ]
    }
   ],
   "source": [
    "public String mystery(String input){\n",
    "    String output = \"\";\n",
    "    for (int k = 1; k < input.length(); k = k + 2){\n",
    "        output += input.substring(k, k + 1);\n",
    "    }\n",
    "\n",
    "return output;\n",
    "}\n",
    "\n",
    "System.out.println(mystery(\"computer\"));"
   ]
  },
  {
   "cell_type": "markdown",
   "metadata": {},
   "source": [
    "## Question 13\n",
    "\n",
    "```java\n",
    "int[] arr = {7, 2, 5, 3, 0, 10};\n",
    "for (int k = 0; k < arr.length - 1; k++)\n",
    "{\n",
    " if (arr[k] > arr[k + 1])\n",
    " System.out.print(k + \" \" + arr[k] + \" \");\n",
    "}\n",
    "```\n",
    "\n",
    "What will be printed as a result of executing the code segment? <br>\n",
    "\n",
    "(A) 0 2 2 3 3 0 <br>\n",
    "(B) 0 7 2 5 3 3 <br>\n",
    "(C) 0 7 2 5 5 10 <br>\n",
    "(D) 1 7 3 5 4 3 <br>\n",
    "(E) 7 2 5 3 3 0 <br>\n",
    "\n",
    "`Option B` will be printed when the code segment is executed as iterate through the loop and print the value if it is greater than the element that follows it and the iteration thus 0, followed by 7 as it is greater than 2, then 2 as nothing is printed on the prior run, then 5 as it is greater than 3, then 3 the run number, then 3 as it is greater than 3. "
   ]
  },
  {
   "cell_type": "code",
   "execution_count": 21,
   "metadata": {},
   "outputs": [
    {
     "name": "stdout",
     "output_type": "stream",
     "text": [
      "0 7 2 5 3 3 "
     ]
    }
   ],
   "source": [
    "int[] arr = {7, 2, 5, 3, 0, 10};\n",
    "\n",
    "for (int k = 0; k < arr.length - 1; k++){\n",
    "    if (arr[k] > arr[k + 1])\n",
    "        System.out.print(k + \" \" + arr[k] + \" \");\n",
    "}\n"
   ]
  },
  {
   "cell_type": "markdown",
   "metadata": {},
   "source": [
    "## Question 14\n",
    "\n",
    "Which of the following can be used to replace /* expression */ so that getTotalMileage returns the total of the miles traveled for all vehicles in the fleet?<br>\n",
    "\n",
    "(A) getMileage(v)<br>\n",
    "(B) myVehicles[v].getMileage()<br>\n",
    "(C) Vehicle.get(v).getMileage()<br>\n",
    "(D) myVehicles.get(v).getMileage()<br>\n",
    "(E) v.getMileage()<br>\n",
    "\n",
    "`Option E` would be the only option that would work as through iterating through the array list of vehicles the getMileage() method would need to be called on each object to get their respective mileage and add it to the total. "
   ]
  },
  {
   "cell_type": "code",
   "execution_count": 6,
   "metadata": {},
   "outputs": [],
   "source": [
    "import java.util.ArrayList;\n",
    "\n",
    "public interface Vehicle {\n",
    "    /* @return the mileage traveled by this Vehicle */\n",
    "    double getMileage();\n",
    "}\n",
    "\n",
    "public class Fleet {\n",
    "    private ArrayList<Vehicle> myVehicles;\n",
    "\n",
    "    public Fleet() {\n",
    "        myVehicles = new ArrayList<>();\n",
    "    }\n",
    "\n",
    "    public Fleet(ArrayList<Vehicle> vehicles) {\n",
    "        myVehicles = new ArrayList<>(vehicles);\n",
    "    }\n",
    "\n",
    "    public void addVehicle(Vehicle vehicle) {\n",
    "        myVehicles.add(vehicle);\n",
    "    }\n",
    "\n",
    "    /** @return the mileage traveled by all vehicles in this Fleet */\n",
    "    public double getTotalMileage() {\n",
    "        double sum = 0.0;\n",
    "        for (Vehicle v : myVehicles) {\n",
    "            sum += v.getMileage(); //Option E, get mileage from vehicle instance and then sums it only logical option\n",
    "        }\n",
    "        return sum;\n",
    "    }\n",
    "}\n"
   ]
  },
  {
   "cell_type": "markdown",
   "metadata": {},
   "source": [
    "## Question 15\n",
    "\n",
    "Consider the following method, isSorted, which is intended to return true if an array of integers is sorted in nondecreasing order and to return false otherwise. <br>\n",
    "\n",
    "```java\n",
    "/* @param data an array of integers \n",
    "@return true if the values in the array appear in sorted (nondecreasing) order */\n",
    "public static boolean isSorted(int[] data){\n",
    "    /* missing code */\n",
    "} \n",
    "```\n",
    "Which of the following can be used to replace /* missing code */ so that isSorted will work as intended? <br>\n",
    "\n",
    "(A) I only <br>\n",
    "(B) II only <br>\n",
    "(C) III only <br>\n",
    "(D) I and II only <br>\n",
    "(E) I and III only <br>\n",
    "\n",
    "`Option A` is the correct answer with only option I returning if the array is sorted through beginning at the first index and then determining if the element that precedes it is smaller than it, then continues till the k is less than the length of the array, option II will have a out of bounds error attempting to add 1 to the index to determine the next value, option III cannot determine if the array is actually sorted.   "
   ]
  },
  {
   "cell_type": "code",
   "execution_count": 2,
   "metadata": {},
   "outputs": [
    {
     "name": "stdout",
     "output_type": "stream",
     "text": [
      "true\n",
      "false\n"
     ]
    }
   ],
   "source": [
    "// Option I\n",
    "\n",
    "public static boolean isSorted(int[] data){\n",
    "    for (int k = 1; k < data.length; k++){\n",
    "        if (data[k - 1] > data[k])\n",
    "            return false;\n",
    "    }\n",
    "    \n",
    "    return true;\n",
    "} \n",
    "\n",
    "\n",
    "int[] array1 = {1, 2, 3, 4, 5, 6, 7, 8, 9, 10};\n",
    "int[] array2 = {7, 15, 2, 19, 4, 342, 1, 0, 9, 11};\n",
    "\n",
    "System.out.println(isSorted(array1));\n",
    "System.out.println(isSorted(array2));\n",
    "\n",
    "// Correctly determines if the array is sorted"
   ]
  },
  {
   "cell_type": "code",
   "execution_count": 3,
   "metadata": {},
   "outputs": [
    {
     "ename": "EvalException",
     "evalue": "Index 10 out of bounds for length 10",
     "output_type": "error",
     "traceback": [
      "\u001b[1m\u001b[31m---------------------------------------------------------------------------\u001b[0m",
      "\u001b[1m\u001b[31mjava.lang.ArrayIndexOutOfBoundsException: Index 10 out of bounds for length 10\u001b[0m",
      "\u001b[1m\u001b[31m\tat .isSorted(#12:4)\u001b[0m",
      "\u001b[1m\u001b[31m\tat .(#18:1)\u001b[0m"
     ]
    }
   ],
   "source": [
    "// Option II\n",
    "public static boolean isSorted(int[] data){\n",
    "    for (int k = 0; k < data.length; k++){\n",
    "        if (data[k] > data[k + 1])\n",
    "        return false;\n",
    "    }\n",
    "    \n",
    "    return true;\n",
    "} \n",
    "\n",
    "int[] array1 = {1, 2, 3, 4, 5, 6, 7, 8, 9, 10};\n",
    "int[] array2 = {7, 15, 2, 19, 4, 342, 1, 0, 9, 11};\n",
    "\n",
    "System.out.println(isSorted(array1));\n",
    "System.out.println(isSorted(array2));\n",
    "\n",
    "// Does not properly determine if the array is sorted"
   ]
  },
  {
   "cell_type": "code",
   "execution_count": 4,
   "metadata": {},
   "outputs": [
    {
     "name": "stdout",
     "output_type": "stream",
     "text": [
      "true\n"
     ]
    },
    {
     "name": "stdout",
     "output_type": "stream",
     "text": [
      "true\n"
     ]
    }
   ],
   "source": [
    "// Option III\n",
    "\n",
    "public static boolean isSorted(int[] data){\n",
    "    for (int k = 0; k < data.length - 1; k++){\n",
    "        if (data[k] > data[k + 1])\n",
    "            return false;\n",
    "        else\n",
    "            return true;\n",
    "    }\n",
    "    \n",
    "    return true;\n",
    "} \n",
    "\n",
    "\n",
    "int[] array1 = {1, 2, 3, 4, 5, 6, 7, 8, 9, 10};\n",
    "int[] array2 = {7, 15, 2, 19, 4, 342, 1, 0, 9, 11};\n",
    "\n",
    "System.out.println(isSorted(array1));\n",
    "System.out.println(isSorted(array2));\n",
    "\n",
    "// Does not correctly return if the array is sorted or not"
   ]
  },
  {
   "cell_type": "markdown",
   "metadata": {},
   "source": [
    "## Question 16 \n",
    "\n",
    "Consider the following incomplete method that is intended to return an array that contains the contents of its first\n",
    "array parameter followed by the contents of its second array parameter. \n",
    "```java\n",
    "public static int[] append(int[] a1, int[] a2)\n",
    "{\n",
    " int[] result = new int[a1.length + a2.length];\n",
    " for (int j = 0; j < a1.length; j++)\n",
    " result[j] = a1[j];\n",
    " for (int k = 0; k < a2.length; k++)\n",
    " result[ /* index */ ] = a2[k];\n",
    " return result;\n",
    "} \n",
    "```\n",
    "Which of the following expressions can be used to replace /* index */ so that append will work as intended? <br>\n",
    "(A) j <br>\n",
    "(B) k<br>\n",
    "(C) k + a1.length - 1<br>\n",
    "(D) k + a1.length<br>\n",
    "(E) k + a1.length + 1<br>\n",
    "\n",
    "`Option D` is the only option that will allow the code to work as intended as the change ensures that the code copies the elements of a2 directly following the final index of the element in the last array. This is why option C will be incorrect as well as the option subtracts by one not actually appending past the last element within the array. Options A and B are the variables that are used to iterate through the elements within the arrays and are not valid options. "
   ]
  },
  {
   "cell_type": "code",
   "execution_count": 10,
   "metadata": {},
   "outputs": [
    {
     "ename": "UnresolvedReferenceException",
     "evalue": "Attempt to use definition snippet with unresolved references in MethodSnippet:append/(int[],int[])int[]-// Option A\n\npublic static int[] append(int[] a1, int[] a2){\n    int[] result = new int[a1.length + a2.length];\n    for (int j = 0; j < a1.length; j++)\n        result[j] = a1[j];\n    for (int k = 0; k < a2.length; k++)\n        result[j] = a2[k];\n    return result;\n}",
     "output_type": "error",
     "traceback": [
      "\u001b[1m\u001b[30m|   \u001b[1m\u001b[30m// Option A\u001b[0m",
      "\u001b[1m\u001b[30m|   \u001b[1m\u001b[30m\u001b[0m",
      "\u001b[1m\u001b[30m|   \u001b[1m\u001b[30mpublic static int[] append(int[] a1, int[] a2){\u001b[0m",
      "\u001b[1m\u001b[30m|   \u001b[1m\u001b[30m    int[] result = new int[a1.length + a2.length];\u001b[0m",
      "\u001b[1m\u001b[30m|   \u001b[1m\u001b[30m    for (int j = 0; j < a1.length; j++)\u001b[0m",
      "\u001b[1m\u001b[30m|   \u001b[1m\u001b[30m        result[j] = a1[j];\u001b[0m",
      "\u001b[1m\u001b[30m|   \u001b[1m\u001b[30m    for (int k = 0; k < a2.length; k++)\u001b[0m",
      "\u001b[1m\u001b[30m|   \u001b[1m\u001b[30m        result[j] = a2[k];\u001b[0m",
      "\u001b[1m\u001b[30m|   \u001b[1m\u001b[30m    return result;\u001b[0m",
      "\u001b[1m\u001b[30m|   \u001b[1m\u001b[30m}\u001b[0m",
      "\u001b[1m\u001b[31mUnresolved dependencies:\u001b[0m",
      "\u001b[1m\u001b[31m   - variable j\u001b[0m"
     ]
    }
   ],
   "source": [
    "// Option A\n",
    "\n",
    "public static int[] append(int[] a1, int[] a2){\n",
    "    int[] result = new int[a1.length + a2.length];\n",
    "    for (int j = 0; j < a1.length; j++)\n",
    "        result[j] = a1[j];\n",
    "    for (int k = 0; k < a2.length; k++)\n",
    "        result[j] = a2[k];\n",
    "    return result;\n",
    "}\n",
    "\n",
    "int[] arr1 = {1, 2, 3};\n",
    "int[] arr2 = {4, 5, 6};\n",
    "int[] newArr = append(arr1, arr2);\n",
    "System.out.println(Arrays.toString(newArr));"
   ]
  },
  {
   "cell_type": "code",
   "execution_count": 11,
   "metadata": {},
   "outputs": [
    {
     "name": "stdout",
     "output_type": "stream",
     "text": [
      "[4, 5, 6, 0, 0, 0]\n"
     ]
    }
   ],
   "source": [
    "// Option B\n",
    "\n",
    "public static int[] append(int[] a1, int[] a2){\n",
    "    int[] result = new int[a1.length + a2.length];\n",
    "    for (int j = 0; j < a1.length; j++)\n",
    "        result[j] = a1[j];\n",
    "    for (int k = 0; k < a2.length; k++)\n",
    "        result[k] = a2[k];\n",
    "    return result;\n",
    "}\n",
    "\n",
    "\n",
    "int[] arr1 = {1, 2, 3};\n",
    "int[] arr2 = {4, 5, 6};\n",
    "int[] newArr = append(arr1, arr2);\n",
    "System.out.println(Arrays.toString(newArr));"
   ]
  },
  {
   "cell_type": "code",
   "execution_count": 12,
   "metadata": {},
   "outputs": [
    {
     "name": "stdout",
     "output_type": "stream",
     "text": [
      "[1, 2, 4, 5, 6, 0]\n"
     ]
    }
   ],
   "source": [
    "// Option C\n",
    "\n",
    "public static int[] append(int[] a1, int[] a2){\n",
    "    int[] result = new int[a1.length + a2.length];\n",
    "    for (int j = 0; j < a1.length; j++)\n",
    "        result[j] = a1[j];\n",
    "    for (int k = 0; k < a2.length; k++)\n",
    "        result[k + a1.length - 1] = a2[k];\n",
    "    return result;\n",
    "}\n",
    "\n",
    "\n",
    "int[] arr1 = {1, 2, 3};\n",
    "int[] arr2 = {4, 5, 6};\n",
    "int[] newArr = append(arr1, arr2);\n",
    "System.out.println(Arrays.toString(newArr));"
   ]
  },
  {
   "cell_type": "code",
   "execution_count": 9,
   "metadata": {},
   "outputs": [
    {
     "name": "stdout",
     "output_type": "stream",
     "text": [
      "[1, 2, 3, 4, 5, 6]\n"
     ]
    }
   ],
   "source": [
    "// Option D\n",
    "\n",
    "public static int[] append(int[] a1, int[] a2){\n",
    "    int[] result = new int[a1.length + a2.length];\n",
    "    for (int j = 0; j < a1.length; j++)\n",
    "        result[j] = a1[j];\n",
    "    for (int k = 0; k < a2.length; k++)\n",
    "        result[k + a1.length] = a2[k];    \n",
    "    return result;\n",
    "}\n",
    "\n",
    "\n",
    "int[] arr1 = {1, 2, 3};\n",
    "int[] arr2 = {4, 5, 6};\n",
    "int[] newArr = append(arr1, arr2);\n",
    "System.out.println(Arrays.toString(newArr));\n"
   ]
  },
  {
   "cell_type": "code",
   "execution_count": 13,
   "metadata": {},
   "outputs": [
    {
     "ename": "EvalException",
     "evalue": "Index 6 out of bounds for length 6",
     "output_type": "error",
     "traceback": [
      "\u001b[1m\u001b[31m---------------------------------------------------------------------------\u001b[0m",
      "\u001b[1m\u001b[31mjava.lang.ArrayIndexOutOfBoundsException: Index 6 out of bounds for length 6\u001b[0m",
      "\u001b[1m\u001b[31m\tat .append(#12:8)\u001b[0m",
      "\u001b[1m\u001b[31m\tat .(#22:1)\u001b[0m"
     ]
    }
   ],
   "source": [
    "// Option E\n",
    "\n",
    "public static int[] append(int[] a1, int[] a2){\n",
    "    int[] result = new int[a1.length + a2.length];\n",
    "    for (int j = 0; j < a1.length; j++)\n",
    "        result[j] = a1[j];\n",
    "    for (int k = 0; k < a2.length; k++)\n",
    "        result[k + a1.length + 1] = a2[k];\n",
    "    return result;\n",
    "}\n",
    "\n",
    "\n",
    "int[] arr1 = {1, 2, 3};\n",
    "int[] arr2 = {4, 5, 6};\n",
    "int[] newArr = append(arr1, arr2);\n",
    "System.out.println(Arrays.toString(newArr));"
   ]
  },
  {
   "cell_type": "markdown",
   "metadata": {},
   "source": [
    "## Question 17\n",
    "Consider the following code segment.\n",
    "```java\n",
    "int[] arr = {1, 2, 3, 4, 5, 6, 7};\n",
    "\n",
    "for (int k = 3; k < arr.length - 1; k++)\n",
    "    arr[k] = arr[k + 1];\n",
    "``` \n",
    "Which of the following represents the contents of arr as a result of executing the code segment? <br>\n",
    "\n",
    "\n",
    "(A) {1, 2, 3, 4, 5, 6, 7} <br>\n",
    "(B) {1, 2, 3, 5, 6, 7} <br>\n",
    "(C) {1, 2, 3, 5, 6, 7, 7} <br>\n",
    "(D) {1, 2, 3, 5, 6, 7, 8} <br>\n",
    "(E) {2, 3, 4, 5, 6, 7, 7} <br>\n",
    "\n",
    "`Option C` is the correct answer as the code beings with the third index or the fourth element in array and all preceding elements are shifted forwards one resulting in the new array being {1, 2, 3, 5, 6, 7, 7} seven is repeated as the last element is copied to another new index. \n"
   ]
  },
  {
   "cell_type": "code",
   "execution_count": 15,
   "metadata": {},
   "outputs": [
    {
     "name": "stdout",
     "output_type": "stream",
     "text": [
      "[1, 2, 3, 5, 6, 7, 7]\n"
     ]
    }
   ],
   "source": [
    "int[] arr = {1, 2, 3, 4, 5, 6, 7};\n",
    "\n",
    "for (int k = 3; k < arr.length - 1; k++)\n",
    "    arr[k] = arr[k + 1];\n",
    "\n",
    "System.out.println(Arrays.toString(arr));"
   ]
  },
  {
   "cell_type": "markdown",
   "metadata": {},
   "source": [
    "## Question 18 \n",
    "\n",
    "Assume that myList is an ArrayList that has been correctly constructed and populated with objects.\n",
    "Which of the following expressions produces a valid random index for myList ? <br>\n",
    "\n",
    "(A) (int)( Math.random() * myList.size() ) - 1 <br>\n",
    "(B) (int)( Math.random() * myList.size() ) <br>\n",
    "(C) (int)( Math.random() * myList.size() ) + 1 <br>\n",
    "(D) (int)( Math.random() * (myList.size() + 1) ) <br>\n",
    "(E) Math.random(myList.size()) <br>\n",
    "\n",
    "`Option B` will return a correct value as it always returns a index within the bounds of the input array through multiplying a random value against the length of the array then casting it to an integer resulting in it being less than than the maximum index, option A allows for the index -1, and C, and D allow for a value 1 greater than the maximum index. "
   ]
  },
  {
   "cell_type": "code",
   "execution_count": 117,
   "metadata": {},
   "outputs": [
    {
     "name": "stdout",
     "output_type": "stream",
     "text": [
      "[61, 51, 30, 81, 52, 91, 66, 20, 78, 91]\n"
     ]
    }
   ],
   "source": [
    "// Defining myList\n",
    "ArrayList<Integer> myList = new ArrayList<Integer>();\n",
    "\n",
    "Random rand = new Random();\n",
    "for (int i = 0; i < 10; i++) {\n",
    "    myList.add(rand.nextInt(100) + 1);\n",
    "}\n",
    "\n",
    "System.out.println(myList);"
   ]
  },
  {
   "cell_type": "code",
   "execution_count": 116,
   "metadata": {},
   "outputs": [
    {
     "name": "stdout",
     "output_type": "stream",
     "text": [
      "[85, 32, 79, 36, 46, 97, 48, 39, 57, 29]\n",
      "-1\n"
     ]
    }
   ],
   "source": [
    "// Option A\n",
    "System.out.println(myList);\n",
    "System.out.println((int)( Math.random() * myList.size() ) - 1)"
   ]
  },
  {
   "cell_type": "code",
   "execution_count": 93,
   "metadata": {},
   "outputs": [
    {
     "name": "stdout",
     "output_type": "stream",
     "text": [
      "[85, 32, 79, 36, 46, 97, 48, 39, 57, 29]\n",
      "1\n"
     ]
    }
   ],
   "source": [
    "// Option B\n",
    "System.out.println(myList);\n",
    "System.out.println((int)( Math.random() * myList.size() ))"
   ]
  },
  {
   "cell_type": "code",
   "execution_count": 70,
   "metadata": {},
   "outputs": [
    {
     "name": "stdout",
     "output_type": "stream",
     "text": [
      "[85, 32, 79, 36, 46, 97, 48, 39, 57, 29]\n",
      "2\n"
     ]
    }
   ],
   "source": [
    "// Option C\n",
    "System.out.println(myList);\n",
    "System.out.println((int)( Math.random() * myList.size() ) + 1)"
   ]
  },
  {
   "cell_type": "code",
   "execution_count": 57,
   "metadata": {},
   "outputs": [
    {
     "name": "stdout",
     "output_type": "stream",
     "text": [
      "[85, 32, 79, 36, 46, 97, 48, 39, 57, 29]\n",
      "2\n"
     ]
    }
   ],
   "source": [
    "// Option D\n",
    "System.out.println(myList);\n",
    "System.out.println((int)( Math.random() * (myList.size() + 1) ))"
   ]
  },
  {
   "cell_type": "code",
   "execution_count": 40,
   "metadata": {},
   "outputs": [
    {
     "name": "stdout",
     "output_type": "stream",
     "text": [
      "[85, 32, 79, 36, 46, 97, 48, 39, 57, 29]\n"
     ]
    },
    {
     "ename": "CompilationException",
     "evalue": "",
     "output_type": "error",
     "traceback": [
      "\u001b[1m\u001b[30m|   \u001b[1m\u001b[30m\u001b[0m\u001b[1m\u001b[30m\u001b[41mMath.random\u001b[0m\u001b[1m\u001b[30m(myList.size())\u001b[0m",
      "\u001b[1m\u001b[31mmethod random in class java.lang.Math cannot be applied to given types;\u001b[0m",
      "\u001b[1m\u001b[31m  required: no arguments\u001b[0m",
      "\u001b[1m\u001b[31m  found:    int\u001b[0m",
      "\u001b[1m\u001b[31m  reason: actual and formal argument lists differ in length\u001b[0m",
      ""
     ]
    }
   ],
   "source": [
    "// Option E\n",
    "System.out.println(myList);\n",
    "Math.random(myList.size())"
   ]
  },
  {
   "cell_type": "markdown",
   "metadata": {},
   "source": [
    "## Question 19\n",
    "\n",
    "Assume that a and b have been defined and initialized as int values. The expression\n",
    "```java\n",
    "!(!(a != b ) && (b > 7)) \n",
    "// !(a != b ) = !(a = b) = (a != b)\n",
    "// !((a != b ) && (b > 7)) = (a != b ) || (b > 7)  \n",
    "```\n",
    "is equivalent to which of the following? <br>\n",
    "\n",
    "(A) (a != b) || (b < 7) <br>\n",
    "(B) (a != b) || (b <= 7) <br>\n",
    "(C) (a == b) || (b <= 7) <br>\n",
    "(D) (a != b) && (b <= 7) <br>\n",
    "(E) (a == b) && (b > 7) <br>\n",
    "\n",
    "`Option B` is the correct answer as A, and D while correct containing (a != b) do not correctly have the second element as less than 7 is not equal to greater than 7. And option D does not include the negation of the and making it an or. Thus Option b has to be the only correct answer. \n",
    "\n",
    " "
   ]
  },
  {
   "cell_type": "markdown",
   "metadata": {},
   "source": [
    "## Question 20\n",
    "\n",
    "Consider the following method. <br>\n",
    "\n",
    "Which of the following describes what the method arrayMethod() does to the array nums? <br>\n",
    "(A) The array nums is unchanged. <br>\n",
    "(B) The first value in nums is copied to every location in the array. <br>\n",
    "(C) The last value in nums is copied to every location in the array. <br>\n",
    "(D) The method generates an ArrayIndexOutOfBoundsException.<br>\n",
    "(E) The contents of the array nums are reversed. <br> \n",
    "\n",
    "`Option E` is the correct answer there is a while loop that sets the iterates through the indexes from the first and last index and swaps the values until the indexes meet in the middle resulting in the array being reversed."
   ]
  },
  {
   "cell_type": "code",
   "execution_count": 2,
   "metadata": {},
   "outputs": [
    {
     "name": "stdout",
     "output_type": "stream",
     "text": [
      "[7, 6, 5, 4, 3, 2, 1]\n"
     ]
    }
   ],
   "source": [
    "public static void arrayMethod(int nums[]){\n",
    "    int j = 0;\n",
    "    int k = nums.length - 1;\n",
    "    while (j < k){\n",
    "        int x = nums[j];\n",
    "        nums[j] = nums[k];\n",
    "        nums[k] = x;\n",
    "        j++;\n",
    "        k--;\n",
    "    }\n",
    "}\n",
    "\n",
    "int[] arr = {1, 2, 3, 4, 5, 6, 7};\n",
    "\n",
    "arrayMethod(arr);\n",
    "\n",
    "System.out.println(Arrays.toString(arr));"
   ]
  },
  {
   "cell_type": "markdown",
   "metadata": {},
   "source": [
    "## Question 21\n",
    "\n",
    "Consider the following method, which is intended to return the element of a 2-dimensional array that is closest in value to a specified number, val.\n",
    "```java\n",
    "/* @return the element of 2-dimensional array mat whose value is closest to val */\n",
    "public double findClosest(double[][] mat, double val) {\n",
    "    double answer = mat[0][0];\n",
    "    double minDiff = Math.abs(answer - val);\n",
    "    for (double[] row : mat){\n",
    "        for (double num : row){\n",
    "            if ( /* missing code */ ){\n",
    "                answer = num;\n",
    "                minDiff = Math.abs(num - val);\n",
    "            }\n",
    "        }\n",
    "    }\n",
    "    return answer;\n",
    "}\n",
    "```\n",
    "\n",
    "Which of the following could be used to replace /* missing code */ so that findClosest will work as intended? <br>\n",
    "(A) val - row[num] < minDiff <br>\n",
    "(B) Math.abs(num - minDiff) < minDiff <br>\n",
    "(C) val - num < 0.0 <br>\n",
    "(D) Math.abs(num - val) < minDiff <br>\n",
    "(E) Math.abs(row[num] - val) < minDiff <br>\n",
    "\n",
    "`Option D` is the only option that will correctly return the closest value to the target value. This is done as the code determines if the first value at in the first value in the first array is smaller than the difference between the first value and the target value originally thus to find another value closer to the target the difference must be smaller which option B achieves then allows it to be assigns to the value for minDiff while factoring in that subtraction can have a negative value through the use of the absolute value.  "
   ]
  },
  {
   "cell_type": "code",
   "execution_count": 15,
   "metadata": {},
   "outputs": [
    {
     "ename": "CompilationException",
     "evalue": "",
     "output_type": "error",
     "traceback": [
      "\u001b[1m\u001b[30m|   \u001b[1m\u001b[30m            if (val - row[\u001b[0m\u001b[1m\u001b[30m\u001b[41mnum\u001b[0m\u001b[1m\u001b[30m] < minDiff){\u001b[0m",
      "\u001b[1m\u001b[31mincompatible types: possible lossy conversion from double to int\u001b[0m",
      ""
     ]
    }
   ],
   "source": [
    "// Option A\n",
    "\n",
    "public double findClosest(double[][] mat, double val) {\n",
    "    double answer = mat[0][0];\n",
    "    double minDiff = Math.abs(answer - val);\n",
    "    for (double[] row : mat){\n",
    "        for (double num : row){\n",
    "            if (val - row[num] < minDiff){\n",
    "                answer = num;\n",
    "                minDiff = Math.abs(num - val);\n",
    "            }\n",
    "        }\n",
    "    }\n",
    "    return answer;\n",
    "}\n",
    "\n",
    "double[][] arr = {  {1, 2, 3}, {4, 5, 6}  };\n",
    "System.out.println(findClosest(arr, 5.2));\n"
   ]
  },
  {
   "cell_type": "code",
   "execution_count": 11,
   "metadata": {},
   "outputs": [
    {
     "name": "stdout",
     "output_type": "stream",
     "text": [
      "5.0\n"
     ]
    }
   ],
   "source": [
    "// Option B\n",
    "public double findClosest(double[][] mat, double val) {\n",
    "    double answer = mat[0][0];\n",
    "    double minDiff = Math.abs(answer - val);\n",
    "    for (double[] row : mat){\n",
    "        for (double num : row){\n",
    "            if (Math.abs(num - val) < minDiff){\n",
    "                answer = num;\n",
    "                minDiff = Math.abs(num - val);\n",
    "            }\n",
    "        }\n",
    "    }\n",
    "    return answer;\n",
    "}\n",
    "\n",
    "double[][] arr = {  {1, 2, 3}, {4, 5, 6}  };\n",
    "System.out.println(findClosest(arr, 5.2));\n"
   ]
  },
  {
   "cell_type": "code",
   "execution_count": 12,
   "metadata": {},
   "outputs": [
    {
     "name": "stdout",
     "output_type": "stream",
     "text": [
      "6.0\n"
     ]
    }
   ],
   "source": [
    "// Option C\n",
    "\n",
    "public double findClosest(double[][] mat, double val) {\n",
    "    double answer = mat[0][0];\n",
    "    double minDiff = Math.abs(answer - val);\n",
    "    for (double[] row : mat){\n",
    "        for (double num : row){\n",
    "            if (val - num < 0.0){\n",
    "                answer = num;\n",
    "                minDiff = Math.abs(num - val);\n",
    "            }\n",
    "        }\n",
    "    }\n",
    "    return answer;\n",
    "}\n",
    "\n",
    "double[][] arr = {  {1, 2, 3}, {4, 5, 6}  };\n",
    "System.out.println(findClosest(arr, 5.2));"
   ]
  },
  {
   "cell_type": "code",
   "execution_count": 13,
   "metadata": {},
   "outputs": [
    {
     "name": "stdout",
     "output_type": "stream",
     "text": [
      "5.0\n"
     ]
    }
   ],
   "source": [
    "// Option D\n",
    "\n",
    "public double findClosest(double[][] mat, double val) {\n",
    "    double answer = mat[0][0];\n",
    "    double minDiff = Math.abs(answer - val);\n",
    "    for (double[] row : mat){\n",
    "        for (double num : row){\n",
    "            if (Math.abs(num - val) < minDiff){\n",
    "                answer = num;\n",
    "                minDiff = Math.abs(num - val);\n",
    "            }\n",
    "        }\n",
    "    }\n",
    "    return answer;\n",
    "}\n",
    "\n",
    "double[][] arr = {  {1, 2, 3}, {4, 5, 6}  };\n",
    "System.out.println(findClosest(arr, 5.2));"
   ]
  },
  {
   "cell_type": "code",
   "execution_count": 14,
   "metadata": {},
   "outputs": [
    {
     "ename": "CompilationException",
     "evalue": "",
     "output_type": "error",
     "traceback": [
      "\u001b[1m\u001b[30m|   \u001b[1m\u001b[30m            if (Math.abs(row[\u001b[0m\u001b[1m\u001b[30m\u001b[41mnum\u001b[0m\u001b[1m\u001b[30m] - val) < minDiff){\u001b[0m",
      "\u001b[1m\u001b[31mincompatible types: possible lossy conversion from double to int\u001b[0m",
      ""
     ]
    }
   ],
   "source": [
    "// Option E\n",
    "\n",
    "public double findClosest(double[][] mat, double val) {\n",
    "    double answer = mat[0][0];\n",
    "    double minDiff = Math.abs(answer - val);\n",
    "    for (double[] row : mat){\n",
    "        for (double num : row){\n",
    "            if (Math.abs(row[num] - val) < minDiff){\n",
    "                answer = num;\n",
    "                minDiff = Math.abs(num - val);\n",
    "            }\n",
    "        }\n",
    "    }\n",
    "    return answer;\n",
    "}\n",
    "\n",
    "double[][] arr = {  {1, 2, 3}, {4, 5, 6}  };\n",
    "System.out.println(findClosest(arr, 5.2));\n"
   ]
  },
  {
   "cell_type": "markdown",
   "metadata": {},
   "source": [
    "## Question 22\n",
    "\n",
    "Consider the following Book and AudioBook classes. \n",
    "\n",
    "Which of the following best explains why the code segment will not compile? <br>\n",
    "\n",
    "(A) Line 2 will not compile because variables of type Book may not refer to variables of type AudioBook. <br>\n",
    "(B) Line 4 will not compile because variables of type Book may only call methods in the Book class.<br>\n",
    "(C) Line 5 will not compile because the AudioBook class does not have a method named toString\n",
    "declared or implemented. <br>\n",
    "(D) Line 6 will not compile because the statement is ambiguous. The compiler cannot determine which\n",
    "length method should be called. <br>\n",
    "(E) Line 7 will not compile because the element at index 1 in the array named books may not have been\n",
    "initialized. <br>\n",
    "\n",
    "`Option B` as the parent class cannot call the methods of the child class as the parent class does not have access to the methods of the child class the other functions have no issues.  "
   ]
  },
  {
   "cell_type": "code",
   "execution_count": 4,
   "metadata": {},
   "outputs": [],
   "source": [
    "public class Book{\n",
    "    private int numPages;\n",
    "    private String bookTitle;\n",
    "    public Book(int pages, String title){\n",
    "        numPages = pages;\n",
    "        bookTitle = title;\n",
    "    }\n",
    "    public String toString(){\n",
    "        return bookTitle + \" \" + numPages;\n",
    "    }\n",
    "    public int length(){\n",
    "        return numPages;\n",
    "    }\n",
    "}\n",
    "\n",
    "public class AudioBook extends Book{\n",
    "    private int numMinutes;\n",
    "    public AudioBook(int minutes, int pages, String title){\n",
    "        super(pages, title);\n",
    "        numMinutes = minutes;\n",
    "    }\n",
    "    public int length(){\n",
    "        return numMinutes;\n",
    "    }\n",
    " \n",
    "    public double pagesPerMinute(){\n",
    "        return ((double) super.length()) / numMinutes;\n",
    "    }\n",
    "} \n",
    "\n",
    "Book[] books = new Book[2]; //Line 1\n"
   ]
  },
  {
   "cell_type": "code",
   "execution_count": 5,
   "metadata": {},
   "outputs": [
    {
     "data": {
      "text/plain": [
       "The Jungle 300"
      ]
     },
     "execution_count": 5,
     "metadata": {},
     "output_type": "execute_result"
    }
   ],
   "source": [
    "books[0] = new AudioBook(100, 300, \"The Jungle\"); // Line 2\n"
   ]
  },
  {
   "cell_type": "code",
   "execution_count": 6,
   "metadata": {},
   "outputs": [
    {
     "data": {
      "text/plain": [
       "Captains Courageous 400"
      ]
     },
     "execution_count": 6,
     "metadata": {},
     "output_type": "execute_result"
    }
   ],
   "source": [
    "books[1] = new Book(400, \"Captains Courageous\"); // Line 3 \n"
   ]
  },
  {
   "cell_type": "code",
   "execution_count": 7,
   "metadata": {},
   "outputs": [
    {
     "ename": "CompilationException",
     "evalue": "",
     "output_type": "error",
     "traceback": [
      "\u001b[1m\u001b[30m|   \u001b[1m\u001b[30mSystem.out.println(\u001b[0m\u001b[1m\u001b[30m\u001b[41mbooks[0].pagesPerMinute\u001b[0m\u001b[1m\u001b[30m()); // Line 4\u001b[0m",
      "\u001b[1m\u001b[31mcannot find symbol\u001b[0m",
      "\u001b[1m\u001b[31m  symbol:   method pagesPerMinute()\u001b[0m",
      ""
     ]
    }
   ],
   "source": [
    "System.out.println(books[0].pagesPerMinute()); // Line 4\n"
   ]
  },
  {
   "cell_type": "code",
   "execution_count": 8,
   "metadata": {},
   "outputs": [
    {
     "name": "stdout",
     "output_type": "stream",
     "text": [
      "The Jungle 300\n"
     ]
    }
   ],
   "source": [
    "System.out.println(books[0].toString()); // Line 5\n"
   ]
  },
  {
   "cell_type": "code",
   "execution_count": 9,
   "metadata": {},
   "outputs": [
    {
     "name": "stdout",
     "output_type": "stream",
     "text": [
      "100\n"
     ]
    }
   ],
   "source": [
    "System.out.println(books[0].length()); // Line 6\n"
   ]
  },
  {
   "cell_type": "code",
   "execution_count": 10,
   "metadata": {},
   "outputs": [
    {
     "name": "stdout",
     "output_type": "stream",
     "text": [
      "Captains Courageous 400\n"
     ]
    }
   ],
   "source": [
    "System.out.println(books[1].toString()); // Line 7\n"
   ]
  },
  {
   "cell_type": "markdown",
   "metadata": {},
   "source": [
    "## Question 23\n",
    "\n",
    "Consider the following instance variable and method manipulate. <br>\n",
    "\n",
    "What will the contents of animals be as a result of calling manipulate? <br>\n",
    "(A) [\"baboon\", \"zebra\", \"bass\", \"cat\", \"bear\", \"koala\"] <br>\n",
    "(B) [\"bear\", \"zebra\", \"bass\", \"cat\", \"koala\", \"baboon\"] <br>\n",
    "(C) [\"baboon\", \"bear\", \"zebra\", \"bass\", \"cat\", \"koala\"] <br>\n",
    "(D) [\"bear\", \"baboon\", \"zebra\", \"bass\", \"cat\", \"koala\"] <br>\n",
    "(E) [\"zebra\", \"cat\", \"koala\", \"baboon\", \"bass\", \"bear\"] <br>\n",
    "\n",
    "`Option B` is the correct answer with the code segment attempting to move the element to front of the array however the current position is subtracted from the length of the array resulting in the position not changing.   \n"
   ]
  },
  {
   "cell_type": "code",
   "execution_count": 2,
   "metadata": {},
   "outputs": [
    {
     "name": "stdout",
     "output_type": "stream",
     "text": [
      "[bear, zebra, bass, cat, koala, baboon]\n"
     ]
    }
   ],
   "source": [
    "List<String> animals = new ArrayList<>(Arrays.asList(\"bear\", \"zebra\", \"bass\", \"cat\", \"koala\", \"baboon\"));\n",
    "\n",
    "private void manipulate(List<String> animals){\n",
    "    for (int k = animals.size() - 1; k > 0; k--){\n",
    "        if (animals.get(k).substring(0, 1).equals(\"b\")){\n",
    "            animals.add(animals.size() - k, animals.remove(k));\n",
    "        }\n",
    "    }\n",
    "}\n",
    "\n",
    "manipulate(animals);\n",
    "\n",
    "System.out.println(animals);\n",
    "\n"
   ]
  },
  {
   "cell_type": "markdown",
   "metadata": {},
   "source": [
    "## Question 24\n",
    "\n",
    "What is printed as a result of executing the code segment?\n",
    "(A) 3 <br>\n",
    "(B) 4 <br>\n",
    "(C) 5 <br>\n",
    "(D) 7 <br>\n",
    "(E) 8 <br>\n",
    "\n",
    "`Option D` is the correct answer as the code segment iterates through the rows assigning the current element to each column until the amount of rows is divisible by three aka the end of the column then moving on to the next column and setting rows to 0 until a 3 by 3 array is made. This means on the first row and in the third column 7 will be assigned.   "
   ]
  },
  {
   "cell_type": "code",
   "execution_count": 4,
   "metadata": {},
   "outputs": [
    {
     "name": "stdout",
     "output_type": "stream",
     "text": [
      "7\n"
     ]
    }
   ],
   "source": [
    "int[] oldArray = {1, 2, 3, 4, 5, 6, 7, 8, 9};\n",
    "int[][] newArray = new int[3][3];\n",
    "int row = 0;\n",
    "int col = 0;\n",
    "\n",
    "for (int value : oldArray){\n",
    "    newArray[row][col] = value;\n",
    "    row++;\n",
    "    if ((row % 3) == 0){\n",
    "        col++;\n",
    "        row = 0;\n",
    "    }\n",
    "}\n",
    "\n",
    "System.out.println(newArray[0][2]); \n"
   ]
  },
  {
   "cell_type": "markdown",
   "metadata": {},
   "source": [
    "## Question 25\n",
    "\n",
    "A rectangular box fits inside another rectangular box if and only if the height, width, and depth of the smaller box are each less than the corresponding values of the larger box. Consider the following three interface declarations that are intended to represent information necessary for rectangular boxes. <br>\n",
    "\n",
    "I. public interface RBox\n",
    "```java\n",
    "{\n",
    " /** @return the height of this RBox */\n",
    " double getHeight();\n",
    " /** @return the width of this RBox */\n",
    " double getWidth();\n",
    " /** @return the depth of this RBox */\n",
    " double getDepth();\n",
    "}\n",
    "```\n",
    " II. public interface RBox\n",
    "```java\n",
    "{\n",
    " /** @return true if the height of this RBox is less than the height of other;\n",
    " * false otherwise\n",
    " */\n",
    " boolean smallerHeight(RBox other);\n",
    " /** @return true if the width of this RBox is less than the width of other;\n",
    " * false otherwise\n",
    " */\n",
    " boolean smallerWidth(RBox other);\n",
    " /** @return true if the depth of this RBox is less than the depth of other;\n",
    " * false otherwise\n",
    " */\n",
    " boolean smallerDepth(RBox other);\n",
    "}\n",
    "```\n",
    "\n",
    " III. public interface RBox\n",
    "```java\n",
    "    {\n",
    "    /** @return the surface area of this RBox */\n",
    "    double getSurfaceArea();\n",
    "    /** @return the volume of this RBox */\n",
    "    double getVolume();\n",
    "    }\n",
    "```\n",
    "Which of the interfaces, if correctly implemented by a Box class, would be sufficient functionality for a user of the Box class to determine if one Box can fit inside another? <br>\n",
    "(A) I only <br>\n",
    "(B) II only <br>\n",
    "(C) III only <br>\n",
    "(D) I and II only <br>\n",
    "(E) I, II, and III <br>\n",
    "\n",
    "`Option D` as I and III allow for the user to see if the dimensions would allow for the boxes to fit in each other however in III the volume would be insufficient at the boxes can have different dimensions but the same volume and thus not fit. "
   ]
  },
  {
   "cell_type": "markdown",
   "metadata": {},
   "source": [
    "## Question 26\n",
    "\n",
    "Assume that the array arr has been defined and initialized as follows.\n",
    "```java\n",
    "int[] arr = /* initial values for the array */ ;\n",
    "```\n",
    "\n",
    "Which of the following will correctly print all of the odd integers contained in arr but none of the even integers contained in arr? <br> \n",
    "\n",
    "(A) for (int x : arr) <br>\n",
    " if (x % 2 == 1) <br>\n",
    " System.out.println(x); <br>\n",
    "\n",
    "(B) for (int k = 1; k < arr.length; k++) <br>\n",
    " if (arr[k] % 2 == 1) <br>\n",
    " System.out.println(arr[k]); <br>\n",
    "\n",
    "(C) for (int x : arr) <br>\n",
    " if (x % 2 == 1) <br>\n",
    " System.out.println(arr[x]); <br>\n",
    "\n",
    "(D) for (int k = 0; k < arr.length; k++) <br>\n",
    " if (arr[k] % 2 == 1) <br>\n",
    " System.out.println(k);<br>\n",
    "\n",
    "(E) for (int x : arr) <br>\n",
    " if (arr[x] % 2 == 1) <br>\n",
    " System.out.println(arr[x]);<br>\n",
    "\n",
    "`Option A` as it is the only one that checks if every value within the array is not divisible by 2 thus being odd. Option B is similar however due to initializing the loop with k=1 and using indices it will skip the first element.   "
   ]
  },
  {
   "cell_type": "code",
   "execution_count": 6,
   "metadata": {},
   "outputs": [],
   "source": [
    "int[] arr = {1,2,3,4,5,6,7,8,9,10}"
   ]
  },
  {
   "cell_type": "code",
   "execution_count": 7,
   "metadata": {},
   "outputs": [
    {
     "name": "stdout",
     "output_type": "stream",
     "text": [
      "1\n",
      "3\n",
      "5\n",
      "7\n",
      "9\n"
     ]
    }
   ],
   "source": [
    "// Option A\n",
    "\n",
    "for (int x : arr)\n",
    "    if (x % 2 == 1)\n",
    "        System.out.println(x);"
   ]
  },
  {
   "cell_type": "code",
   "execution_count": 8,
   "metadata": {},
   "outputs": [
    {
     "name": "stdout",
     "output_type": "stream",
     "text": [
      "3\n",
      "5\n",
      "7\n",
      "9\n"
     ]
    }
   ],
   "source": [
    "// Option B\n",
    "\n",
    "for (int k = 1; k < arr.length; k++)\n",
    "    if (arr[k] % 2 == 1)\n",
    "        System.out.println(arr[k]);"
   ]
  },
  {
   "cell_type": "code",
   "execution_count": 9,
   "metadata": {},
   "outputs": [
    {
     "name": "stdout",
     "output_type": "stream",
     "text": [
      "2\n",
      "4\n",
      "6\n",
      "8\n",
      "10\n"
     ]
    }
   ],
   "source": [
    "// Option C\n",
    "\n",
    "for (int x : arr)\n",
    "    if (x % 2 == 1)\n",
    "        System.out.println(arr[x]);"
   ]
  },
  {
   "cell_type": "code",
   "execution_count": 10,
   "metadata": {},
   "outputs": [
    {
     "name": "stdout",
     "output_type": "stream",
     "text": [
      "0\n",
      "2\n",
      "4\n",
      "6\n",
      "8\n"
     ]
    }
   ],
   "source": [
    "// Option D\n",
    "\n",
    "for (int k = 0; k < arr.length; k++)\n",
    "    if (arr[k] % 2 == 1)\n",
    "        System.out.println(k);"
   ]
  },
  {
   "cell_type": "code",
   "execution_count": 11,
   "metadata": {},
   "outputs": [
    {
     "name": "stdout",
     "output_type": "stream",
     "text": [
      "3\n",
      "5\n",
      "7\n",
      "9\n"
     ]
    },
    {
     "ename": "EvalException",
     "evalue": "Index 10 out of bounds for length 10",
     "output_type": "error",
     "traceback": [
      "\u001b[1m\u001b[31m---------------------------------------------------------------------------\u001b[0m",
      "\u001b[1m\u001b[31mjava.lang.ArrayIndexOutOfBoundsException: Index 10 out of bounds for length 10\u001b[0m",
      "\u001b[1m\u001b[31m\tat .(#31:4)\u001b[0m"
     ]
    }
   ],
   "source": [
    "// Option E\n",
    "\n",
    "for (int x : arr)\n",
    "    if (arr[x] % 2 == 1)\n",
    "        System.out.println(arr[x]);"
   ]
  },
  {
   "cell_type": "markdown",
   "metadata": {},
   "source": [
    "## Question 27\n",
    "\n",
    "What value is returned as a result of the call mystery(6)? <br>\n",
    "(A) 1 <br>\n",
    "(B) 5 <br>\n",
    "(C) 6 <br>\n",
    "(D) 8 <br>\n",
    "(E) 13 <br>\n",
    "\n",
    "`Option D` is the answer with the method mystery being called in with 6 as the argument as 6 is greater than 2 thus will iterate through the loop 4 times adding 1 to x so x equals 2 then 1 so it equals 3, then 2 so it equals 5, then 3 getting 8. \n",
    "\n",
    "## Question 28\n",
    "\n",
    "Which of the following is true of method mystery? <br>\n",
    "(A) x will sometimes be 1 at // Point B. <br>\n",
    "(B) x will never be 1 at // Point C. <br>\n",
    "(C) n will never be greater than 2 at // Point A. <br>\n",
    "(D) n will sometimes be greater than 2 at // Point C. <br>\n",
    "(E) n will always be greater than 2 at // Point B. <br> \n",
    "\n",
    "`Option E` is the correct answer as to enter the while loop and remain in the while loop n must be greater than 2 at point B. The option are simply untrue. "
   ]
  },
  {
   "cell_type": "code",
   "execution_count": 13,
   "metadata": {},
   "outputs": [
    {
     "data": {
      "text/plain": [
       "8"
      ]
     },
     "execution_count": 13,
     "metadata": {},
     "output_type": "execute_result"
    }
   ],
   "source": [
    "public static int mystery(int n){\n",
    "    int x = 1;\n",
    "    int y = 1;\n",
    "    // Point A\n",
    "    while (n > 2){\n",
    "        x = x + y;\n",
    "        // Point B\n",
    "        y = x - y;\n",
    "        n--;\n",
    "    }\n",
    "\n",
    "    // Point C\n",
    "    return x;\n",
    "} \n",
    "\n",
    "mystery(6)"
   ]
  },
  {
   "cell_type": "markdown",
   "metadata": {},
   "source": [
    "## Question 29\n",
    "\n",
    "Consider the following code segment.\n",
    "```java\n",
    "for (int k = 1; k <= 100; k++)\n",
    "    if ((k % 4) == 0)\n",
    "        System.out.println(k);\n",
    "```\n",
    "Which of the following code segments will produce the same output as the code segment above?<br> \n",
    "\n",
    "(A) for (int k = 1; k <= 25; k++)<br>\n",
    "        System.out.println(k); <br>\n",
    "\n",
    "(B) for (int k = 1; k <= 100; k = k + 4)<br>\n",
    "        System.out.println(k);<br>\n",
    "\n",
    "(C) for (int k = 1; k <= 100; k++)<br>\n",
    "        System.out.println(k % 4);<br>\n",
    "\n",
    "(D) for (int k = 4; k <= 25; k = 4 * k)<br>\n",
    "        System.out.println(k);<br>\n",
    "\n",
    "(E) for (int k = 4; k <= 100; k = k + 4)<br>\n",
    "        System.out.println(k);<br>\n",
    "\n",
    "`Option E` as it is the only option that prints all values divisible by 4 between 1 and 100 as seen in the original code segment. Through adding 4 to itself until it is not less than or equal to 100. "
   ]
  },
  {
   "cell_type": "code",
   "execution_count": null,
   "metadata": {},
   "outputs": [],
   "source": [
    "// Base\n",
    "for (int k = 1; k <= 100; k++)\n",
    "    if ((k % 4) == 0)\n",
    "        System.out.println(k);"
   ]
  },
  {
   "cell_type": "code",
   "execution_count": null,
   "metadata": {},
   "outputs": [],
   "source": [
    "// Option A\n",
    "\n",
    "for (int k = 1; k <= 25; k++)\n",
    "    System.out.println(k);"
   ]
  },
  {
   "cell_type": "code",
   "execution_count": null,
   "metadata": {},
   "outputs": [],
   "source": [
    "// Option B\n",
    "\n",
    "for (int k = 1; k <= 100; k = k + 4)\n",
    "    System.out.println(k);"
   ]
  },
  {
   "cell_type": "code",
   "execution_count": null,
   "metadata": {},
   "outputs": [],
   "source": [
    "// Option C\n",
    "\n",
    "for (int k = 1; k <= 100; k++)\n",
    "    System.out.println(k % 4);"
   ]
  },
  {
   "cell_type": "code",
   "execution_count": null,
   "metadata": {},
   "outputs": [],
   "source": [
    "// Option D\n",
    "\n",
    "for (int k = 4; k <= 25; k = 4 * k)\n",
    "    System.out.println(k);"
   ]
  },
  {
   "cell_type": "code",
   "execution_count": null,
   "metadata": {},
   "outputs": [],
   "source": [
    "// Option E\n",
    "\n",
    "for (int k = 4; k <= 100; k = k + 4)\n",
    "    System.out.println(k);"
   ]
  },
  {
   "cell_type": "markdown",
   "metadata": {},
   "source": [
    "## Question 30\n",
    "\n",
    "Consider the following method. <br>\n",
    "\n",
    "```java\n",
    "public static String scramble(String word, int howFar){\n",
    "    return word.substring(howFar + 1, word.length()) +\n",
    "    word.substring(0, howFar);\n",
    "} \n",
    "```\n",
    "What value is returned as a result of the call scramble(\"compiler\", 3)? <br>\n",
    "(A) \"compiler\" <br>\n",
    "(B) \"pilercom\" <br>\n",
    "(C) \"ilercom\" <br>\n",
    "(D) \"ilercomp\" <br>\n",
    "(E) No value is returned because an IndexOutOfBoundsException will be thrown. <br>\n",
    "\n",
    "`Option C` is the correct answer as the method will go to the index that is one greater than argument passed or the fourth index to this case to the end of the string and then add the first three indices to the string which will result in the end string 'ilercom'.\n",
    "\n"
   ]
  },
  {
   "cell_type": "code",
   "execution_count": 21,
   "metadata": {},
   "outputs": [
    {
     "data": {
      "text/plain": [
       "ilercom"
      ]
     },
     "execution_count": 21,
     "metadata": {},
     "output_type": "execute_result"
    }
   ],
   "source": [
    "public static String scramble(String word, int howFar){\n",
    "    return word.substring(howFar + 1, word.length()) +\n",
    "    word.substring(0, howFar);\n",
    "}\n",
    "\n",
    "scramble(\"compiler\", 3)"
   ]
  },
  {
   "cell_type": "markdown",
   "metadata": {},
   "source": [
    "## Question 31\n",
    "\n",
    "```java\n",
    "public void mystery(int[] data){\n",
    "    for (int k = 0; k < data.length - 1; k++)\n",
    "        data[k + 1] = data[k] + data[k + 1];\n",
    "} \n",
    "```\n",
    "The following code segment appears in another method in the same class.\n",
    "\n",
    "```java\n",
    "int[] values = {5, 2, 1, 3, 8};\n",
    "mystery(values);\n",
    "\n",
    "for (int v : values)\n",
    "    System.out.print(v + \" \");\n",
    "\n",
    "System.out.println();\n",
    "```\n",
    "\n",
    "What is printed as a result of executing the code segment? <br>\n",
    "\n",
    "(A) 5 2 1 3 8 <br>\n",
    "(B) 5 7 3 4 11 <br>\n",
    "(C) 5 7 8 11 19 <br>\n",
    "(D) 7 3 4 11 8 <br>\n",
    "(E) Nothing is printed because an ArrayIndexOutOfBoundsException is thrown during the execution of method mystery. <br> \n",
    "\n",
    "`Option C` is the correct answer as the mystery method will add the sum of all prior elements to the current element then assign that value to the element thus the output will be 5, 7, 8, 11, 19 which will then be printed with a space between each element.   "
   ]
  },
  {
   "cell_type": "code",
   "execution_count": 22,
   "metadata": {},
   "outputs": [
    {
     "name": "stdout",
     "output_type": "stream",
     "text": [
      "5 7 8 11 19 \n"
     ]
    }
   ],
   "source": [
    "public void mystery(int[] data){\n",
    "    for (int k = 0; k < data.length - 1; k++)\n",
    "        data[k + 1] = data[k] + data[k + 1];\n",
    "} \n",
    "\n",
    "int[] values = {5, 2, 1, 3, 8};\n",
    "mystery(values);\n",
    "\n",
    "for (int v : values)\n",
    "    System.out.print(v + \" \");\n",
    "\n",
    "System.out.println();\n"
   ]
  },
  {
   "cell_type": "markdown",
   "metadata": {},
   "source": [
    "## Question 32\n",
    "\n",
    "Consider the following method.\n",
    "\n",
    "```java\n",
    "public int compute(int n, int k){\n",
    "    int answer = 1;\n",
    "    for (int i = 1; i <= k; i++)\n",
    "        answer *= n;\n",
    "    return answer;\n",
    "}\n",
    "```\n",
    "Which of the following represents the value returned as a result of the call compute(n, k)? <br>\n",
    "\n",
    "(A) n*k <br>\n",
    "(B) n! <br>\n",
    "(C) n^k <br>\n",
    "(D) 2^k <br>\n",
    "(E) k^n <br>\n",
    "\n",
    "`Option C` is the correct answer as the method will multiply n by itself k times resulting in n^k. "
   ]
  },
  {
   "cell_type": "code",
   "execution_count": 23,
   "metadata": {},
   "outputs": [
    {
     "data": {
      "text/plain": [
       "8"
      ]
     },
     "execution_count": 23,
     "metadata": {},
     "output_type": "execute_result"
    }
   ],
   "source": [
    "public int compute(int n, int k){\n",
    "    int answer = 1;\n",
    "    for (int i = 1; i <= k; i++)\n",
    "        answer *= n;\n",
    "    return answer;\n",
    "}\n",
    "\n",
    "compute(2, 3)"
   ]
  },
  {
   "cell_type": "markdown",
   "metadata": {},
   "source": [
    "## Question 33\n",
    "\n",
    "Consider the following method. <br>\n",
    "```java\n",
    "int sum = 0;\n",
    "int k = 1;\n",
    "\n",
    "while (sum < 12 || k < 4)\n",
    "    sum += k;\n",
    "\n",
    "System.out.println(sum); \n",
    "```\n",
    "What is printed as a result of executing the code segment? <br>\n",
    "(A) 6 <br>\n",
    "(B) 10 <br>\n",
    "(C) 12 <br>\n",
    "(D) 15 <br>\n",
    "(E) Nothing is printed due to an infinite loop. <br> \n",
    "\n",
    "`Option E` is the correct answer the loop will never terminate there is no break condition as k is not being incremented thus there is no way for the or condition to be true as k < 4 will always be true. "
   ]
  },
  {
   "cell_type": "markdown",
   "metadata": {},
   "source": [
    "## Question 34\n",
    "\n",
    "```java\n",
    "public class Point{\n",
    "    private double x; // x-coordinate\n",
    "    private double y; // y-coordinate\n",
    "    public Point(){\n",
    "        x = 0;\n",
    "        y = 0;\n",
    "    }\n",
    "    public Point(double a, double b){\n",
    "        x = a;\n",
    "        y = b;\n",
    "    }\n",
    "    // There may be instance variables, constructors, and methods that are not shown.\n",
    "}\n",
    "\n",
    "public class Circle{\n",
    "    private Point center;\n",
    "    private double radius;\n",
    "    /* Constructs a circle where (a, b) is the center and r is the radius.*/\n",
    "    public Circle(double a, double b, double r){\n",
    "        /* missing code */\n",
    "    }\n",
    "} \n",
    "```\n",
    "\n",
    "Which of the following replacements for /* missing code */ will correctly implement the Circle constructor?\n",
    " \n",
    " I. center = new Point();\n",
    "radius = r;\n",
    " \n",
    " II. center = new Point(a, b);\n",
    "radius = r;\n",
    " \n",
    " III. center = new Point();\n",
    "center.x = a;\n",
    "center.y = b;\n",
    "radius = r;\n",
    "\n",
    "(A) I only <br>\n",
    "(B) II only <br>\n",
    "(C) III only <br>\n",
    "(D) II and III only <br>\n",
    "(E) I, II, and III <br>\n",
    "\n",
    "\n",
    "`Option B` is the correct answer as it is the only option that correctly initializes the center point and the radius for the Circle class. The I does not correctly define the point, nor does III. "
   ]
  },
  {
   "cell_type": "markdown",
   "metadata": {},
   "source": [
    "## Question 35\n",
    "\n",
    "Consider the following code segment.\n",
    "\n",
    "```java\n",
    "int num = 2574;\n",
    "int result = 0;\n",
    "\n",
    "while (num > 0){\n",
    "    result = result * 10 + num % 10;\n",
    "    num /= 10;\n",
    "}\n",
    "\n",
    "System.out.println(result);\n",
    "```\n",
    "What is printed as a result of executing the code segment?<br>\n",
    "\n",
    "(A) 2 <br>\n",
    "(B) 4 <br>\n",
    "(C) 18 <br>\n",
    "(D) 2574 <br>\n",
    "(E) 4752 <br>\n",
    "\n",
    "`Option E` will be correct answer as the code add the remainder of dividing by 10 which is 4 in the first iteration to which the result times 10, increasing 10 fold per loop as result begins at 4 it will be (0 x 10) + 4 for the first iteration, (4 x 10) + 7 = 47 for the second loop, (47 x 10) + 5 = 52 for the third loop, and so on and so forth till the value 4752 is reached. "
   ]
  },
  {
   "cell_type": "code",
   "execution_count": 1,
   "metadata": {},
   "outputs": [
    {
     "name": "stdout",
     "output_type": "stream",
     "text": [
      "4752\n"
     ]
    }
   ],
   "source": [
    "\n",
    "int num = 2574;\n",
    "int result = 0;\n",
    "\n",
    "while (num > 0){\n",
    "    result = result * 10 + num % 10;\n",
    "    num /= 10;\n",
    "}\n",
    "\n",
    "System.out.println(result);"
   ]
  },
  {
   "cell_type": "markdown",
   "metadata": {},
   "source": [
    "## Question 36\n",
    "\n",
    "Consider the following method. <br>\n",
    "\n",
    "```java\n",
    "public void test(int x){\n",
    "    int y;\n",
    "    if (x % 2 == 0)\n",
    "        y = 3;\n",
    "    else if (x > 9)\n",
    "        y = 5;\n",
    "    else\n",
    "        y = 1;\n",
    "    System.out.println(\"y = \" + y);\n",
    "} \n",
    "```\n",
    "\n",
    "Which of the following test data sets would test each possible output for the method? <br>\n",
    "\n",
    "(A) 8, 9, 12 <br>\n",
    "(B) 7, 9, 11 <br>\n",
    "(C) 8, 9, 11 <br>\n",
    "(D) 8, 11, 13 <br>\n",
    "(E) 7, 9, 10  <br>\n",
    "\n",
    "`Option C` as the input 8 can test the condition for values that are divisible by 2, 9 for values that are not greater than 9 or evenly disable by 2, and 11 for values that are greater than 9 and not evenly divisible by 2.   "
   ]
  },
  {
   "cell_type": "code",
   "execution_count": 3,
   "metadata": {},
   "outputs": [],
   "source": [
    "public void test(int x){\n",
    "    int y;\n",
    "    if (x % 2 == 0)\n",
    "        y = 3;\n",
    "    else if (x > 9)\n",
    "        y = 5;\n",
    "    else\n",
    "        y = 1;\n",
    "    System.out.println(\"y = \" + y);\n",
    "}"
   ]
  },
  {
   "cell_type": "code",
   "execution_count": 6,
   "metadata": {},
   "outputs": [
    {
     "name": "stdout",
     "output_type": "stream",
     "text": [
      "y = 3\n",
      "y = 1\n",
      "y = 3\n"
     ]
    }
   ],
   "source": [
    "// Option A\n",
    "test(8); // tests for values disable evenly by 2\n",
    "test(9); // Tests for the the third condition\n",
    "test(12); // Does not test for second condition as it is also evenly devisable by 2"
   ]
  },
  {
   "cell_type": "code",
   "execution_count": 5,
   "metadata": {},
   "outputs": [
    {
     "name": "stdout",
     "output_type": "stream",
     "text": [
      "y = 1\n",
      "y = 1\n",
      "y = 5\n"
     ]
    }
   ],
   "source": [
    "// Option B\n",
    "\n",
    "test(7); // Tests for third condition\n",
    "test(9); // Tests for third condition\n",
    "test(11); // Tests for second condition"
   ]
  },
  {
   "cell_type": "code",
   "execution_count": 4,
   "metadata": {},
   "outputs": [
    {
     "name": "stdout",
     "output_type": "stream",
     "text": [
      "y = 3\n",
      "y = 1\n",
      "y = 5\n"
     ]
    }
   ],
   "source": [
    "// Option C\n",
    "\n",
    "test(8); // Tests for first condition\n",
    "test(9); // Tests for third condition\n",
    "test(11); // Tests for the second condition"
   ]
  },
  {
   "cell_type": "code",
   "execution_count": 7,
   "metadata": {},
   "outputs": [
    {
     "name": "stdout",
     "output_type": "stream",
     "text": [
      "y = 3\n",
      "y = 5\n",
      "y = 5\n"
     ]
    }
   ],
   "source": [
    "// Option D\n",
    "\n",
    "test(8); // First\n",
    "test(11); // Second\n",
    "test(13); // Second"
   ]
  },
  {
   "cell_type": "code",
   "execution_count": 8,
   "metadata": {},
   "outputs": [
    {
     "name": "stdout",
     "output_type": "stream",
     "text": [
      "y = 1\n",
      "y = 1\n",
      "y = 3\n"
     ]
    }
   ],
   "source": [
    "// Option E\n",
    "\n",
    "test(7); // Third\n",
    "test(9); // Third\n",
    "test(10); // First"
   ]
  },
  {
   "cell_type": "markdown",
   "metadata": {},
   "source": [
    "## Question 37\n",
    "\n",
    "Consider the following code segment.\n",
    "```java\n",
    "int x = 1;\n",
    "while ( /* missing code */ )\n",
    "{\n",
    " System.out.print(x + \" \");\n",
    " x = x + 2;\n",
    "}\n",
    "```\n",
    " \n",
    "Consider the following possible replacements for /* missing code */. <br>\n",
    " I. x < 6 <br>\n",
    " II. x != 6 <br>\n",
    " III. x < 7 <br>\n",
    "\n",
    "Which of the proposed replacements for /* missing code */ will cause the code segment to print only the values 1 3 5 ? <br>\n",
    "\n",
    "(A) I only <br>\n",
    "(B) II only <br>\n",
    "(C) I and II only <br>\n",
    "(D) I and III only <br>\n",
    "(E) I, II, and III <br>\n",
    "\n",
    "`Option D` as x is being incremented by 2 if the condition is either x < 6 the loop will terminate before the next value which is 7 is printed or if the value is x < 7 as the loop increments x by 2 will also stop it from being printed. x can never equal 6 and thus the loop will never terminate if the condition is x != 6."
   ]
  },
  {
   "cell_type": "code",
   "execution_count": 10,
   "metadata": {},
   "outputs": [
    {
     "name": "stdout",
     "output_type": "stream",
     "text": [
      "1 3 5 "
     ]
    }
   ],
   "source": [
    "// Option I\n",
    "int x = 1;\n",
    "while (x < 6)\n",
    "{\n",
    " System.out.print(x + \" \");\n",
    " x = x + 2;\n",
    "}"
   ]
  },
  {
   "cell_type": "code",
   "execution_count": 9,
   "metadata": {},
   "outputs": [
    {
     "name": "stdout",
     "output_type": "stream",
     "text": [
      "1 3 5 "
     ]
    }
   ],
   "source": [
    "// Option II\n",
    "int x = 1;\n",
    "while (x < 7)\n",
    "{\n",
    " System.out.print(x + \" \");\n",
    " x = x + 2;\n",
    "}"
   ]
  },
  {
   "cell_type": "markdown",
   "metadata": {},
   "source": [
    "## Question 38\n",
    "\n",
    "Assume that x and y have been declared and initialized with int values. Consider the following Java expression. <br>\n",
    "```java\n",
    "(y > 10000) || (x > 1000 && x < 1500)\n",
    "```\n",
    " \n",
    "Which of the following is equivalent to the expression given above? <br>\n",
    "\n",
    "(A) (y > 10000 || x > 1000) && (y > 10000 || x < 1500) <br>\n",
    "(B) (y > 10000 || x > 1000) || (y > 10000 || x < 1500) <br>\n",
    "(C) (y > 10000) && (x > 1000 || x < 1500) <br>\n",
    "(D) (y > 10000 && x > 1000) || (y > 10000 && x < 1500) <br>\n",
    "(E) (y > 10000 && x > 1000) && (y > 10000 && x < 1500)<br>\n",
    "\n",
    "`Option A` is the only correct answer as the or condition can be distributed into the and condition as if the y > 10000 condition was true it would execute regardless of the and being false which is preserved, along with the base condition of both x > 1000 and x < 1500 being true would also ensure the code segment executes.    "
   ]
  },
  {
   "cell_type": "markdown",
   "metadata": {},
   "source": [
    "## Question 39\n",
    "\n",
    "Consider the following recursive method.\n",
    "```java\n",
    "public int recur(int n){\n",
    " if (n <= 10)\n",
    " return n * 2;\n",
    " else\n",
    " return recur(recur(n / 3));\n",
    "}\n",
    "```\n",
    "What value is returned as a result of the call recur(27) ? <br>\n",
    "\n",
    "(A) 8 <br>\n",
    "(B) 9 <br>\n",
    "(C) 12 <br>\n",
    "(D) 16 <br>\n",
    "(E) 18 <br>  \n",
    "\n",
    "`Option D` 16 is returned recur calls it self with a value a third that of the original condition if it is less than or equal to 10 which it is so on the second call is on the output of the input 27/3 which is 9 is passed in so 9*2 is returned which is 18 which is then passed in again 18/3 which is 6 which is then returned as 12 which is then passed in so the process repeats 12/3 = 4 --> 8 --> 16 which is the final output.  "
   ]
  },
  {
   "cell_type": "code",
   "execution_count": 15,
   "metadata": {},
   "outputs": [
    {
     "name": "stdout",
     "output_type": "stream",
     "text": [
      "16\n"
     ]
    }
   ],
   "source": [
    "public int recur(int n){\n",
    "    if (n <= 10)\n",
    "        return n * 2;\n",
    "    else\n",
    "        return recur(recur(n / 3));\n",
    "}\n",
    "\n",
    "int output = recur(27);\n",
    "System.out.println(output);"
   ]
  },
  {
   "cell_type": "markdown",
   "metadata": {},
   "source": [
    "## Question 40\n",
    "\n",
    "Consider the following recursive method.\n",
    "```java\n",
    "public static void whatsItDo(String str){\n",
    "    int len = str.length();\n",
    "    if (len > 1){\n",
    "        String temp = str.substring(0, len – 1);\n",
    "        whatsItDo(temp);\n",
    "        System.out.println(temp);\n",
    "    }\n",
    "}\n",
    "\n",
    "```\n",
    "What is printed as a result of the call whatsItD(\"WATCH\")? <br>\n",
    "\n",
    "(A)  <br>\n",
    "WATC  <br>\n",
    "WAT <br>\n",
    "WA <br>\n",
    "W <br>\n",
    "\n",
    "(B) <br>\n",
    "WATCH <br>\n",
    "WATC <br>\n",
    "WAT <br>\n",
    "WA <br>\n",
    "\n",
    "(C) <br>\n",
    "W <br>\n",
    "WA <br>\n",
    "WAT <br>\n",
    "WATC <br>\n",
    "\n",
    "(D) <br>\n",
    "W <br>\n",
    "WA <br>\n",
    "WAT <br>\n",
    "WATC <br>\n",
    "WATCH <br>\n",
    "\n",
    "(E) <br>\n",
    "WATCH <br>\n",
    "WATC <br>\n",
    "WAT <br>\n",
    "WA <br>\n",
    "W <br>\n",
    "WA <br>\n",
    "WAT <br>\n",
    "WATC <br>\n",
    "WATCH<br>\n",
    "\n",
    "`Option C` is printed a result of executing the code segment as teh function what whatItDo creates a new substring temp which is equivalent to WATC then class it self on WATC resulting in WAT, then, WA, then finally W. As the condition is called before the print statement the code will execute the print statements as W, WA, WAT, WATC because the recursive conditions are executed then prints resulting in the values printed being in reserve order of the recursive calls.\n"
   ]
  },
  {
   "cell_type": "code",
   "execution_count": 17,
   "metadata": {},
   "outputs": [
    {
     "name": "stdout",
     "output_type": "stream",
     "text": [
      "W\n",
      "WA\n",
      "WAT\n",
      "WATC\n"
     ]
    }
   ],
   "source": [
    "public static void whatsItDo(String str){\n",
    "    int len = str.length();\n",
    "    if (len > 1){\n",
    "        String temp = str.substring(0, len - 1);\n",
    "        whatsItDo(temp);\n",
    "        System.out.println(temp);\n",
    "    }\n",
    "}\n",
    "\n",
    "whatsItDo(\"WATCH\")\n"
   ]
  }
 ],
 "metadata": {
  "kernelspec": {
   "display_name": "Java",
   "language": "java",
   "name": "java"
  },
  "language_info": {
   "codemirror_mode": "java",
   "file_extension": ".jshell",
   "mimetype": "text/x-java-source",
   "name": "java",
   "pygments_lexer": "java",
   "version": "3.11.6"
  }
 },
 "nbformat": 4,
 "nbformat_minor": 2
}
