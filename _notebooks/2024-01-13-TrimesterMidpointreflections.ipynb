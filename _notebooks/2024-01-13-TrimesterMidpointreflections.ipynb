{
 "cells": [
  {
   "cell_type": "markdown",
   "metadata": {},
   "source": [
    "---\n",
    "toc: true\n",
    "comments: false\n",
    "layout: post\n",
    "title: Trimester 2 Midpoint Reflection\n",
    "description: Reflection on the trimester so far along with key inputs\n",
    "type: tangibles\n",
    "categories: [week18]\n",
    "courses: { compsci: {week: 18} }\n",
    "---"
   ]
  },
  {
   "cell_type": "markdown",
   "metadata": {},
   "source": [
    "# Mini-project \n",
    "- Through the card mini project a key focus was in the creation and understanding of sorting algorithms. While also having a major focus on the recording and management of card methods and classes. While allowing me to understand the importance of the use of inheritance to reuse elements specifically in the JSON creation. I understood a key portion in managing dependencies and also the debugging of Java issues which was a key skill as a result of the needed dependencies.    \n",
    "\n",
    "# [College Board Lesson Indicators](https://github.com/Tirth-Thakkar/Mort-Pages-Personal/issues/4)\n",
    "- A reflection upon the college board lesson indicators so far and the content covered within them. Where I especially had issues in some areas regard JWT where I learned how to overcome the failure to create table build, from issues within the program. \n",
    "- [College Board MCQ](https://tirth-thakkar.github.io/Mort-Pages-Personal/AA_compsci.html): Where I better understood many principles of recursion as it was a key problem I faced throughout the MCQ where they seemed to be more difficult than other types of problems. \n",
    "- [Github Commit](https://github.com/Tirth-Thakkar)\n",
    "- ![Commits Midpoints](https://github.com/Tirth-Thakkar/Mort-Pages-Personal/blob/main/images/Commits_Midpoint.png?raw=true)\n",
    "- ![Commits Midpoints](https://github.com/Tirth-Thakkar/Mort-Pages-Personal/blob/main/images/Commits_Midpoint_2023.png?raw=true)\n",
    " \n",
    "# Future Project\n",
    "- With our new project I happy to begin exploring a 2d pixel art based game/simulation. Where we will allow the user to explore every aspect of sustainable agriculture from dealing with core principles of farm design to reduce erosion or water use, creating irrigation systems that reduce evaporation loss, the main principles of Integrated Pest Management. While understanding the outcomes of not following those principles like damage to local environments and ecology. All of this will focusing on the costs of these issues. Leveraging our team's passion for environmental issues, while also using the artistic skills from our chief asset designer Ryan.   \n",
    "\n"
   ]
  }
 ],
 "metadata": {
  "language_info": {
   "name": "python"
  }
 },
 "nbformat": 4,
 "nbformat_minor": 2
}
