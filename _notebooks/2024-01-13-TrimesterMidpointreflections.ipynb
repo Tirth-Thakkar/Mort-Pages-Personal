{
 "cells": [
  {
   "cell_type": "markdown",
   "metadata": {},
   "source": [
    "---\n",
    "toc: true\n",
    "comments: false\n",
    "layout: post\n",
    "title: Trimester 2 Midpoint Reflection\n",
    "description: Reflection on the trimester so far along with key inputs\n",
    "type: tangibles\n",
    "categories: [week18]\n",
    "courses: { compsci: {week: 18} }\n",
    "---"
   ]
  },
  {
   "cell_type": "markdown",
   "metadata": {},
   "source": [
    "# Miniproject \n",
    "- Through the card mini project a key focus was in the creation and understanding of sorting algorithms. While also having a major focus on the recording and management of card methods and classes. While allowing me to understand the importance of the use of inheritance to reuse elements specifically in the json creation   "
   ]
  }
 ],
 "metadata": {
  "language_info": {
   "name": "python"
  }
 },
 "nbformat": 4,
 "nbformat_minor": 2
}
