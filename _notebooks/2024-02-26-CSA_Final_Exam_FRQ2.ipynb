{
 "cells": [
  {
   "cell_type": "markdown",
   "metadata": {},
   "source": [
    "---\n",
    "toc: true\n",
    "comments: false\n",
    "layout: post\n",
    "title: 2015 FRQ 2 (Classes)\n",
    "description: 2015 FRQ 2 Solution + Reflection\n",
    "type: tangibles\n",
    "image: /images/Scammer.png\n",
    "comments: true\n",
    "categories: [week34]\n",
    "courses: { compsci: {week: 34} }\n",
    "---"
   ]
  },
  {
   "cell_type": "markdown",
   "metadata": {},
   "source": [
    "# Question 2: Classes\n",
    "\n",
    "Consider a guessing game in which a player tries to guess a hidden word. The hidden word contains only capital letters and has a length known to the player. A guess contains only capital letters and has the same length as the hidden word. After a guess is made, the player is given a hint that is based on a comparison between the hidden word and the guess. Each position in the hint contains a character that corresponds to the letter in the same position in the guess. The following rules  determine the characters that appear in the hint.\n",
    "\n",
    "![image](https://github.com/Tirth-Thakkar/Mort-Pages-Personal/assets/108642800/77f4fa48-74c4-499e-aadc-c6c0d2a90241)\n",
    "\n",
    "The HiddenWord class will be used to represent the hidden word in the game. The hidden word is passed to the constructor. The class contains a method, getHint, that takes a guess and produces a hint. For example, suppose the variable puzzle is declared as follows. \n",
    "\n",
    "```java\n",
    "HiddenWord puzzle = new HiddenWord(\"HARPS\");\n",
    "```\n",
    "\n",
    "The following table shows several guesses and the hints that would be produced.\n",
    "\n",
    "![image](https://github.com/Tirth-Thakkar/Mort-Pages-Personal/assets/108642800/65561260-669a-40be-9147-ba8cea8e5ba5)\n",
    "\n",
    "\n",
    "Write the complete `HiddenWord` class, including any necessary instance variables, its constructor, and the\n",
    "method, `getHint`, described above. You may assume that the length of the guess is the same as the length of\n",
    "the hidden word.\n"
   ]
  },
  {
   "cell_type": "code",
   "execution_count": 29,
   "metadata": {},
   "outputs": [
    {
     "name": "stdout",
     "output_type": "stream",
     "text": [
      "+A+++\n",
      "H****\n",
      "H*++*\n",
      "HAR*S\n",
      "HARPS\n"
     ]
    }
   ],
   "source": [
    "public class HiddenWord{\n",
    "    private String hiddenWord;\n",
    "    \n",
    "    public HiddenWord(String hiddenWord){\n",
    "        this.hiddenWord = hiddenWord.toUpperCase().strip();\n",
    "    }\n",
    "\n",
    "    public String getHiddenWord(){\n",
    "        return this.hiddenWord;\n",
    "    }\n",
    "\n",
    "    public String getHint(String guess){\n",
    "        guess = guess.strip().toUpperCase();\n",
    "        String word = this.getHiddenWord();\n",
    "        int wordLength = word.length(); \n",
    "        char[] hintArr = new char[wordLength];\n",
    "\n",
    "        for(int i = 0; i < wordLength; i++){\n",
    "            hintArr[i] = '*';\n",
    "        }\n",
    "\n",
    "        for(int i = 0; i < guess.length(); i++){   \n",
    "            if(guess.charAt(i) == word.charAt(i)){\n",
    "                hintArr[i] = guess.charAt(i);\n",
    "            } else if(word.indexOf(guess.charAt(i)) != -1){\n",
    "                hintArr[i] = '+';\n",
    "            }     \n",
    "        }\n",
    "        \n",
    "        String hint = String.valueOf(hintArr);\n",
    "        return hint;\n",
    "    }\n",
    "\n",
    "    public static void main(String args[]){\n",
    "        HiddenWord puzzle = new HiddenWord(\"HARPS\");\n",
    "        System.out.println(puzzle.getHint(\"AAAAA\"));\n",
    "        System.out.println(puzzle.getHint(\"HELLO\"));\n",
    "        System.out.println(puzzle.getHint(\"HEART\"));\n",
    "        System.out.println(puzzle.getHint(\"HARMS\"));\n",
    "        System.out.println(puzzle.getHint(\"HARPS\"));\n",
    "    }\n",
    "}\n",
    "\n",
    "HiddenWord.main(null);"
   ]
  },
  {
   "cell_type": "markdown",
   "metadata": {},
   "source": [
    "## Reflection\n",
    "\n",
    "This problem was very interesting in the sense that it was about testing a lot of the fundamental principles about classes from asking about how to declare the HiddenWord class and creating the needed constructor for the class and practicing the basics on that front, which due to the familiarity with creating many classes to accomplish the functions of our prior projects it was very simple. The added aspect of the question from being able to find elements at the needed positions in Strings was testing our familiarity with the `chatAt` and `indexOf` methods to see what was at certain indices of a string and whether or not a certain character was in a string this was useful as we don't really use these methods often and was a good refresher. However, I later realized the method that I had used for returning a the hint from creating a an array of characters then assigning the various elements, +, *, and the character then converting it into a string and then returning it was a bit overkill and I could have just used a string an then concatenated the characters to the string and then returned it. This was a good reminder to not be too tunnel visioned as I was thinking a bit about the prior problem which was about Arrays and was the solution I had come up with. "
   ]
  }
 ],
 "metadata": {
  "kernelspec": {
   "display_name": "Java",
   "language": "java",
   "name": "java"
  },
  "language_info": {
   "codemirror_mode": "java",
   "file_extension": ".jshell",
   "mimetype": "text/x-java-source",
   "name": "java",
   "pygments_lexer": "java",
   "version": "21+35-LTS-2513"
  }
 },
 "nbformat": 4,
 "nbformat_minor": 2
}
