{
 "cells": [
  {
   "cell_type": "markdown",
   "metadata": {},
   "source": [
    "---\n",
    "toc: true\n",
    "comments: false\n",
    "layout: post\n",
    "title: 2015 FRQ 2 (Classes)\n",
    "description: 2015 FRQ 2 Solution + Reflection\n",
    "type: tangibles\n",
    "image: /images/Scammer.png\n",
    "comments: true\n",
    "categories: [week34]\n",
    "courses: { compsci: {week: 34} }\n",
    "---"
   ]
  },
  {
   "cell_type": "markdown",
   "metadata": {},
   "source": [
    "# Question 2: Classes\n",
    "\n"
   ]
  },
  {
   "cell_type": "code",
   "execution_count": 29,
   "metadata": {},
   "outputs": [
    {
     "name": "stdout",
     "output_type": "stream",
     "text": [
      "+A+++\n",
      "H****\n",
      "H*++*\n",
      "HAR*S\n",
      "HARPS\n"
     ]
    }
   ],
   "source": [
    "public class HiddenWord{\n",
    "    private String hiddenWord;\n",
    "    \n",
    "    public HiddenWord(String hiddenWord){\n",
    "        this.hiddenWord = hiddenWord.toUpperCase().strip();\n",
    "    }\n",
    "\n",
    "    public String getHiddenWord(){\n",
    "        return this.hiddenWord;\n",
    "    }\n",
    "\n",
    "    public String getHint(String guess){\n",
    "        guess = guess.strip().toUpperCase();\n",
    "        String word = this.getHiddenWord();\n",
    "        int wordLength = word.length(); \n",
    "        char[] hintArr = new char[wordLength];\n",
    "\n",
    "        for(int i = 0; i < wordLength; i++){\n",
    "            hintArr[i] = '*';\n",
    "        }\n",
    "\n",
    "        for(int i = 0; i < guess.length(); i++){   \n",
    "            if(guess.charAt(i) == word.charAt(i)){\n",
    "                hintArr[i] = guess.charAt(i);\n",
    "            } else if(word.indexOf(guess.charAt(i)) != -1){\n",
    "                hintArr[i] = '+';\n",
    "            }     \n",
    "        }\n",
    "        \n",
    "        String hint = String.valueOf(hintArr);\n",
    "        return hint;\n",
    "    }\n",
    "\n",
    "    public static void main(String args[]){\n",
    "        HiddenWord puzzle = new HiddenWord(\"HARPS\");\n",
    "        System.out.println(puzzle.getHint(\"AAAAA\"));\n",
    "        System.out.println(puzzle.getHint(\"HELLO\"));\n",
    "        System.out.println(puzzle.getHint(\"HEART\"));\n",
    "        System.out.println(puzzle.getHint(\"HARMS\"));\n",
    "        System.out.println(puzzle.getHint(\"HARPS\"));\n",
    "    }\n",
    "}\n",
    "\n",
    "HiddenWord.main(null);"
   ]
  },
  {
   "cell_type": "markdown",
   "metadata": {},
   "source": [
    "# Reflections"
   ]
  }
 ],
 "metadata": {
  "kernelspec": {
   "display_name": "Java",
   "language": "java",
   "name": "java"
  },
  "language_info": {
   "codemirror_mode": "java",
   "file_extension": ".jshell",
   "mimetype": "text/x-java-source",
   "name": "java",
   "pygments_lexer": "java",
   "version": "21+35-LTS-2513"
  }
 },
 "nbformat": 4,
 "nbformat_minor": 2
}
