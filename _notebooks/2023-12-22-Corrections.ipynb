{
 "cells": [
  {
   "cell_type": "markdown",
   "metadata": {},
   "source": [
    "---\n",
    "toc: true\n",
    "comments: false\n",
    "layout: post\n",
    "title: Correction 2015\n",
    "description: Corrections and Reflections on the 2015 Collegeboard MCQ.\n",
    "image: /images/Scammer.png\n",
    "type: tangibles\n",
    "categories: [week17]\n",
    "courses: { compsci: {week: 17} }\n",
    "---"
   ]
  },
  {
   "cell_type": "markdown",
   "metadata": {},
   "source": [
    "# General Reflection\n",
    "![2015 Score](https://github.com/Tirth-Thakkar/Mort-Pages-Personal/blob/main/images/2015_Score.png?raw=true)\n",
    "- Got a score of 36/39 on the MCQ getting questions 35, 38, and 39 wrong. Overall the MCQ went fairly well with most topics being understandable in most cases however some problems were a tad challenging such as the interpretation of the way certain algorithms functioned.\n",
    "\n",
    "# Corrections \n",
    "- Corrections with explanations on issue in understanding and the correct way to approach and solve the problem. \n",
    "\n",
    "## Question 35\n",
    "![2015 Score](https://github.com/Tirth-Thakkar/Mort-Pages-Personal/blob/main/images/Q35_2015.png?raw=true)\n",
    "- Time 3:14 minutes\n",
    "- The issue was in the understanding of binary search, that it returns the first index that a value that it returns. Through which I learned that  repeatedly divides the search space in half by comparing the target value with the middle element of the array. In which if the target value matches the middle element, it returns the successful index . Otherwise, the search continues in the left or right half of the array until the target value is found or the search space is empty. This also explains why binary search has a time complexity of `O(log n)` as it divides the search space in half each time. This was due to a fundamental understanding of the algorithm and how it functions. \n",
    "\n",
    "## Question 38\n",
    "![2015 Score](https://github.com/Tirth-Thakkar/Mort-Pages-Personal/blob/main/images/Q38_2015.png?raw=true)\n",
    "- Time: 2:03 minutes\n",
    "- I misunderstood the recursive method in that I couldn't understand how the function calls were actually operating that it was not actually returning elements that adjacent but not equal to val via the index operations but was actually returning all values equal to val. As the recursive method worked by starting at teh end of the array through setting the numVals to the length of the array and seeing if it was equal to the value. If that condition was met it set k to 1. This was then repeated through calling the recursive method till the amount of values was equal to 1 the function would check if element 0 the last element was equal to the value, then return the sum of all k resulting in the function returning all values that were equal to the value. \n",
    "\n",
    "## Question 39\n",
    "![2015 Score](https://github.com/Tirth-Thakkar/Mort-Pages-Personal/blob/main/images/Q39_2015.png?raw=true)\n",
    "- Time 00:51 minutes\n",
    "- The error was in not properly evaluation what operation were being performed on the array most likely due to the speed in which the problem was solved. I assumed upon seeing the operation it would be simple and thus picked the first most obvious answer which was not correct. I overlooked the fact that the first loop set the elements to Alex thus as it is running it will return the values originally set due to the nature of the set method returning the original contents. Only on the second iteration would the values of Alex, Alex, Alex be in the array.  \n",
    "\n"
   ]
  }
 ],
 "metadata": {
  "language_info": {
   "name": "python"
  }
 },
 "nbformat": 4,
 "nbformat_minor": 2
}
