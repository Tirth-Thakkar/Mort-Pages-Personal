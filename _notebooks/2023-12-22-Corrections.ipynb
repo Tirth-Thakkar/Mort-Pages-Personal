{
 "cells": [
  {
   "cell_type": "markdown",
   "metadata": {},
   "source": [
    "---\n",
    "toc: true\n",
    "comments: false\n",
    "layout: post\n",
    "title: Correction 2015\n",
    "description: Corrections and Reflections on the 2015 Collegeboard MCQ.\n",
    "image: /images/Scammer.png\n",
    "type: tangibles\n",
    "courses: { compsci: {week: 12} }\n",
    "---"
   ]
  },
  {
   "cell_type": "markdown",
   "metadata": {},
   "source": [
    "# General Reflection\n",
    "![2015 Score](https://github.com/Tirth-Thakkar/Mort-Pages-Personal/blob/main/images/2015_Score.png?raw=true)\n",
    "- Got a score of 36/39 on the MCQ getting questions 35, 38, and 39 wrong. Overall the MCQ went fairly well with most topics being understandable in most cases however some problems were a tad challenging such as the interpretation of the way certain algorithms functioned.\n",
    "\n",
    "# Corrections \n",
    "- Corrections with explanations on issue in understanding and the correct way to approach and solve the problem. \n",
    "\n",
    "## Question 35\n",
    "![2015 Score](https://github.com/Tirth-Thakkar/Mort-Pages-Personal/blob/main/images/Q35_2015.png?raw=true)\n",
    "- The issue was in the understanding of binary search, that it returns the first index that a value that it returns. Through which I learned that  repeatedly divides the search space in half by comparing the target value with the middle element of the array. In which if the target value matches the middle element, it returns the successful index . Otherwise, the search continues in the left or right half of the array until the target value is found or the search space is empty. This also explains why binary search has a time complexity of `O(log n)` as it divides the search space in half each time. This was due to a fundamental understanding of the algorithm and how it functions. \n",
    "\n",
    "## Question 38\n",
    "![2015 Score](https://github.com/Tirth-Thakkar/Mort-Pages-Personal/blob/main/images/Q38_2015.png?raw=true)\n",
    "- I misunderstood the recursive method in that I couldn't understand how the function calls were actually operating that if the value was not able to  \n",
    "\n",
    "## Question 39\n",
    "![2015 Score](https://github.com/Tirth-Thakkar/Mort-Pages-Personal/blob/main/images/Q39_2015.png?raw=true)\n",
    "- \n",
    "\n"
   ]
  },
  {
   "cell_type": "code",
   "execution_count": null,
   "metadata": {
    "vscode": {
     "languageId": "java"
    }
   },
   "outputs": [],
   "source": [
    "// "
   ]
  }
 ],
 "metadata": {
  "language_info": {
   "name": "python"
  }
 },
 "nbformat": 4,
 "nbformat_minor": 2
}
