{
 "cells": [
  {
   "cell_type": "markdown",
   "metadata": {},
   "source": [
    "---\n",
    "toc: true\n",
    "comments: false\n",
    "layout: post\n",
    "title: Correction 2015\n",
    "description: Corrections and Reflections on the 2015 Collegeboard MCQ.\n",
    "image: /images/Scammer.png\n",
    "type: tangibles\n",
    "courses: { compsci: {week: 12} }\n",
    "---"
   ]
  },
  {
   "cell_type": "markdown",
   "metadata": {},
   "source": [
    "# General Reflection\n",
    "![2015 Score](https://github.com/Tirth-Thakkar/Mort-Pages-Personal/blob/main/images/2015_Score.png?raw=true)\n",
    "- Got a score of 36/39 on the MCQ getting questions 35, 38, and 39 wrong. Overall the MCQ went fairly well with most topics being understandable in most cases however some problems were a tad challenging such as the interpretation of the way certain algorithms functioned.\n",
    "\n",
    "# Corrections \n",
    "- Corrections with explanations on issue in understanding and the correct way to approach and solve the problem. \n",
    "\n",
    "## Question 35\n",
    "![2015 Score](https://github.com/Tirth-Thakkar/Mort-Pages-Personal/blob/main/images/Q35_2015.png?raw=true)\n",
    "- \n",
    "\n",
    "## Question 38\n",
    "![2015 Score](https://github.com/Tirth-Thakkar/Mort-Pages-Personal/blob/main/images/Q38_2015.png?raw=true)\n",
    "- \n",
    "\n",
    "## Question 39\n",
    "![2015 Score](https://github.com/Tirth-Thakkar/Mort-Pages-Personal/blob/main/images/Q39_2015.png?raw=true)\n",
    "- \n",
    "\n",
    "\n",
    "# Reflection on Difficult Problems"
   ]
  }
 ],
 "metadata": {
  "language_info": {
   "name": "python"
  }
 },
 "nbformat": 4,
 "nbformat_minor": 2
}
