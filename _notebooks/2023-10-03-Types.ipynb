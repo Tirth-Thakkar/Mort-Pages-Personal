{
 "cells": [
  {
   "cell_type": "markdown",
   "metadata": {},
   "source": [
    "---\n",
    "comments: true\n",
    "layout: post\n",
    "title: Types\n",
    "type: hacks\n",
    "toc: True\n",
    "author: [VATQ]\n",
    "categories: [week05]\n",
    "courses: { compsci: {week: 5} }\n",
    "---"
   ]
  },
  {
   "cell_type": "markdown",
   "metadata": {},
   "source": [
    "Java is used around the world to create applications and is one of the most popular coding languages. The reason Java is so popular is because of it's security and versatility provided by it's Object Oriented nature.\n",
    "\n",
    "# 1.1 Basics\n",
    "\n",
    "```java\n",
    "public class Main {\n",
    "  int x = 5;\n",
    "\n",
    "  public static void main(String[] args) {\n",
    "    Main myObj = new Main();\n",
    "    System.out.println(myObj.x);\n",
    "  }\n",
    "}\n",
    "```\n",
    "\n",
    "# 1.2 Variables and Data Types\n",
    "\n",
    "## Variables\n",
    "\n",
    "A Variable is a name given to a memory location that is holding the specified value. Here are some naming practices:\n",
    "\n",
    "- Use camel case. likeThis.\n",
    "- Don't start with a number.\n",
    "- Spaces are not allowed.\n",
    "- No reserved characters, like $, @, and &\n",
    "\n",
    "***Java is a strongly typed language so you always need to declare the type of the variable.*** Variables can also be declared on their own or in the same line as when they are given a value:\n"
   ]
  },
  {
   "cell_type": "code",
   "execution_count": 26,
   "metadata": {},
   "outputs": [],
   "source": [
    "int primitive5;\n",
    "primitive4 = 1;\n",
    "\n",
    "//Or...\n",
    "int primitive6 = 1;"
   ]
  },
  {
   "cell_type": "markdown",
   "metadata": {},
   "source": [
    "What are the greatest values integers and doubles can store?"
   ]
  },
  {
   "cell_type": "markdown",
   "metadata": {},
   "source": [
    "## Primitive Data\n",
    "\n",
    "Primitive data determines ***the size and type of information***. Primitive types are the most simple type of variable. They are simply store a short amount of raw data, and are not associated with another class.\n",
    "\n",
    "Here are the different primitive types:\n",
    "- byte: An 8-bit signed two's complement integer.\n",
    "- short: A 16-bit signed two's complement integer.\n",
    "- int: A 32-bit signed two's complement integer.\n",
    "- long: A 64-bit signed two's complement integer.\n",
    "- float: A single-precision 32-bit IEEE 754 floating point.\n",
    "- double: A double-precision 64-bit IEEE 754 floating point.\n",
    "- boolean: Stores either true or false.\n",
    "- char: Stores a single character.\n",
    "\n",
    "For this class you need to know:"
   ]
  },
  {
   "cell_type": "code",
   "execution_count": 27,
   "metadata": {},
   "outputs": [],
   "source": [
    "boolean primitive3 = true; //Stores a true of false binary value\n",
    "int primitive1 = 0; //Whole number\n",
    "double primitive2 = 1.1; //Decimal values. Floating point numbers.\n",
    "char primitive4 = 'a'; //Single character"
   ]
  },
  {
   "cell_type": "markdown",
   "metadata": {},
   "source": [
    "| Data Type | Size (bits) |\n",
    "|-----------|-------------|\n",
    "| boolean   | 8           |\n",
    "| int       | 32          |\n",
    "| double    | 64          |\n",
    "| char      | 16          |"
   ]
  },
  {
   "cell_type": "code",
   "execution_count": 28,
   "metadata": {},
   "outputs": [
    {
     "name": "stdout",
     "output_type": "stream",
     "text": [
      "2147483647\n",
      "-2147483648\n",
      "1.7976931348623157E308\n",
      "4.9E-324\n"
     ]
    }
   ],
   "source": [
    "public class GreatestValue {\n",
    "    public static void main(String[] args) {\n",
    "        System.out.println(Integer.MAX_VALUE);\n",
    "        System.out.println(Integer.MIN_VALUE);\n",
    "        System.out.println(Double.MAX_VALUE);\n",
    "        System.out.println(Double.MIN_VALUE);\n",
    "    }\n",
    "}\n",
    "GreatestValue.main(null);"
   ]
  },
  {
   "cell_type": "markdown",
   "metadata": {},
   "source": [
    "## Reference Types\n",
    "Some data types, like String, start with a capital letter. This is because they are not primiative, but are refrence types. They are called this because they refrence an object.\n",
    "> \"A reference type is a code object that is not stored directly where it is created, but that acts as a kind of pointer to a value stored elsewhere.\""
   ]
  },
  {
   "cell_type": "markdown",
   "metadata": {},
   "source": []
  },
  {
   "cell_type": "code",
   "execution_count": 29,
   "metadata": {},
   "outputs": [],
   "source": [
    "int integer = 7120; //\"int\" starts with a lowercase\n",
    "String string = \"abc\"; //\"String\" starts with an uppercase, because it is an object and not a primitive type"
   ]
  },
  {
   "cell_type": "markdown",
   "metadata": {},
   "source": [
    "## All Reference Types Reference Objects: String Example\n",
    "\n",
    "String is the most common reference type. Here is an example of how a String type is really just referencing an object."
   ]
  },
  {
   "cell_type": "code",
   "execution_count": 30,
   "metadata": {},
   "outputs": [],
   "source": [
    "public class WorseString {\n",
    "    private char[] charArray;\n",
    "\n",
    "    public WorseString(String inputString) {\n",
    "        this.charArray = inputString.toCharArray();\n",
    "    }\n",
    "\n",
    "    public String getChars() {\n",
    "        return new String(this.charArray);\n",
    "    }\n",
    "\n",
    "    @Override\n",
    "    public String toString() {\n",
    "        return getChars();\n",
    "    }\n",
    "}"
   ]
  },
  {
   "cell_type": "code",
   "execution_count": 31,
   "metadata": {},
   "outputs": [
    {
     "name": "stdout",
     "output_type": "stream",
     "text": [
      "Hello, World!\n"
     ]
    }
   ],
   "source": [
    "WorseString string = new WorseString(\"Hello, World!\");\n",
    "System.out.println(string);"
   ]
  },
  {
   "cell_type": "markdown",
   "metadata": {},
   "source": [
    "Therefore, these two things are the same:"
   ]
  },
  {
   "cell_type": "code",
   "execution_count": 32,
   "metadata": {},
   "outputs": [],
   "source": [
    "String string = \"abc\";\n",
    "String string = new String(\"abc\");"
   ]
  },
  {
   "cell_type": "markdown",
   "metadata": {},
   "source": [
    "## Literal vs String literal\n",
    "\n",
    "- Literal: Source code representation of a fixed value --- 3\n",
    "- String Literal: In double quotes, a String --- \"3\""
   ]
  },
  {
   "cell_type": "markdown",
   "metadata": {},
   "source": [
    "# 1.3 Expressions and Assignment Statements\n",
    "\n",
    "Calculations and evaluating arithmetic statements is important when coding to create algorithms and other code. Make sure you are doing arithmetic statements with int or double values and not String literals\n",
    "\n",
    "## Operators\n",
    "\n",
    "| Operator | Example Equation | Output | Use |\n",
    "|----------|------------------|--------|------------|\n",
    "| +        | 5 + 3            | 8      | Add numbers together. |\n",
    "| -        | 5 - 3            | 2      | Subtract one number from another. |\n",
    "| *        | 5 * 3            | 15     | Multiply numbers together. |\n",
    "| /        | 5 / 3            | 1.6 | Divide one number by another. |\n",
    "| %        | 5 % 3            | 2      | Find the remainder of a division operation. |\n",
    "\n",
    "\n",
    "> Tip: In the AP subset, you only have to worry about operations with int values. However, it's good to know how to use arithmetic statements with doubles and other types. \n",
    "\n",
    "If you do an operation with two ints or doubles, it returns the respective type. If you mix types, Java returns the one with more bits, a double in this case.\n",
    "\n",
    "## Modulus\n",
    "\n",
    "Modulus gets the remainder if you were to divide two numbers. One common use is to find odd/even numbers. \n",
    "\n",
    "- 5 % 2 = 1\n",
    "- 100 % 10 = 0\n",
    "\n",
    "You try: \n",
    "\n",
    "- 8 % 3 = 2\n",
    "- 4 % 1 = 0\n",
    "\n",
    "Modulus joins multiplication and division in the order of operations\n",
    "\n",
    "## Assignment Operator\n",
    "\n",
    "= is called the assignment operator because it is used to assign a value to a variable. It is the last in the order of operations."
   ]
  },
  {
   "cell_type": "markdown",
   "metadata": {},
   "source": [
    "## Casting\n",
    "Casting is converting one type of variable to another\n",
    "ex: double to int"
   ]
  },
  {
   "cell_type": "code",
   "execution_count": 4,
   "metadata": {},
   "outputs": [
    {
     "name": "stdout",
     "output_type": "stream",
     "text": [
      "3\n",
      "3\n",
      "4\n",
      "1\n",
      "1.5\n"
     ]
    }
   ],
   "source": [
    "public class Casting {\n",
    "    public static void main(String[] args) {\n",
    "        double castTest = 3.2;\n",
    "        System.out.println((int) castTest);\n",
    "        castTest = 3.7;\n",
    "        System.out.println((int) castTest);\n",
    "        System.out.println((int) (castTest+0.5));\n",
    "\n",
    "        int castTest2 = 3;\n",
    "        System.out.println(castTest2/2);\n",
    "        System.out.println(castTest2/2.0);\n",
    "    }\n",
    "}\n",
    "Casting.main(null);"
   ]
  },
  {
   "cell_type": "markdown",
   "metadata": {},
   "source": [
    "What will this output?\n",
    "castTest2 = 7;\n",
    "System.out.println(castTest2/3);\n",
    "System.out.println((int) (castTest2+0.5));\n"
   ]
  },
  {
   "cell_type": "markdown",
   "metadata": {},
   "source": [
    "## Wrapper Classes"
   ]
  },
  {
   "cell_type": "markdown",
   "metadata": {},
   "source": [
    "For many operations in Java, you need to have a class. Some examples are:\n",
    "- **ArrayLists or HashMaps**\n",
    "- If you require nullability (meaning the value could be null)\n",
    "- Generics\n",
    "- Methods that require objects as input\n",
    "\n",
    "To accomplish this, we use a wrapper class. A wrapper class is essentially a class which 'wraps' the primitive type and makes it into an object rather than a primitive.\n",
    "\n",
    "What is a downside of using wrapper classes? Why not always use them?\n",
    "\n",
    "<spoiler>Increased memory usage</spoiler> "
   ]
  },
  {
   "cell_type": "code",
   "execution_count": 5,
   "metadata": {},
   "outputs": [
    {
     "ename": "CompilationException",
     "evalue": "",
     "output_type": "error",
     "traceback": [
      "\u001b[1m\u001b[30m|   \u001b[1m\u001b[30mArrayList ArrayList = new ArrayList<\u001b[0m\u001b[1m\u001b[30m\u001b[41mint\u001b[0m\u001b[1m\u001b[30m>();\u001b[0m",
      "\u001b[1m\u001b[31munexpected type\u001b[0m",
      "\u001b[1m\u001b[31m  required: reference\u001b[0m",
      "\u001b[1m\u001b[31m  found:    int\u001b[0m",
      ""
     ]
    }
   ],
   "source": [
    "//This code fails\n",
    "ArrayList ArrayList = new ArrayList<int>();"
   ]
  },
  {
   "cell_type": "code",
   "execution_count": null,
   "metadata": {},
   "outputs": [],
   "source": [
    "//This code works\n",
    "ArrayList ArrayList = new ArrayList<Integer>();"
   ]
  },
  {
   "cell_type": "markdown",
   "metadata": {},
   "source": [
    "<img src=\"https://bobthefarmer.github.io/VACTQ-Lesson/download.jfif\" alt=\"wrapper\" width=\"400\"/>"
   ]
  },
  {
   "cell_type": "code",
   "execution_count": null,
   "metadata": {},
   "outputs": [
    {
     "name": "stdout",
     "output_type": "stream",
     "text": [
      "17\n",
      "17\n",
      "3.9\n"
     ]
    }
   ],
   "source": [
    "public class Wrappers {\n",
    "    Integer ageWrapper = 17;\n",
    "    int age = Integer.parseInt(\"17\");\n",
    "    String gpaString = \"3.9\";\n",
    "    double gpaDouble = Double.parseDouble(gpaString);\n",
    "\n",
    "    public static void main(String[] args) {\n",
    "        Wrappers wrapper = new Wrappers();\n",
    "        System.out.println(wrapper.ageWrapper);\n",
    "        System.out.println(wrapper.age);\n",
    "        System.out.println(wrapper.gpaDouble);\n",
    "    }\n",
    "}\n",
    "Wrappers.main(null);"
   ]
  },
  {
   "cell_type": "markdown",
   "metadata": {},
   "source": [
    "How do you complete this output so that it outputs an integer\n",
    "String grade = \"95\";\n",
    "?\n",
    "\n",
    "How do you complete this output so that it outputs a double?\n",
    "String grade = \"95.5\";\n",
    "?"
   ]
  },
  {
   "cell_type": "markdown",
   "metadata": {},
   "source": [
    "## Enums\n",
    "What are they?\n",
    "<spoiler>Enums are a type of data, which allows a variable to be a predetermined set of values</spoiler>\n",
    "\n",
    "Uses\n",
    "* Examples: days of the week\n",
    "\n",
    "Things you can do with Enums\n",
    "* ordinal\n",
    "* switch\n",
    "* for loops"
   ]
  },
  {
   "cell_type": "markdown",
   "metadata": {},
   "source": [
    "# Homework\n",
    "\n",
    "All of your homework is on this [form](https://forms.gle/M6FgxZwX1AnWdZmL9). (Link is https://forms.gle/M6FgxZwX1AnWdZmL9)"
   ]
  },
  {
   "cell_type": "code",
   "execution_count": 35,
   "metadata": {},
   "outputs": [
    {
     "name": "stdout",
     "output_type": "stream",
     "text": [
      "Enter a day of the week:\n",
      "Invalid input. Please enter a valid day of the week.\n"
     ]
    }
   ],
   "source": [
    "import java.util.Scanner;\n",
    "\n",
    "public class DayOfWeekExample {\n",
    "    enum DayOfWeek {\n",
    "        MONDAY, TUESDAY, WEDNESDAY, THURSDAY, FRIDAY, SATURDAY, SUNDAY\n",
    "    }\n",
    "\n",
    "    public static void main(String[] args) {\n",
    "        Scanner scanner = new Scanner(System.in);\n",
    "        System.out.println(\"Enter a day of the week:\");\n",
    "        String input = scanner.nextLine().toUpperCase(); // Convert input to uppercase\n",
    "        try {\n",
    "            DayOfWeek today = DayOfWeek.valueOf(input);\n",
    "            System.out.println(\"Is it Tuesday?\");\n",
    "            switch (today) {\n",
    "                case TUESDAY:\n",
    "                    System.out.println(\"Today is Tuesday!\");\n",
    "                    break;\n",
    "\n",
    "                default:\n",
    "                    System.out.println(\"Today is not Tuesday!\");\n",
    "                    break;\n",
    "            }\n",
    "        } catch (IllegalArgumentException e) {\n",
    "            System.out.println(\"Invalid input. Please enter a valid day of the week.\");\n",
    "        }\n",
    "    }\n",
    "}\n",
    "\n",
    "DayOfWeekExample.main(null);"
   ]
  },
  {
   "cell_type": "code",
   "execution_count": 51,
   "metadata": {},
   "outputs": [
    {
     "name": "stdout",
     "output_type": "stream",
     "text": [
      "Welcome to the Calculator Program!\n",
      "Enter the first number: "
     ]
    },
    {
     "name": "stdout",
     "output_type": "stream",
     "text": [
      "1.1\n",
      "\n",
      "Enter the second number: 4.4\n",
      "Automatically determined data type: double\n",
      "\n",
      "Choose an operation:\n",
      "1. Addition (+)\n",
      "2. Subtraction (-)\n",
      "3. Multiplication (*)\n",
      "4. Division (/)\n",
      "Enter the operation number: \n",
      "The result of subtraction is: -3.3000000000000003\n"
     ]
    }
   ],
   "source": [
    "import java.util.Scanner;\n",
    "\n",
    "public class AutomaticDataTypeCalculator {\n",
    "    public static void main(String[] args) {\n",
    "        Scanner scanner = new Scanner(System.in);\n",
    "        System.out.println(\"Welcome to the Calculator Program!\");\n",
    "\n",
    "        // Get user input for numbers\n",
    "        System.out.print(\"Enter the first number: \");\n",
    "        double num1 = scanner.nextDouble();\n",
    "        boolean isNum1Int = num1 % 1 == 0;\n",
    "        if (isNum1Int){\n",
    "            int intNum1 = (int) num1;\n",
    "            System.out.println(intNum1);\n",
    "        }\n",
    "\n",
    "        else {\n",
    "            System.out.println(num1);\n",
    "        }\n",
    "\n",
    "        System.out.print(\"\\nEnter the second number: \");\n",
    "        double num2 = scanner.nextDouble();\n",
    "        boolean isNum2Int = num2 % 1 == 0;\n",
    "        if (isNum2Int){\n",
    "            int intNum2 = (int) num2;\n",
    "            System.out.println(intNum2);\n",
    "        }\n",
    "\n",
    "        else {\n",
    "            System.out.println(num2);\n",
    "        }\n",
    "\n",
    "        // Determine data type based on input\n",
    "        String dataType;\n",
    "        if (isNum1Int && isNum2Int) {\n",
    "            dataType = \"int\";\n",
    "        } else {\n",
    "            dataType = \"double\";\n",
    "        }\n",
    "\n",
    "        System.out.println(\"Automatically determined data type: \" + dataType);\n",
    "\n",
    "        System.out.println(\"\\nChoose an operation:\");\n",
    "        System.out.println(\"1. Addition (+)\");\n",
    "        System.out.println(\"2. Subtraction (-)\");\n",
    "        System.out.println(\"3. Multiplication (*)\");\n",
    "        System.out.println(\"4. Division (/)\");\n",
    "\n",
    "        System.out.print(\"Enter the operation number: \");\n",
    "        int choice = scanner.nextInt();\n",
    "\n",
    "        double result = 0.0;\n",
    "        String operation = \"\";\n",
    "\n",
    "        switch (choice) {\n",
    "            case 1:\n",
    "                result = num1 + num2;\n",
    "                operation = \"addition\";\n",
    "                break;\n",
    "            case 2:\n",
    "                result = num1 - num2;\n",
    "                operation = \"subtraction\";\n",
    "                break;\n",
    "            case 3:\n",
    "                result = num1 * num2;\n",
    "                operation = \"multiplication\";\n",
    "                break;\n",
    "            case 4:\n",
    "                if (num2 == 0) {\n",
    "                    System.out.println(\"Error: Division by zero is not allowed.\");\n",
    "                    return;\n",
    "                }\n",
    "                result = num1 / num2;\n",
    "                operation = \"division\";\n",
    "                break;\n",
    "            default:\n",
    "                System.out.println(\"Invalid operation number. Please choose 1, 2, 3, or 4.\");\n",
    "                return;\n",
    "        }\n",
    "\n",
    "        if (dataType.equals(\"int\")) {\n",
    "            int intResult = (int) result;\n",
    "            System.out.println(\"\\nThe result of \" + operation + \" is: \" + intResult);\n",
    "        } else {\n",
    "            System.out.println(\"\\nThe result of \" + operation + \" is: \" + result);\n",
    "        }\n",
    "    }\n",
    "}\n",
    "\n",
    "AutomaticDataTypeCalculator.main(null);\n"
   ]
  }
 ],
 "metadata": {
  "kernelspec": {
   "display_name": "Java",
   "language": "java",
   "name": "java"
  },
  "language_info": {
   "codemirror_mode": "java",
   "file_extension": ".jshell",
   "mimetype": "text/x-java-source",
   "name": "java",
   "pygments_lexer": "java",
   "version": "21+35-LTS-2513"
  },
  "orig_nbformat": 4
 },
 "nbformat": 4,
 "nbformat_minor": 2
}
